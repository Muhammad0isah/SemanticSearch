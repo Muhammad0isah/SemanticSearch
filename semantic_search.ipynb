{
 "cells": [
  {
   "cell_type": "markdown",
   "source": [
    "# Cross-Lingual Similarity and Semantic Search Engine with Cohere Multilingual API\n"
   ],
   "metadata": {
    "collapsed": false
   }
  },
  {
   "cell_type": "code",
   "execution_count": 1,
   "outputs": [
    {
     "name": "stderr",
     "output_type": "stream",
     "text": [
      "C:\\Users\\Muhammad\\anaconda3\\envs\\mtech\\lib\\site-packages\\umap\\distances.py:1063: NumbaDeprecationWarning: \u001B[1mThe 'nopython' keyword argument was not supplied to the 'numba.jit' decorator. The implicit default value for this argument is currently False, but it will be changed to True in Numba 0.59.0. See https://numba.readthedocs.io/en/stable/reference/deprecation.html#deprecation-of-object-mode-fall-back-behaviour-when-using-jit for details.\u001B[0m\n",
      "  @numba.jit()\n",
      "C:\\Users\\Muhammad\\anaconda3\\envs\\mtech\\lib\\site-packages\\umap\\distances.py:1071: NumbaDeprecationWarning: \u001B[1mThe 'nopython' keyword argument was not supplied to the 'numba.jit' decorator. The implicit default value for this argument is currently False, but it will be changed to True in Numba 0.59.0. See https://numba.readthedocs.io/en/stable/reference/deprecation.html#deprecation-of-object-mode-fall-back-behaviour-when-using-jit for details.\u001B[0m\n",
      "  @numba.jit()\n",
      "C:\\Users\\Muhammad\\anaconda3\\envs\\mtech\\lib\\site-packages\\umap\\distances.py:1086: NumbaDeprecationWarning: \u001B[1mThe 'nopython' keyword argument was not supplied to the 'numba.jit' decorator. The implicit default value for this argument is currently False, but it will be changed to True in Numba 0.59.0. See https://numba.readthedocs.io/en/stable/reference/deprecation.html#deprecation-of-object-mode-fall-back-behaviour-when-using-jit for details.\u001B[0m\n",
      "  @numba.jit()\n",
      "C:\\Users\\Muhammad\\anaconda3\\envs\\mtech\\lib\\site-packages\\umap\\umap_.py:660: NumbaDeprecationWarning: \u001B[1mThe 'nopython' keyword argument was not supplied to the 'numba.jit' decorator. The implicit default value for this argument is currently False, but it will be changed to True in Numba 0.59.0. See https://numba.readthedocs.io/en/stable/reference/deprecation.html#deprecation-of-object-mode-fall-back-behaviour-when-using-jit for details.\u001B[0m\n",
      "  @numba.jit()\n"
     ]
    }
   ],
   "source": [
    "import cohere\n",
    "import numpy as np\n",
    "import altair as alt\n",
    "from annoy import AnnoyIndex\n",
    "import pandas as pd\n",
    "import umap.umap_ as umap\n",
    "import re\n",
    "\n",
    "API_KEY = \"J0okVO9eZywR0IJc95qT5bpYTyV3ZPHgtbxXhxKR\"\n",
    "co = cohere.Client(API_KEY)\n"
   ],
   "metadata": {
    "collapsed": false
   }
  },
  {
   "cell_type": "markdown",
   "source": [
    "### Load the datasets\n"
   ],
   "metadata": {
    "collapsed": false
   }
  },
  {
   "cell_type": "code",
   "execution_count": 55,
   "outputs": [
    {
     "data": {
      "text/plain": "  id                                            ha_text  \\\n0  1  baka film din banza director allah ya dafa ni ...   \n1  2             allah ubangiji yaiwa rayuwarsa albarka   \n2  3  abu nafarko gamawa da duniya lafiya kuma inaso...   \n3  4                  allah yasa muyi kyakkyawan qarshe   \n4  5  ba wasa a fuskokinsu  may you succeed always guys   \n\n                                             ig_text  \\\n0                                 ndu chineke nyerem   \n1  np    onye eze      morningdrivelagos  moremus...   \n2                                   dal  ezigbo mmad   \n3  good afternoon hugeman   jj juventus gave napo...   \n4   my manchi like forever daal          b ch   nyem   \n\n                                          ha_ig_text  \n0  baka film din banza director allah ya dafa ni ...  \n1             allah ubangiji yaiwa rayuwarsa albarka  \n2  abu nafarko gamawa da duniya lafiya kuma inaso...  \n3                  allah yasa muyi kyakkyawan qarshe  \n4  ba wasa a fuskokinsu  may you succeed always guys  ",
      "text/html": "<div>\n<style scoped>\n    .dataframe tbody tr th:only-of-type {\n        vertical-align: middle;\n    }\n\n    .dataframe tbody tr th {\n        vertical-align: top;\n    }\n\n    .dataframe thead th {\n        text-align: right;\n    }\n</style>\n<table border=\"1\" class=\"dataframe\">\n  <thead>\n    <tr style=\"text-align: right;\">\n      <th></th>\n      <th>id</th>\n      <th>ha_text</th>\n      <th>ig_text</th>\n      <th>ha_ig_text</th>\n    </tr>\n  </thead>\n  <tbody>\n    <tr>\n      <th>0</th>\n      <td>1</td>\n      <td>baka film din banza director allah ya dafa ni ...</td>\n      <td>ndu chineke nyerem</td>\n      <td>baka film din banza director allah ya dafa ni ...</td>\n    </tr>\n    <tr>\n      <th>1</th>\n      <td>2</td>\n      <td>allah ubangiji yaiwa rayuwarsa albarka</td>\n      <td>np    onye eze      morningdrivelagos  moremus...</td>\n      <td>allah ubangiji yaiwa rayuwarsa albarka</td>\n    </tr>\n    <tr>\n      <th>2</th>\n      <td>3</td>\n      <td>abu nafarko gamawa da duniya lafiya kuma inaso...</td>\n      <td>dal  ezigbo mmad</td>\n      <td>abu nafarko gamawa da duniya lafiya kuma inaso...</td>\n    </tr>\n    <tr>\n      <th>3</th>\n      <td>4</td>\n      <td>allah yasa muyi kyakkyawan qarshe</td>\n      <td>good afternoon hugeman   jj juventus gave napo...</td>\n      <td>allah yasa muyi kyakkyawan qarshe</td>\n    </tr>\n    <tr>\n      <th>4</th>\n      <td>5</td>\n      <td>ba wasa a fuskokinsu  may you succeed always guys</td>\n      <td>my manchi like forever daal          b ch   nyem</td>\n      <td>ba wasa a fuskokinsu  may you succeed always guys</td>\n    </tr>\n  </tbody>\n</table>\n</div>"
     },
     "execution_count": 55,
     "metadata": {},
     "output_type": "execute_result"
    }
   ],
   "source": [
    "df = pd.read_csv(\"data/hau_ibo.csv\")\n",
    "df.head()"
   ],
   "metadata": {
    "collapsed": false
   }
  },
  {
   "cell_type": "markdown",
   "source": [
    "### Preprocess the datasets\n"
   ],
   "metadata": {
    "collapsed": false
   }
  },
  {
   "cell_type": "code",
   "execution_count": 58,
   "outputs": [
    {
     "data": {
      "text/plain": "  id                                            ha_text  \\\n0  1  baka film din banza director allah ya dafa ni ...   \n1  2             allah ubangiji yaiwa rayuwarsa albarka   \n2  3  abu nafarko gamawa da duniya lafiya kuma inaso...   \n3  4                  allah yasa muyi kyakkyawan qarshe   \n4  5   ba wasa a fuskokinsu may you succeed always guys   \n\n                                             ig_text  \\\n0                                 ndu chineke nyerem   \n1  np onye eze morningdrivelagos moremusicradio w...   \n2                                    dal ezigbo mmad   \n3  good afternoon hugeman jj juventus gave napoli...   \n4              my manchi like forever daal b ch nyem   \n\n                                          ha_ig_text  \n0  baka film din banza director allah ya dafa ni ...  \n1             allah ubangiji yaiwa rayuwarsa albarka  \n2  abu nafarko gamawa da duniya lafiya kuma inaso...  \n3                  allah yasa muyi kyakkyawan qarshe  \n4  ba wasa a fuskokinsu  may you succeed always guys  ",
      "text/html": "<div>\n<style scoped>\n    .dataframe tbody tr th:only-of-type {\n        vertical-align: middle;\n    }\n\n    .dataframe tbody tr th {\n        vertical-align: top;\n    }\n\n    .dataframe thead th {\n        text-align: right;\n    }\n</style>\n<table border=\"1\" class=\"dataframe\">\n  <thead>\n    <tr style=\"text-align: right;\">\n      <th></th>\n      <th>id</th>\n      <th>ha_text</th>\n      <th>ig_text</th>\n      <th>ha_ig_text</th>\n    </tr>\n  </thead>\n  <tbody>\n    <tr>\n      <th>0</th>\n      <td>1</td>\n      <td>baka film din banza director allah ya dafa ni ...</td>\n      <td>ndu chineke nyerem</td>\n      <td>baka film din banza director allah ya dafa ni ...</td>\n    </tr>\n    <tr>\n      <th>1</th>\n      <td>2</td>\n      <td>allah ubangiji yaiwa rayuwarsa albarka</td>\n      <td>np onye eze morningdrivelagos moremusicradio w...</td>\n      <td>allah ubangiji yaiwa rayuwarsa albarka</td>\n    </tr>\n    <tr>\n      <th>2</th>\n      <td>3</td>\n      <td>abu nafarko gamawa da duniya lafiya kuma inaso...</td>\n      <td>dal ezigbo mmad</td>\n      <td>abu nafarko gamawa da duniya lafiya kuma inaso...</td>\n    </tr>\n    <tr>\n      <th>3</th>\n      <td>4</td>\n      <td>allah yasa muyi kyakkyawan qarshe</td>\n      <td>good afternoon hugeman jj juventus gave napoli...</td>\n      <td>allah yasa muyi kyakkyawan qarshe</td>\n    </tr>\n    <tr>\n      <th>4</th>\n      <td>5</td>\n      <td>ba wasa a fuskokinsu may you succeed always guys</td>\n      <td>my manchi like forever daal b ch nyem</td>\n      <td>ba wasa a fuskokinsu  may you succeed always guys</td>\n    </tr>\n  </tbody>\n</table>\n</div>"
     },
     "execution_count": 58,
     "metadata": {},
     "output_type": "execute_result"
    }
   ],
   "source": [
    "def preprocess(text):\n",
    "    # Remove any non-alphanumeric characters\n",
    "    text = re.sub(r\"@[^\\s]+\", \"\", str(text))\n",
    "    text = re.sub(r\"http[^\\s]+\", \"\", str(text))\n",
    "    # Remove any extra whitespace\n",
    "    text = re.sub(r\"\\s+\", \" \", str(text))\n",
    "    # Convert to lowercase\n",
    "    text = text.lower()\n",
    "    return text\n",
    "\n",
    "df[\"ha_text\"] = df[\"ha_text\"].apply(preprocess)\n",
    "df[\"ig_text\"] = df[\"ig_text\"].apply(preprocess)\n",
    "df.head()\n"
   ],
   "metadata": {
    "collapsed": false
   }
  },
  {
   "cell_type": "code",
   "execution_count": 33,
   "outputs": [],
   "source": [],
   "metadata": {
    "collapsed": false
   }
  },
  {
   "cell_type": "markdown",
   "source": [],
   "metadata": {
    "collapsed": false
   }
  },
  {
   "cell_type": "markdown",
   "source": [],
   "metadata": {
    "collapsed": false
   }
  },
  {
   "cell_type": "code",
   "execution_count": 60,
   "outputs": [],
   "source": [
    "# Use the Cohere API to create embeddings for each sentence in the Hausa and Igbo from dataset\n",
    "embeddings = co.embed(df[\"ha_ig_text\"][:100].to_list(), model=\"embed-multilingual-v2.0\")\n",
    "embeddings = np.array(list(embeddings))"
   ],
   "metadata": {
    "collapsed": false
   }
  },
  {
   "cell_type": "markdown",
   "source": [],
   "metadata": {
    "collapsed": false
   }
  },
  {
   "cell_type": "code",
   "execution_count": 62,
   "outputs": [
    {
     "data": {
      "text/plain": "array([[ 0.41731507,  0.04754352,  0.31342632, ..., -0.02138824,\n         0.12995528, -0.10288824],\n       [ 0.44219264,  0.02415373,  0.23588851, ..., -0.10922535,\n         0.16411138,  0.27423725],\n       [ 0.35250703,  0.06677664,  0.331565  , ..., -0.33712032,\n         0.0125113 , -0.01478072],\n       ...,\n       [ 0.22549625,  0.08665128,  0.17888549, ..., -0.19686654,\n         0.12488741,  0.04754797],\n       [ 0.15011856,  0.04350951, -0.13691679, ..., -0.21984527,\n         0.01208592, -0.09014519],\n       [ 0.09198445, -0.11861288, -0.04043893, ..., -0.01114722,\n         0.00923344, -0.02196117]])"
     },
     "execution_count": 62,
     "metadata": {},
     "output_type": "execute_result"
    }
   ],
   "source": [
    "embeddings"
   ],
   "metadata": {
    "collapsed": false
   }
  },
  {
   "cell_type": "code",
   "execution_count": 61,
   "outputs": [
    {
     "data": {
      "text/plain": "True"
     },
     "execution_count": 61,
     "metadata": {},
     "output_type": "execute_result"
    }
   ],
   "source": [
    "# Use the embeddings to perform semantic search and find the most similar sentences in the  dataset\n",
    "results = []\n",
    "search_results = AnnoyIndex(embeddings.shape[1], 'angular')\n",
    "for i in range(len(embeddings)):\n",
    "    # Save the result as a tuple\n",
    "    search_results.add_item(i, embeddings[i])\n",
    "search_results.build(40)\n",
    "search_results.save('text.ann')"
   ],
   "metadata": {
    "collapsed": false
   }
  },
  {
   "cell_type": "markdown",
   "source": [
    "### Semantic search in Hausa Language"
   ],
   "metadata": {
    "collapsed": false
   }
  },
  {
   "cell_type": "code",
   "execution_count": 67,
   "outputs": [
    {
     "name": "stdout",
     "output_type": "stream",
     "text": [
      "Query:'bai hau ba har yanxu tukun amma yananan zuwa insha allah'\n",
      "Nearest neighbors:\n"
     ]
    },
    {
     "data": {
      "text/plain": "                                                texts  distance\n42         koma wanne irin nau i neh allah zai karemu  0.243861\n8   wannan gsky ne wallahi munacikin lahaula allah...  0.263540\n32  kuma dai ya allah mun mika lamuramu zuwa garek...  0.276408\n15  allah yashiryar damu baki dai wlh wasu mutane ...  0.282136\n46  allahu akbar allah ka kawo mana karshen wannan...  0.283701\n17                           allah ya sa mu dace amin  0.287117\n20  gamji mazan kwarai namiji uban yan boko allah ...  0.293154\n7                        toh allah ya sakawa yan gaza  0.309704\n28           allah yasa afara asa a allah yayi jagora  0.309827\n9   ya subhanallahi allah ya jiqansu ya gafarta mu...  0.311894",
      "text/html": "<div>\n<style scoped>\n    .dataframe tbody tr th:only-of-type {\n        vertical-align: middle;\n    }\n\n    .dataframe tbody tr th {\n        vertical-align: top;\n    }\n\n    .dataframe thead th {\n        text-align: right;\n    }\n</style>\n<table border=\"1\" class=\"dataframe\">\n  <thead>\n    <tr style=\"text-align: right;\">\n      <th></th>\n      <th>texts</th>\n      <th>distance</th>\n    </tr>\n  </thead>\n  <tbody>\n    <tr>\n      <th>42</th>\n      <td>koma wanne irin nau i neh allah zai karemu</td>\n      <td>0.243861</td>\n    </tr>\n    <tr>\n      <th>8</th>\n      <td>wannan gsky ne wallahi munacikin lahaula allah...</td>\n      <td>0.263540</td>\n    </tr>\n    <tr>\n      <th>32</th>\n      <td>kuma dai ya allah mun mika lamuramu zuwa garek...</td>\n      <td>0.276408</td>\n    </tr>\n    <tr>\n      <th>15</th>\n      <td>allah yashiryar damu baki dai wlh wasu mutane ...</td>\n      <td>0.282136</td>\n    </tr>\n    <tr>\n      <th>46</th>\n      <td>allahu akbar allah ka kawo mana karshen wannan...</td>\n      <td>0.283701</td>\n    </tr>\n    <tr>\n      <th>17</th>\n      <td>allah ya sa mu dace amin</td>\n      <td>0.287117</td>\n    </tr>\n    <tr>\n      <th>20</th>\n      <td>gamji mazan kwarai namiji uban yan boko allah ...</td>\n      <td>0.293154</td>\n    </tr>\n    <tr>\n      <th>7</th>\n      <td>toh allah ya sakawa yan gaza</td>\n      <td>0.309704</td>\n    </tr>\n    <tr>\n      <th>28</th>\n      <td>allah yasa afara asa a allah yayi jagora</td>\n      <td>0.309827</td>\n    </tr>\n    <tr>\n      <th>9</th>\n      <td>ya subhanallahi allah ya jiqansu ya gafarta mu...</td>\n      <td>0.311894</td>\n    </tr>\n  </tbody>\n</table>\n</div>"
     },
     "execution_count": 67,
     "metadata": {},
     "output_type": "execute_result"
    }
   ],
   "source": [
    "query = \"bai hau ba har yanxu tukun amma yananan zuwa insha allah\"\n",
    "\n",
    "# Get the query's embedding\n",
    "query_embed = co.embed(texts=[query],\n",
    "                  model=\"embed-multilingual-v2.0\").embeddings\n",
    "\n",
    "# Retrieve the nearest neighbors\n",
    "similar_item_ids = search_results.get_nns_by_vector(query_embed[0],10,\n",
    "                                                include_distances=True)\n",
    "# Format the results\n",
    "results = pd.DataFrame(data={'texts': df.iloc[similar_item_ids[0]]['ha_text'],\n",
    "                             'distance': similar_item_ids[1]})\n",
    "\n",
    "\n",
    "print(f\"Query:'{query}'\\nNearest neighbors:\")\n",
    "results"
   ],
   "metadata": {
    "collapsed": false
   }
  },
  {
   "cell_type": "markdown",
   "source": [
    "### Semantic search in Igbo Language"
   ],
   "metadata": {
    "collapsed": false
   }
  },
  {
   "cell_type": "code",
   "execution_count": 70,
   "outputs": [
    {
     "name": "stdout",
     "output_type": "stream",
     "text": [
      "Query:'mangala na ato m gwogwo ezigbo azu'\n",
      "Nearest neighbors:\n"
     ]
    },
    {
     "data": {
      "text/plain": "                                                texts  distance\n98  thank you jesus onye nwe anyi imela goodmornin...  0.257605\n92         good morning ndi n anyi bia ka anyi rie cc  0.258559\n74  igbo amaka dimkpa anagh a ka nk n egwu ma a gb...  0.263173\n82                 ezenkwobi ny spare parts na agbani  0.266020\n59                             haew god ezigbo nwanyi  0.267447\n91  odogwu na agha dike na agha nara ekele odogwu ...  0.273286\n87  time for our thanksgiving dance and procession...  0.282777\n73  chukwu oma onyeoma na chukwu oma onyeoma na ch...  0.285421\n54  jehovah idi egwu jehovah idi egwu praise faran...  0.286639\n96                         ogssian nwanne udo diri gi  0.287594",
      "text/html": "<div>\n<style scoped>\n    .dataframe tbody tr th:only-of-type {\n        vertical-align: middle;\n    }\n\n    .dataframe tbody tr th {\n        vertical-align: top;\n    }\n\n    .dataframe thead th {\n        text-align: right;\n    }\n</style>\n<table border=\"1\" class=\"dataframe\">\n  <thead>\n    <tr style=\"text-align: right;\">\n      <th></th>\n      <th>texts</th>\n      <th>distance</th>\n    </tr>\n  </thead>\n  <tbody>\n    <tr>\n      <th>98</th>\n      <td>thank you jesus onye nwe anyi imela goodmornin...</td>\n      <td>0.257605</td>\n    </tr>\n    <tr>\n      <th>92</th>\n      <td>good morning ndi n anyi bia ka anyi rie cc</td>\n      <td>0.258559</td>\n    </tr>\n    <tr>\n      <th>74</th>\n      <td>igbo amaka dimkpa anagh a ka nk n egwu ma a gb...</td>\n      <td>0.263173</td>\n    </tr>\n    <tr>\n      <th>82</th>\n      <td>ezenkwobi ny spare parts na agbani</td>\n      <td>0.266020</td>\n    </tr>\n    <tr>\n      <th>59</th>\n      <td>haew god ezigbo nwanyi</td>\n      <td>0.267447</td>\n    </tr>\n    <tr>\n      <th>91</th>\n      <td>odogwu na agha dike na agha nara ekele odogwu ...</td>\n      <td>0.273286</td>\n    </tr>\n    <tr>\n      <th>87</th>\n      <td>time for our thanksgiving dance and procession...</td>\n      <td>0.282777</td>\n    </tr>\n    <tr>\n      <th>73</th>\n      <td>chukwu oma onyeoma na chukwu oma onyeoma na ch...</td>\n      <td>0.285421</td>\n    </tr>\n    <tr>\n      <th>54</th>\n      <td>jehovah idi egwu jehovah idi egwu praise faran...</td>\n      <td>0.286639</td>\n    </tr>\n    <tr>\n      <th>96</th>\n      <td>ogssian nwanne udo diri gi</td>\n      <td>0.287594</td>\n    </tr>\n  </tbody>\n</table>\n</div>"
     },
     "execution_count": 70,
     "metadata": {},
     "output_type": "execute_result"
    }
   ],
   "source": [
    "query = \"mangala na ato m gwogwo ezigbo azu\"\n",
    "\n",
    "# Get the query's embedding\n",
    "query_embed = co.embed(texts=[query],\n",
    "                  model=\"embed-multilingual-v2.0\").embeddings\n",
    "\n",
    "# Retrieve the nearest neighbors\n",
    "similar_item_ids = search_results.get_nns_by_vector(query_embed[0],10,\n",
    "                                                include_distances=True)\n",
    "# Format the results\n",
    "results = pd.DataFrame(data={'texts': df.iloc[similar_item_ids[0]]['ig_text'],\n",
    "                             'distance': similar_item_ids[1]})\n",
    "\n",
    "\n",
    "print(f\"Query:'{query}'\\nNearest neighbors:\")\n",
    "results"
   ],
   "metadata": {
    "collapsed": false
   }
  },
  {
   "cell_type": "code",
   "execution_count": 74,
   "outputs": [
    {
     "data": {
      "text/html": "\n<div id=\"altair-viz-9580c93601ba435f945f134ea0205c68\"></div>\n<script type=\"text/javascript\">\n  var VEGA_DEBUG = (typeof VEGA_DEBUG == \"undefined\") ? {} : VEGA_DEBUG;\n  (function(spec, embedOpt){\n    let outputDiv = document.currentScript.previousElementSibling;\n    if (outputDiv.id !== \"altair-viz-9580c93601ba435f945f134ea0205c68\") {\n      outputDiv = document.getElementById(\"altair-viz-9580c93601ba435f945f134ea0205c68\");\n    }\n    const paths = {\n      \"vega\": \"https://cdn.jsdelivr.net/npm//vega@5?noext\",\n      \"vega-lib\": \"https://cdn.jsdelivr.net/npm//vega-lib?noext\",\n      \"vega-lite\": \"https://cdn.jsdelivr.net/npm//vega-lite@4.17.0?noext\",\n      \"vega-embed\": \"https://cdn.jsdelivr.net/npm//vega-embed@6?noext\",\n    };\n\n    function maybeLoadScript(lib, version) {\n      var key = `${lib.replace(\"-\", \"\")}_version`;\n      return (VEGA_DEBUG[key] == version) ?\n        Promise.resolve(paths[lib]) :\n        new Promise(function(resolve, reject) {\n          var s = document.createElement('script');\n          document.getElementsByTagName(\"head\")[0].appendChild(s);\n          s.async = true;\n          s.onload = () => {\n            VEGA_DEBUG[key] = version;\n            return resolve(paths[lib]);\n          };\n          s.onerror = () => reject(`Error loading script: ${paths[lib]}`);\n          s.src = paths[lib];\n        });\n    }\n\n    function showError(err) {\n      outputDiv.innerHTML = `<div class=\"error\" style=\"color:red;\">${err}</div>`;\n      throw err;\n    }\n\n    function displayChart(vegaEmbed) {\n      vegaEmbed(outputDiv, spec, embedOpt)\n        .catch(err => showError(`Javascript Error: ${err.message}<br>This usually means there's a typo in your chart specification. See the javascript console for the full traceback.`));\n    }\n\n    if(typeof define === \"function\" && define.amd) {\n      requirejs.config({paths});\n      require([\"vega-embed\"], displayChart, err => showError(`Error loading script: ${err.message}`));\n    } else {\n      maybeLoadScript(\"vega\", \"5\")\n        .then(() => maybeLoadScript(\"vega-lite\", \"4.17.0\"))\n        .then(() => maybeLoadScript(\"vega-embed\", \"6\"))\n        .catch(showError)\n        .then(() => displayChart(vegaEmbed));\n    }\n  })({\"config\": {\"view\": {\"continuousWidth\": 400, \"continuousHeight\": 300}}, \"data\": {\"name\": \"data-15fde31980414c5676607ffff3b9edb8\"}, \"mark\": {\"type\": \"circle\", \"size\": 60}, \"encoding\": {\"tooltip\": [{\"field\": \"text\", \"type\": \"nominal\"}], \"x\": {\"field\": \"x\", \"scale\": {\"zero\": false}, \"type\": \"quantitative\"}, \"y\": {\"field\": \"y\", \"scale\": {\"zero\": false}, \"type\": \"quantitative\"}}, \"height\": 400, \"selection\": {\"selector003\": {\"type\": \"interval\", \"bind\": \"scales\", \"encodings\": [\"x\", \"y\"]}}, \"width\": 700, \"$schema\": \"https://vega.github.io/schema/vega-lite/v4.17.0.json\", \"datasets\": {\"data-15fde31980414c5676607ffff3b9edb8\": [{\"text\": \"baka film din banza director allah ya dafa ni nasan zai yi daidai da abnd ake bukata\", \"x\": 0.9821973443031311, \"y\": 7.466436862945557}, {\"text\": \"allah ubangiji yaiwa rayuwarsa albarka\", \"x\": 2.501434564590454, \"y\": 7.718735694885254}, {\"text\": \"abu nafarko gamawa da duniya lafiya kuma inason ingama da uwayena lafiya sannan arzikin duniya dana lahira  sannan inason ganin annabi  s a w  koda cikin mafarkinane   gaskiya dai kuma inason aur\", \"x\": 1.9777201414108276, \"y\": 6.626661777496338}, {\"text\": \"allah yasa muyi kyakkyawan qarshe\", \"x\": 2.484520673751831, \"y\": 6.7847795486450195}, {\"text\": \"ba wasa a fuskokinsu  may you succeed always guys\", \"x\": 7.918675422668457, \"y\": 4.976893424987793}, {\"text\": \"aslm bbc hausa tambaya ta itace shekara bbc hausa nawa kuma a wace kasa takene nagode   fatan alkairi\", \"x\": 1.4759371280670166, \"y\": 7.096365928649902}, {\"text\": \"allah yasa donal trump y kawo w buhari ziyara suyi hanu biyu d shi amin\", \"x\": 2.0917437076568604, \"y\": 6.100099086761475}, {\"text\": \"toh allah ya sakawa yan gaza\", \"x\": 2.024183750152588, \"y\": 6.980075836181641}, {\"text\": \"wannan gsky ne wallahi munacikin lahaula allah muke roqo daya kawo mana daukinsa\", \"x\": 1.0634247064590454, \"y\": 6.441295623779297}, {\"text\": \"ya subhanallahi   allah ya jiqansu ya gafarta musu ameen\", \"x\": 2.7894320487976074, \"y\": 7.319347858428955}, {\"text\": \"ah lallai ka burge\", \"x\": 1.7440768480300903, \"y\": 6.583746910095215}, {\"text\": \"a haba dai kano pillars    allah ya bashi team a chan inda take\", \"x\": 1.1940280199050903, \"y\": 7.00246524810791}, {\"text\": \"ba a cewa                  ya mutu                  kamarh dabba  sai dey ace                 yarasu                 allah ya mugane amen\", \"x\": 2.1308820247650146, \"y\": 8.110885620117188}, {\"text\": \"gsky ne allah ya taimaki\", \"x\": 2.5771539211273193, \"y\": 6.682719707489014}, {\"text\": \"sister dinki tayi kyau sosai\", \"x\": 4.645761489868164, \"y\": 6.373502731323242}, {\"text\": \"allah yashiryar damu baki dai wlh wasu mutane akwai sheri garesu\", \"x\": 1.563195824623108, \"y\": 6.417048454284668}, {\"text\": \"allahu akbar allah yaqara nisan kwana mai amfani daga bakin jikan mal  arzika dan nepu sokoto state bodinga l g ketaeren sawaba area\", \"x\": 1.635749101638794, \"y\": 7.057871341705322}, {\"text\": \"allah ya sa mu dace amin\", \"x\": 2.3560612201690674, \"y\": 6.93905782699585}, {\"text\": \"gsky hirar nan tae dadi allah ya taemaka\", \"x\": 2.7789387702941895, \"y\": 6.881004810333252}, {\"text\": \"idan ansamu iphone 1 in aso\", \"x\": 3.6085245609283447, \"y\": 7.033736228942871}, {\"text\": \"gamji mazan kwarai namiji uban yan boko  allah ya qara haskaka makwanci\", \"x\": 1.2366442680358887, \"y\": 6.603120803833008}, {\"text\": \"ko babu komai akwai araha\", \"x\": 1.5340300798416138, \"y\": 6.260560989379883}, {\"text\": \"allah yakara jagora\", \"x\": 2.2420146465301514, \"y\": 7.3962321281433105}, {\"text\": \"dan allah a ina xan samu complete shirinku da kukeyi mai suna dan birni i m in love with the movie  thanks   allah ya kara daukaka\", \"x\": 0.8784438967704773, \"y\": 7.577689170837402}, {\"text\": \"allah ya karemana kasarmu tagado nigeria da kare warsa daga sharrin yan siyasa ameeeeeeeeeen\", \"x\": 2.018946886062622, \"y\": 5.817473411560059}, {\"text\": \"masha allah  muna godiya da aikin megida\", \"x\": 0.916654109954834, \"y\": 6.656286716461182}, {\"text\": \"show love to rahama sadau\", \"x\": 4.082791328430176, \"y\": 6.953744411468506}, {\"text\": \"good haka muke so yan man united ayi hakure sai next level\", \"x\": 1.1261523962020874, \"y\": 7.089015960693359}, {\"text\": \"allah yasa afara asa a allah yayi jagora\", \"x\": 2.0938432216644287, \"y\": 7.237979888916016}, {\"text\": \"allah ya sauwaqe mata wannan jarrabawar\", \"x\": 1.760406494140625, \"y\": 6.8063483238220215}, {\"text\": \"allah ya fiddasu lafiya   alfarmar annabi muhammad s a w\", \"x\": 2.4540750980377197, \"y\": 7.776392459869385}, {\"text\": \"allah ya sa ka da alkharin sa\", \"x\": 2.020371675491333, \"y\": 7.624212265014648}, {\"text\": \"kuma dai ya allah mun mika lamuramu zuwa gareka ya allah ka kawo mana mafeta kasa ta nageria ya allah kai ne maji rokon bayinka amin ya hauyu ya kauyumu\", \"x\": 1.2442699670791626, \"y\": 5.926609516143799}, {\"text\": \"amin y rabbi dama allah swt y halicche mu sannan y ban ban tamu t bangaren yare   al adu d kuma kabilu ba don komai bah se dan wannan dalilan allah y karo mana lpy d zaman lpy gami d yalwar arzik\", \"x\": 1.4667813777923584, \"y\": 6.092268943786621}, {\"text\": \"congratulations zamuzo musha kaman ba gobe\", \"x\": 7.736075401306152, \"y\": 5.067569732666016}, {\"text\": \"congratulations stardom har birnin sin\", \"x\": 1.9021196365356445, \"y\": 7.369276523590088}, {\"text\": \"allah yajikansa da rahma yasa albarka ga iyalansa daya bari amen\", \"x\": 1.9118258953094482, \"y\": 7.9105143547058105}, {\"text\": \"mashaallah allah ya kara daukaka darajar wanan film allah ya nuna mana kizo jahar katsina domin haska mana shi a cinema amin\", \"x\": 1.0606422424316406, \"y\": 7.748141765594482}, {\"text\": \"allah ka yaye mana wadannan masifu a nigeria\", \"x\": 2.2785871028900146, \"y\": 5.979246139526367}, {\"text\": \"toh mudae wannan cutar allah ya karu mu  kuma mutane sugane cewa idan kaga gemun dan uwanka yakama da wuta toh ka yai yafa ma naka ruwa\", \"x\": 1.7184926271438599, \"y\": 6.004870891571045}, {\"text\": \"yaye kyau    gaskiya mahmud yana playing role mai wuya a wannan shirrin labarin\", \"x\": 0.8927075266838074, \"y\": 6.746359348297119}, {\"text\": \"allhmdllh      allah yatona asirinsu\", \"x\": 3.198148727416992, \"y\": 7.333988666534424}, {\"text\": \"koma wanne irin nau i neh allah zai karemu\", \"x\": 1.948479413986206, \"y\": 6.50570011138916}, {\"text\": \"ameen  may aljanna be their final abode\", \"x\": 3.1492209434509277, \"y\": 7.150601387023926}, {\"text\": \"allah ya tsare da gaba\", \"x\": 2.448936700820923, \"y\": 7.242215633392334}, {\"text\": \"mukam muna biyayya ga gwamnati duk abunda tace idan bawai yasaba mawa addinin islama bane muna masu biyayya yauwa\", \"x\": 1.3072509765625, \"y\": 6.225203514099121}, {\"text\": \"allahu akbar  allah ka kawo mana karshen wannan bala i\", \"x\": 2.212360382080078, \"y\": 6.376517295837402}, {\"text\": \"tsakani da allah in ba a yi hankali ba sai    sudan ta koma    libiya\", \"x\": 2.113574743270874, \"y\": 6.323049068450928}, {\"text\": \"happy birthday ezigbo nne mu ochie ka ife nile bu ife oma  aru isi ike n ogologo ndu buru nke gi  now and forever   amen\", \"x\": 8.186688423156738, \"y\": 5.775051593780518}, {\"text\": \"o biliwo o biliwo jesu apoburu nelu obe onye mmeri\", \"x\": 7.178910255432129, \"y\": 5.36723518371582}, {\"text\": \"nsogbu ad gh   omego n   nwa an  kita  nke ah  agbag   niru niru k any  n eje\", \"x\": 6.244266986846924, \"y\": 6.079394817352295}, {\"text\": \"m  asa  gb  makata    so mma\", \"x\": 5.976912975311279, \"y\": 5.993882656097412}, {\"text\": \"wow        chidozie      ji si ike\", \"x\": 7.14895486831665, \"y\": 5.4658637046813965}, {\"text\": \"jehovah idi egwu jehovah idi egwu  praise  farandmode\", \"x\": 7.241347789764404, \"y\": 6.2457966804504395}, {\"text\": \"ekele d r  g  chukwuabiama     b ara egbu m  gbuo onwe ya  chineke  m  ntak r  daal  oo\", \"x\": 7.55343770980835, \"y\": 5.620428562164307}, {\"text\": \"nnem chukwu go zie g  na nk  i kw r\", \"x\": 6.760649681091309, \"y\": 7.082184791564941}, {\"text\": \"igbo medley by    inspirationalhour with umu chineke eee\", \"x\": 6.31107759475708, \"y\": 4.989100933074951}, {\"text\": \"nwaeze adighi efu n mba\", \"x\": 5.992432594299316, \"y\": 5.5661115646362305}, {\"text\": \"haew god  ezigbo nwanyi\", \"x\": 6.473778247833252, \"y\": 6.620919227600098}, {\"text\": \"ar r    ewo   jee nke  ma  gbu  j\", \"x\": 6.333295822143555, \"y\": 5.944159030914307}, {\"text\": \"hbd onyeoma  chukwu gozie gi   more hits  birikwa blessings lagos state house of\", \"x\": 8.082115173339844, \"y\": 6.487454414367676}, {\"text\": \"singing  onye neme mma lekwe ikperem nala      imela  africanpraise\", \"x\": 6.2009501457214355, \"y\": 5.130609035491943}, {\"text\": \"happy birthday nne   chukwu gozie gi ofuma\", \"x\": 8.394265174865723, \"y\": 6.151968479156494}, {\"text\": \"happy birthday chinecherem  okenwa  chukwu goziwerem gi    aka na emebe akwa umu nwoke na uzo opuruiche  golibe\", \"x\": 8.290556907653809, \"y\": 5.891031265258789}, {\"text\": \"nsogbu adighi  kachifo\", \"x\": 5.6151123046875, \"y\": 6.124500274658203}, {\"text\": \"ekele na nsopuru diri gi chiokike maka ndu i nyere anyi  ahu ike na amara     riwo otito\", \"x\": 7.7171854972839355, \"y\": 5.761226177215576}, {\"text\": \"kedu ka   mere ezigbo eyin m\", \"x\": 7.07520866394043, \"y\": 5.188610553741455}, {\"text\": \"otua ka chineke anyi di eh agidigba eh eh eh   waciservice1  hbdrevgodwinabba\", \"x\": 6.7378764152526855, \"y\": 6.043140411376953}, {\"text\": \"t t   ma nwanne\", \"x\": 5.985841751098633, \"y\": 6.517202377319336}, {\"text\": \"jesus igwe ezeoha\", \"x\": 6.859585285186768, \"y\": 6.552868843078613}, {\"text\": \"i b  chukwu   b gh  mmad  you are god you re not man  i b  chukwu   b gh  mmad  i b  chukwu   b gh  mmad  i b  chukwu   b gh  mmad  na you be god almighty god you no be man oh you no be man oh\", \"x\": 7.600325107574463, \"y\": 6.842820167541504}, {\"text\": \"nne i s r  ike o\", \"x\": 5.8246283531188965, \"y\": 6.595679759979248}, {\"text\": \"chukwu oma onyeoma na   chukwu oma onyeoma na   chukwu oma chobioma    praising god in a special\", \"x\": 7.829357147216797, \"y\": 6.689271926879883}, {\"text\": \"igbo amaka dimkpa anagh  a ka nk  n egwu   ma a gb   egwu ichaka\", \"x\": 6.289803504943848, \"y\": 5.3760528564453125}, {\"text\": \"biri kam biri egbe bere ugo bere  nke si ibeya ebele  nkw  kwa ya\", \"x\": 6.527204513549805, \"y\": 5.186525821685791}, {\"text\": \"oga nd  oga\", \"x\": 5.902822017669678, \"y\": 6.442638397216797}, {\"text\": \"auntie ngo i like ya dress  omara ezigbo mma\", \"x\": 5.74719762802124, \"y\": 5.770157814025879}, {\"text\": \"happy birthday mazi iga adi ka echi makana echi adi agwu agwu  onyenweanyi gozie gi\", \"x\": 7.96525764465332, \"y\": 5.982100963592529}, {\"text\": \"ndewo nwoke  ma\", \"x\": 6.028482437133789, \"y\": 6.971367359161377}, {\"text\": \"nd  nke m\", \"x\": 5.784197807312012, \"y\": 6.868688583374023}, {\"text\": \"okonkwo in things fall apart   ka chukwu okike abiama chekwa gi  nye gi ahu ike n ogologo ndu\", \"x\": 7.357975482940674, \"y\": 6.348158836364746}, {\"text\": \"ezenkwobi  ny  spare parts na agbani\", \"x\": 6.568889141082764, \"y\": 5.40432596206665}, {\"text\": \"ekele dibia gworo akidi  ya agwota ozo\", \"x\": 7.2550435066223145, \"y\": 5.874464511871338}, {\"text\": \"onye eze   udo di ri gi onye oma  more grace as you reach out to the masses in imo state  remember me kwanu e don tey na\", \"x\": 7.492915630340576, \"y\": 5.820990562438965}, {\"text\": \"biko ndi obodoukwu nwere umu asa di sharp bonario tell her pls\", \"x\": 6.69571590423584, \"y\": 5.410610198974609}, {\"text\": \"even contact his suppliers in china  chukwu mekwalu nd  ya ebele\", \"x\": 6.573326587677002, \"y\": 7.08449125289917}, {\"text\": \"time for our  thanksgiving dance and procession  nagode jesu ibu chukwu onye dinma oluwa etobi      thanksgivingsunday  talagos\", \"x\": 8.258842468261719, \"y\": 6.1531805992126465}, {\"text\": \"lmao  chukwu gba gi ume\", \"x\": 7.047071933746338, \"y\": 6.902306079864502}, {\"text\": \"np chukwu agozi go gi   ft lucy q       dreamlounge with    tgif  turnup\", \"x\": 7.042086601257324, \"y\": 7.110687255859375}, {\"text\": \"it s the  thefirstflight2theweekend w   x  np chukwu agozi di gi ft\", \"x\": 7.273763656616211, \"y\": 6.969940185546875}, {\"text\": \"odogwu na agha dike na agha nara ekele odogwu na agha dike na agha nara ekele olisa kere uwa chukwu na eme nma agam buru hallelujah eburu bu gara jehovah  mercyconference2021\", \"x\": 7.657511234283447, \"y\": 6.1693596839904785}, {\"text\": \"good morning    ndi n anyi    bia ka anyi rie cc\", \"x\": 5.673158168792725, \"y\": 5.68145227432251}, {\"text\": \"jesus  aka m d  elu e jesus  ikpere m di na  l\", \"x\": 6.700633525848389, \"y\": 6.173771381378174}, {\"text\": \"nwa na asu igbo  obi dim uto  ada kedu\", \"x\": 6.777152061462402, \"y\": 5.841472148895264}, {\"text\": \"nna  jide ka iji\", \"x\": 6.288350582122803, \"y\": 6.418526649475098}, {\"text\": \"ogssian nwanne  udo diri gi\", \"x\": 7.03602409362793, \"y\": 5.940906047821045}, {\"text\": \"ututu oma nna o  kedu\", \"x\": 6.32261848449707, \"y\": 6.703315734863281}, {\"text\": \"thank you jesus  onye nwe anyi imela    goodmorningenugu  goodmorningenugu2018\", \"x\": 7.740151882171631, \"y\": 5.399402141571045}, {\"text\": \"chai    i na agba mbo ofuma  jisie ike\", \"x\": 6.347548484802246, \"y\": 5.749448299407959}, {\"text\": \"igbo ndi oma  ndewonu  bia soro noria na oge  obinwanne  ubochim cc\", \"x\": 6.420589923858643, \"y\": 5.287651062011719}]}}, {\"mode\": \"vega-lite\"});\n</script>",
      "text/plain": "alt.Chart(...)"
     },
     "execution_count": 73,
     "metadata": {},
     "output_type": "execute_result"
    },
    {
     "data": {
      "text/html": "\n<div id=\"altair-viz-0f050fd6885b4176af04717434e44a82\"></div>\n<script type=\"text/javascript\">\n  var VEGA_DEBUG = (typeof VEGA_DEBUG == \"undefined\") ? {} : VEGA_DEBUG;\n  (function(spec, embedOpt){\n    let outputDiv = document.currentScript.previousElementSibling;\n    if (outputDiv.id !== \"altair-viz-0f050fd6885b4176af04717434e44a82\") {\n      outputDiv = document.getElementById(\"altair-viz-0f050fd6885b4176af04717434e44a82\");\n    }\n    const paths = {\n      \"vega\": \"https://cdn.jsdelivr.net/npm//vega@5?noext\",\n      \"vega-lib\": \"https://cdn.jsdelivr.net/npm//vega-lib?noext\",\n      \"vega-lite\": \"https://cdn.jsdelivr.net/npm//vega-lite@4.17.0?noext\",\n      \"vega-embed\": \"https://cdn.jsdelivr.net/npm//vega-embed@6?noext\",\n    };\n\n    function maybeLoadScript(lib, version) {\n      var key = `${lib.replace(\"-\", \"\")}_version`;\n      return (VEGA_DEBUG[key] == version) ?\n        Promise.resolve(paths[lib]) :\n        new Promise(function(resolve, reject) {\n          var s = document.createElement('script');\n          document.getElementsByTagName(\"head\")[0].appendChild(s);\n          s.async = true;\n          s.onload = () => {\n            VEGA_DEBUG[key] = version;\n            return resolve(paths[lib]);\n          };\n          s.onerror = () => reject(`Error loading script: ${paths[lib]}`);\n          s.src = paths[lib];\n        });\n    }\n\n    function showError(err) {\n      outputDiv.innerHTML = `<div class=\"error\" style=\"color:red;\">${err}</div>`;\n      throw err;\n    }\n\n    function displayChart(vegaEmbed) {\n      vegaEmbed(outputDiv, spec, embedOpt)\n        .catch(err => showError(`Javascript Error: ${err.message}<br>This usually means there's a typo in your chart specification. See the javascript console for the full traceback.`));\n    }\n\n    if(typeof define === \"function\" && define.amd) {\n      requirejs.config({paths});\n      require([\"vega-embed\"], displayChart, err => showError(`Error loading script: ${err.message}`));\n    } else {\n      maybeLoadScript(\"vega\", \"5\")\n        .then(() => maybeLoadScript(\"vega-lite\", \"4.17.0\"))\n        .then(() => maybeLoadScript(\"vega-embed\", \"6\"))\n        .catch(showError)\n        .then(() => displayChart(vegaEmbed));\n    }\n  })({\"config\": {\"view\": {\"continuousWidth\": 400, \"continuousHeight\": 300}}, \"data\": {\"name\": \"data-59f46bbc2fc5574692e8b3f8554a9c69\"}, \"mark\": {\"type\": \"circle\", \"size\": 60}, \"encoding\": {\"tooltip\": [{\"field\": \"text\", \"type\": \"nominal\"}], \"x\": {\"field\": \"x\", \"scale\": {\"zero\": false}, \"type\": \"quantitative\"}, \"y\": {\"field\": \"y\", \"scale\": {\"zero\": false}, \"type\": \"quantitative\"}}, \"height\": 400, \"selection\": {\"selector004\": {\"type\": \"interval\", \"bind\": \"scales\", \"encodings\": [\"x\", \"y\"]}}, \"width\": 700, \"$schema\": \"https://vega.github.io/schema/vega-lite/v4.17.0.json\", \"datasets\": {\"data-59f46bbc2fc5574692e8b3f8554a9c69\": [{\"text\": \"baka film din banza director allah ya dafa ni nasan zai yi daidai da abnd ake bukata\", \"x\": 2.6769955158233643, \"y\": 5.1496992111206055}, {\"text\": \"allah ubangiji yaiwa rayuwarsa albarka\", \"x\": 4.457995414733887, \"y\": 5.133861541748047}, {\"text\": \"abu nafarko gamawa da duniya lafiya kuma inason ingama da uwayena lafiya sannan arzikin duniya dana lahira  sannan inason ganin annabi  s a w  koda cikin mafarkinane   gaskiya dai kuma inason aur\", \"x\": 2.9875879287719727, \"y\": 4.18754243850708}, {\"text\": \"allah yasa muyi kyakkyawan qarshe\", \"x\": 4.101677894592285, \"y\": 5.364233493804932}, {\"text\": \"ba wasa a fuskokinsu  may you succeed always guys\", \"x\": 6.407426357269287, \"y\": 8.175792694091797}, {\"text\": \"aslm bbc hausa tambaya ta itace shekara bbc hausa nawa kuma a wace kasa takene nagode   fatan alkairi\", \"x\": 2.7579469680786133, \"y\": 4.112186908721924}, {\"text\": \"allah yasa donal trump y kawo w buhari ziyara suyi hanu biyu d shi amin\", \"x\": 4.294666767120361, \"y\": 3.806112289428711}, {\"text\": \"toh allah ya sakawa yan gaza\", \"x\": 3.9657561779022217, \"y\": 4.405078887939453}, {\"text\": \"wannan gsky ne wallahi munacikin lahaula allah muke roqo daya kawo mana daukinsa\", \"x\": 3.0697293281555176, \"y\": 4.798738479614258}, {\"text\": \"ya subhanallahi   allah ya jiqansu ya gafarta musu ameen\", \"x\": 4.671502113342285, \"y\": 4.707591533660889}, {\"text\": \"ah lallai ka burge\", \"x\": 3.476646900177002, \"y\": 5.082037925720215}, {\"text\": \"a haba dai kano pillars    allah ya bashi team a chan inda take\", \"x\": 2.757828950881958, \"y\": 4.584157466888428}, {\"text\": \"ba a cewa                  ya mutu                  kamarh dabba  sai dey ace                 yarasu                 allah ya mugane amen\", \"x\": 3.951310873031616, \"y\": 4.927814960479736}, {\"text\": \"gsky ne allah ya taimaki\", \"x\": 3.654034376144409, \"y\": 5.405126094818115}, {\"text\": \"sister dinki tayi kyau sosai\", \"x\": 6.490041255950928, \"y\": 7.2184319496154785}, {\"text\": \"allah yashiryar damu baki dai wlh wasu mutane akwai sheri garesu\", \"x\": 3.1483936309814453, \"y\": 3.993572235107422}, {\"text\": \"allahu akbar allah yaqara nisan kwana mai amfani daga bakin jikan mal  arzika dan nepu sokoto state bodinga l g ketaeren sawaba area\", \"x\": 4.0228471755981445, \"y\": 4.082441806793213}, {\"text\": \"allah ya sa mu dace amin\", \"x\": 4.340640544891357, \"y\": 4.680237770080566}, {\"text\": \"gsky hirar nan tae dadi allah ya taemaka\", \"x\": 4.202535152435303, \"y\": 5.663191318511963}, {\"text\": \"idan ansamu iphone 1 in aso\", \"x\": 5.270183563232422, \"y\": 5.767193794250488}, {\"text\": \"gamji mazan kwarai namiji uban yan boko  allah ya qara haskaka makwanci\", \"x\": 3.116443634033203, \"y\": 4.5279717445373535}, {\"text\": \"ko babu komai akwai araha\", \"x\": 3.2040352821350098, \"y\": 4.374966144561768}, {\"text\": \"allah yakara jagora\", \"x\": 4.244288444519043, \"y\": 4.885242462158203}, {\"text\": \"dan allah a ina xan samu complete shirinku da kukeyi mai suna dan birni i m in love with the movie  thanks   allah ya kara daukaka\", \"x\": 2.7357611656188965, \"y\": 5.207759857177734}, {\"text\": \"allah ya karemana kasarmu tagado nigeria da kare warsa daga sharrin yan siyasa ameeeeeeeeeen\", \"x\": 4.011549949645996, \"y\": 3.7437164783477783}, {\"text\": \"masha allah  muna godiya da aikin megida\", \"x\": 3.2950797080993652, \"y\": 4.909141540527344}, {\"text\": \"show love to rahama sadau\", \"x\": 5.816304683685303, \"y\": 6.458968162536621}, {\"text\": \"good haka muke so yan man united ayi hakure sai next level\", \"x\": 2.7599356174468994, \"y\": 4.724660396575928}, {\"text\": \"allah yasa afara asa a allah yayi jagora\", \"x\": 4.050453186035156, \"y\": 4.7154717445373535}, {\"text\": \"allah ya sauwaqe mata wannan jarrabawar\", \"x\": 3.5636818408966064, \"y\": 4.513559818267822}, {\"text\": \"allah ya fiddasu lafiya   alfarmar annabi muhammad s a w\", \"x\": 4.6095781326293945, \"y\": 5.072187423706055}, {\"text\": \"allah ya sa ka da alkharin sa\", \"x\": 4.681783199310303, \"y\": 4.1249895095825195}, {\"text\": \"kuma dai ya allah mun mika lamuramu zuwa gareka ya allah ka kawo mana mafeta kasa ta nageria ya allah kai ne maji rokon bayinka amin ya hauyu ya kauyumu\", \"x\": 3.356076717376709, \"y\": 3.652609348297119}, {\"text\": \"amin y rabbi dama allah swt y halicche mu sannan y ban ban tamu t bangaren yare   al adu d kuma kabilu ba don komai bah se dan wannan dalilan allah y karo mana lpy d zaman lpy gami d yalwar arzik\", \"x\": 3.8455965518951416, \"y\": 4.311594486236572}, {\"text\": \"congratulations zamuzo musha kaman ba gobe\", \"x\": 6.296232223510742, \"y\": 8.3767671585083}, {\"text\": \"congratulations stardom har birnin sin\", \"x\": 4.574702739715576, \"y\": 4.414597988128662}, {\"text\": \"allah yajikansa da rahma yasa albarka ga iyalansa daya bari amen\", \"x\": 4.144538879394531, \"y\": 5.147329330444336}, {\"text\": \"mashaallah allah ya kara daukaka darajar wanan film allah ya nuna mana kizo jahar katsina domin haska mana shi a cinema amin\", \"x\": 2.8691372871398926, \"y\": 5.326633453369141}, {\"text\": \"allah ka yaye mana wadannan masifu a nigeria\", \"x\": 4.143292427062988, \"y\": 4.377347469329834}, {\"text\": \"toh mudae wannan cutar allah ya karu mu  kuma mutane sugane cewa idan kaga gemun dan uwanka yakama da wuta toh ka yai yafa ma naka ruwa\", \"x\": 3.4941160678863525, \"y\": 4.141496181488037}, {\"text\": \"yaye kyau    gaskiya mahmud yana playing role mai wuya a wannan shirrin labarin\", \"x\": 3.240300178527832, \"y\": 4.654731273651123}, {\"text\": \"allhmdllh      allah yatona asirinsu\", \"x\": 5.009239196777344, \"y\": 5.376229763031006}, {\"text\": \"koma wanne irin nau i neh allah zai karemu\", \"x\": 3.2718393802642822, \"y\": 3.939399003982544}, {\"text\": \"ameen  may aljanna be their final abode\", \"x\": 5.108914375305176, \"y\": 4.968998908996582}, {\"text\": \"allah ya tsare da gaba\", \"x\": 4.550774574279785, \"y\": 4.884646892547607}, {\"text\": \"mukam muna biyayya ga gwamnati duk abunda tace idan bawai yasaba mawa addinin islama bane muna masu biyayya yauwa\", \"x\": 3.5368058681488037, \"y\": 3.698801040649414}, {\"text\": \"allahu akbar  allah ka kawo mana karshen wannan bala i\", \"x\": 3.722895383834839, \"y\": 4.017693996429443}, {\"text\": \"tsakani da allah in ba a yi hankali ba sai    sudan ta koma    libiya\", \"x\": 3.7663955688476562, \"y\": 3.9289145469665527}, {\"text\": \"happy birthday ezigbo nne mu ochie ka ife nile bu ife oma  aru isi ike n ogologo ndu buru nke gi  now and forever   amen\", \"x\": 6.4094462394714355, \"y\": 9.505706787109375}, {\"text\": \"o biliwo o biliwo jesu apoburu nelu obe onye mmeri\", \"x\": 7.490400791168213, \"y\": 9.882198333740234}, {\"text\": \"nsogbu ad gh   omego n   nwa an  kita  nke ah  agbag   niru niru k any  n eje\", \"x\": 8.7177734375, \"y\": 9.6532564163208}, {\"text\": \"m  asa  gb  makata    so mma\", \"x\": 8.322386741638184, \"y\": 8.947784423828125}, {\"text\": \"wow        chidozie      ji si ike\", \"x\": 7.170650482177734, \"y\": 8.895981788635254}, {\"text\": \"jehovah idi egwu jehovah idi egwu  praise  farandmode\", \"x\": 7.487684726715088, \"y\": 9.296700477600098}, {\"text\": \"ekele d r  g  chukwuabiama     b ara egbu m  gbuo onwe ya  chineke  m  ntak r  daal  oo\", \"x\": 7.655943870544434, \"y\": 9.317277908325195}, {\"text\": \"nnem chukwu go zie g  na nk  i kw r\", \"x\": 7.828833103179932, \"y\": 8.27749252319336}, {\"text\": \"igbo medley by    inspirationalhour with umu chineke eee\", \"x\": 8.34626293182373, \"y\": 8.797850608825684}, {\"text\": \"nwaeze adighi efu n mba\", \"x\": 8.548303604125977, \"y\": 9.444028854370117}, {\"text\": \"haew god  ezigbo nwanyi\", \"x\": 8.006550788879395, \"y\": 8.718990325927734}, {\"text\": \"ar r    ewo   jee nke  ma  gbu  j\", \"x\": 8.018889427185059, \"y\": 8.90442180633545}, {\"text\": \"hbd onyeoma  chukwu gozie gi   more hits  birikwa blessings lagos state house of\", \"x\": 6.961140155792236, \"y\": 9.414998054504395}, {\"text\": \"singing  onye neme mma lekwe ikperem nala      imela  africanpraise\", \"x\": 8.224324226379395, \"y\": 8.607032775878906}, {\"text\": \"happy birthday nne   chukwu gozie gi ofuma\", \"x\": 6.3787336349487305, \"y\": 9.42993450164795}, {\"text\": \"happy birthday chinecherem  okenwa  chukwu goziwerem gi    aka na emebe akwa umu nwoke na uzo opuruiche  golibe\", \"x\": 6.513371467590332, \"y\": 9.575605392456055}, {\"text\": \"nsogbu adighi  kachifo\", \"x\": 9.029217720031738, \"y\": 9.554473876953125}, {\"text\": \"ekele na nsopuru diri gi chiokike maka ndu i nyere anyi  ahu ike na amara     riwo otito\", \"x\": 7.028833389282227, \"y\": 9.895541191101074}, {\"text\": \"kedu ka   mere ezigbo eyin m\", \"x\": 6.901183605194092, \"y\": 8.407177925109863}, {\"text\": \"otua ka chineke anyi di eh agidigba eh eh eh   waciservice1  hbdrevgodwinabba\", \"x\": 7.153764724731445, \"y\": 8.411218643188477}, {\"text\": \"t t   ma nwanne\", \"x\": 8.829129219055176, \"y\": 8.875670433044434}, {\"text\": \"jesus igwe ezeoha\", \"x\": 8.13634204864502, \"y\": 8.277756690979004}, {\"text\": \"i b  chukwu   b gh  mmad  you are god you re not man  i b  chukwu   b gh  mmad  i b  chukwu   b gh  mmad  i b  chukwu   b gh  mmad  na you be god almighty god you no be man oh you no be man oh\", \"x\": 7.388277053833008, \"y\": 8.861922264099121}, {\"text\": \"nne i s r  ike o\", \"x\": 9.087465286254883, \"y\": 8.663671493530273}, {\"text\": \"chukwu oma onyeoma na   chukwu oma onyeoma na   chukwu oma chobioma    praising god in a special\", \"x\": 7.147122859954834, \"y\": 9.130573272705078}, {\"text\": \"igbo amaka dimkpa anagh  a ka nk  n egwu   ma a gb   egwu ichaka\", \"x\": 8.195780754089355, \"y\": 9.649314880371094}, {\"text\": \"biri kam biri egbe bere ugo bere  nke si ibeya ebele  nkw  kwa ya\", \"x\": 8.341741561889648, \"y\": 9.341614723205566}, {\"text\": \"oga nd  oga\", \"x\": 9.169885635375977, \"y\": 8.90024471282959}, {\"text\": \"auntie ngo i like ya dress  omara ezigbo mma\", \"x\": 7.28480863571167, \"y\": 7.908985137939453}, {\"text\": \"happy birthday mazi iga adi ka echi makana echi adi agwu agwu  onyenweanyi gozie gi\", \"x\": 6.667031288146973, \"y\": 9.795469284057617}, {\"text\": \"ndewo nwoke  ma\", \"x\": 8.730287551879883, \"y\": 8.46828842163086}, {\"text\": \"nd  nke m\", \"x\": 9.407136917114258, \"y\": 8.773256301879883}, {\"text\": \"okonkwo in things fall apart   ka chukwu okike abiama chekwa gi  nye gi ahu ike n ogologo ndu\", \"x\": 7.70055627822876, \"y\": 9.92397403717041}, {\"text\": \"ezenkwobi  ny  spare parts na agbani\", \"x\": 7.978447437286377, \"y\": 9.328822135925293}, {\"text\": \"ekele dibia gworo akidi  ya agwota ozo\", \"x\": 7.017455577850342, \"y\": 9.289501190185547}, {\"text\": \"onye eze   udo di ri gi onye oma  more grace as you reach out to the masses in imo state  remember me kwanu e don tey na\", \"x\": 7.144763469696045, \"y\": 9.80065631866455}, {\"text\": \"biko ndi obodoukwu nwere umu asa di sharp bonario tell her pls\", \"x\": 8.05362319946289, \"y\": 8.440589904785156}, {\"text\": \"even contact his suppliers in china  chukwu mekwalu nd  ya ebele\", \"x\": 7.677631855010986, \"y\": 8.600980758666992}, {\"text\": \"time for our  thanksgiving dance and procession  nagode jesu ibu chukwu onye dinma oluwa etobi      thanksgivingsunday  talagos\", \"x\": 6.405653953552246, \"y\": 9.220617294311523}, {\"text\": \"lmao  chukwu gba gi ume\", \"x\": 7.568410396575928, \"y\": 8.650247573852539}, {\"text\": \"np chukwu agozi go gi   ft lucy q       dreamlounge with    tgif  turnup\", \"x\": 7.452835559844971, \"y\": 8.06303596496582}, {\"text\": \"it s the  thefirstflight2theweekend w   x  np chukwu agozi di gi ft\", \"x\": 7.446311950683594, \"y\": 8.233297348022461}, {\"text\": \"odogwu na agha dike na agha nara ekele odogwu na agha dike na agha nara ekele olisa kere uwa chukwu na eme nma agam buru hallelujah eburu bu gara jehovah  mercyconference2021\", \"x\": 7.356175422668457, \"y\": 9.513154029846191}, {\"text\": \"good morning    ndi n anyi    bia ka anyi rie cc\", \"x\": 7.105319499969482, \"y\": 8.348217964172363}, {\"text\": \"jesus  aka m d  elu e jesus  ikpere m di na  l\", \"x\": 7.862123966217041, \"y\": 8.816391944885254}, {\"text\": \"nwa na asu igbo  obi dim uto  ada kedu\", \"x\": 8.3639554977417, \"y\": 9.759356498718262}, {\"text\": \"nna  jide ka iji\", \"x\": 8.84817123413086, \"y\": 8.802021026611328}, {\"text\": \"ogssian nwanne  udo diri gi\", \"x\": 8.145484924316406, \"y\": 10.051095008850098}, {\"text\": \"ututu oma nna o  kedu\", \"x\": 8.719356536865234, \"y\": 8.579894065856934}, {\"text\": \"thank you jesus  onye nwe anyi imela    goodmorningenugu  goodmorningenugu2018\", \"x\": 6.616087913513184, \"y\": 8.838326454162598}, {\"text\": \"chai    i na agba mbo ofuma  jisie ike\", \"x\": 8.092646598815918, \"y\": 9.059548377990723}, {\"text\": \"igbo ndi oma  ndewonu  bia soro noria na oge  obinwanne  ubochim cc\", \"x\": 8.204402923583984, \"y\": 9.786538124084473}]}}, {\"mode\": \"vega-lite\"});\n</script>",
      "text/plain": "alt.Chart(...)"
     },
     "execution_count": 74,
     "metadata": {},
     "output_type": "execute_result"
    }
   ],
   "source": [
    "\n",
    "# UMAP reduces the dimensions from 1024 to 2 dimensions that we can plot\n",
    "reducer = umap.UMAP(n_neighbors=20)\n",
    "umap_embeds = reducer.fit_transform(embeddings)\n",
    "# Prepare the data to plot and interactive visualization\n",
    "# using Altair\n",
    "df_explore = pd.DataFrame(data={'text': df['ha_ig_text'][:100]})\n",
    "df_explore['x'] = umap_embeds[:,0]\n",
    "df_explore['y'] = umap_embeds[:,1]\n",
    "# Plot\n",
    "chart = alt.Chart(df_explore).mark_circle(size=60).encode(\n",
    "    x=#'x',\n",
    "    alt.X('x',\n",
    "        scale=alt.Scale(zero=False)\n",
    "    ),\n",
    "    y=\n",
    "    alt.Y('y',\n",
    "        scale=alt.Scale(zero=False)\n",
    "    ),\n",
    "    tooltip=['text']\n",
    ").properties(\n",
    "    width=700,\n",
    "    height=400\n",
    ")\n",
    "chart.interactive()"
   ],
   "metadata": {
    "collapsed": false
   }
  }
 ],
 "metadata": {
  "kernelspec": {
   "display_name": "Python 3",
   "language": "python",
   "name": "python3"
  },
  "language_info": {
   "codemirror_mode": {
    "name": "ipython",
    "version": 2
   },
   "file_extension": ".py",
   "mimetype": "text/x-python",
   "name": "python",
   "nbconvert_exporter": "python",
   "pygments_lexer": "ipython2",
   "version": "2.7.6"
  }
 },
 "nbformat": 4,
 "nbformat_minor": 0
}
