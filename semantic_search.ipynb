{
 "cells": [
  {
   "cell_type": "markdown",
   "metadata": {},
   "source": [
    "# Cross-Lingual Similarity and Semantic Search Engine with Cohere Multilingual API\n"
   ]
  },
  {
   "cell_type": "code",
   "execution_count": null,
   "metadata": {},
   "outputs": [],
   "source": []
  },
  {
   "cell_type": "code",
   "execution_count": 19,
   "metadata": {},
   "outputs": [],
   "source": [
    "import cohere\n",
    "import numpy as np\n",
    "import altair as alt\n",
    "from annoy import AnnoyIndex\n",
    "import pandas as pd\n",
    "import umap.umap_ as umap\n",
    "import bokeh\n",
    "import bokeh.models\n",
    "import bokeh.plotting\n",
    "import sklearn.metrics.pairwise\n",
    "import re\n",
    "\n",
    "API_KEY = \"J0okVO9eZywR0IJc95qT5bpYTyV3ZPHgtbxXhxKR\"\n",
    "co = cohere.Client(API_KEY)\n"
   ]
  },
  {
   "cell_type": "code",
   "execution_count": null,
   "metadata": {},
   "outputs": [],
   "source": []
  },
  {
   "cell_type": "markdown",
   "metadata": {},
   "source": [
    "### Load the datasets\n"
   ]
  },
  {
   "cell_type": "code",
   "execution_count": 20,
   "metadata": {},
   "outputs": [
    {
     "data": {
      "text/plain": "  id                                            ha_text  \\\n0  1  baka film din banza director allah ya dafa ni ...   \n1  2             allah ubangiji yaiwa rayuwarsa albarka   \n2  3  abu nafarko gamawa da duniya lafiya kuma inaso...   \n3  4                  allah yasa muyi kyakkyawan qarshe   \n4  5  ba wasa a fuskokinsu  may you succeed always guys   \n\n                                             ig_text  \\\n0                                 ndu chineke nyerem   \n1  np    onye eze      morningdrivelagos  moremus...   \n2                                   dal  ezigbo mmad   \n3  good afternoon hugeman   jj juventus gave napo...   \n4   my manchi like forever daal          b ch   nyem   \n\n                                          ha_ig_text  \n0  baka film din banza director allah ya dafa ni ...  \n1             allah ubangiji yaiwa rayuwarsa albarka  \n2  abu nafarko gamawa da duniya lafiya kuma inaso...  \n3                  allah yasa muyi kyakkyawan qarshe  \n4  ba wasa a fuskokinsu  may you succeed always guys  ",
      "text/html": "<div>\n<style scoped>\n    .dataframe tbody tr th:only-of-type {\n        vertical-align: middle;\n    }\n\n    .dataframe tbody tr th {\n        vertical-align: top;\n    }\n\n    .dataframe thead th {\n        text-align: right;\n    }\n</style>\n<table border=\"1\" class=\"dataframe\">\n  <thead>\n    <tr style=\"text-align: right;\">\n      <th></th>\n      <th>id</th>\n      <th>ha_text</th>\n      <th>ig_text</th>\n      <th>ha_ig_text</th>\n    </tr>\n  </thead>\n  <tbody>\n    <tr>\n      <th>0</th>\n      <td>1</td>\n      <td>baka film din banza director allah ya dafa ni ...</td>\n      <td>ndu chineke nyerem</td>\n      <td>baka film din banza director allah ya dafa ni ...</td>\n    </tr>\n    <tr>\n      <th>1</th>\n      <td>2</td>\n      <td>allah ubangiji yaiwa rayuwarsa albarka</td>\n      <td>np    onye eze      morningdrivelagos  moremus...</td>\n      <td>allah ubangiji yaiwa rayuwarsa albarka</td>\n    </tr>\n    <tr>\n      <th>2</th>\n      <td>3</td>\n      <td>abu nafarko gamawa da duniya lafiya kuma inaso...</td>\n      <td>dal  ezigbo mmad</td>\n      <td>abu nafarko gamawa da duniya lafiya kuma inaso...</td>\n    </tr>\n    <tr>\n      <th>3</th>\n      <td>4</td>\n      <td>allah yasa muyi kyakkyawan qarshe</td>\n      <td>good afternoon hugeman   jj juventus gave napo...</td>\n      <td>allah yasa muyi kyakkyawan qarshe</td>\n    </tr>\n    <tr>\n      <th>4</th>\n      <td>5</td>\n      <td>ba wasa a fuskokinsu  may you succeed always guys</td>\n      <td>my manchi like forever daal          b ch   nyem</td>\n      <td>ba wasa a fuskokinsu  may you succeed always guys</td>\n    </tr>\n  </tbody>\n</table>\n</div>"
     },
     "execution_count": 20,
     "metadata": {},
     "output_type": "execute_result"
    }
   ],
   "source": [
    "df = pd.read_csv(\"data/hau_ibo.csv\")\n",
    "df.head()"
   ]
  },
  {
   "cell_type": "markdown",
   "metadata": {},
   "source": [
    "### Preprocess the datasets\n"
   ]
  },
  {
   "cell_type": "code",
   "execution_count": 21,
   "metadata": {},
   "outputs": [
    {
     "data": {
      "text/plain": "  id                                            ha_text  \\\n0  1  baka film din banza director allah ya dafa ni ...   \n1  2             allah ubangiji yaiwa rayuwarsa albarka   \n2  3  abu nafarko gamawa da duniya lafiya kuma inaso...   \n3  4                  allah yasa muyi kyakkyawan qarshe   \n4  5   ba wasa a fuskokinsu may you succeed always guys   \n\n                                             ig_text  \\\n0                                 ndu chineke nyerem   \n1  np onye eze morningdrivelagos moremusicradio w...   \n2                                    dal ezigbo mmad   \n3  good afternoon hugeman jj juventus gave napoli...   \n4              my manchi like forever daal b ch nyem   \n\n                                          ha_ig_text  \n0  baka film din banza director allah ya dafa ni ...  \n1             allah ubangiji yaiwa rayuwarsa albarka  \n2  abu nafarko gamawa da duniya lafiya kuma inaso...  \n3                  allah yasa muyi kyakkyawan qarshe  \n4  ba wasa a fuskokinsu  may you succeed always guys  ",
      "text/html": "<div>\n<style scoped>\n    .dataframe tbody tr th:only-of-type {\n        vertical-align: middle;\n    }\n\n    .dataframe tbody tr th {\n        vertical-align: top;\n    }\n\n    .dataframe thead th {\n        text-align: right;\n    }\n</style>\n<table border=\"1\" class=\"dataframe\">\n  <thead>\n    <tr style=\"text-align: right;\">\n      <th></th>\n      <th>id</th>\n      <th>ha_text</th>\n      <th>ig_text</th>\n      <th>ha_ig_text</th>\n    </tr>\n  </thead>\n  <tbody>\n    <tr>\n      <th>0</th>\n      <td>1</td>\n      <td>baka film din banza director allah ya dafa ni ...</td>\n      <td>ndu chineke nyerem</td>\n      <td>baka film din banza director allah ya dafa ni ...</td>\n    </tr>\n    <tr>\n      <th>1</th>\n      <td>2</td>\n      <td>allah ubangiji yaiwa rayuwarsa albarka</td>\n      <td>np onye eze morningdrivelagos moremusicradio w...</td>\n      <td>allah ubangiji yaiwa rayuwarsa albarka</td>\n    </tr>\n    <tr>\n      <th>2</th>\n      <td>3</td>\n      <td>abu nafarko gamawa da duniya lafiya kuma inaso...</td>\n      <td>dal ezigbo mmad</td>\n      <td>abu nafarko gamawa da duniya lafiya kuma inaso...</td>\n    </tr>\n    <tr>\n      <th>3</th>\n      <td>4</td>\n      <td>allah yasa muyi kyakkyawan qarshe</td>\n      <td>good afternoon hugeman jj juventus gave napoli...</td>\n      <td>allah yasa muyi kyakkyawan qarshe</td>\n    </tr>\n    <tr>\n      <th>4</th>\n      <td>5</td>\n      <td>ba wasa a fuskokinsu may you succeed always guys</td>\n      <td>my manchi like forever daal b ch nyem</td>\n      <td>ba wasa a fuskokinsu  may you succeed always guys</td>\n    </tr>\n  </tbody>\n</table>\n</div>"
     },
     "execution_count": 21,
     "metadata": {},
     "output_type": "execute_result"
    }
   ],
   "source": [
    "def preprocess(text):\n",
    "    # Remove any non-alphanumeric characters\n",
    "    text = re.sub(r\"@[^\\s]+\", \"\", str(text))\n",
    "    text = re.sub(r\"http[^\\s]+\", \"\", str(text))\n",
    "    # Remove any extra whitespace\n",
    "    text = re.sub(r\"\\s+\", \" \", str(text))\n",
    "    # Convert to lowercase\n",
    "    text = text.lower()\n",
    "    return text\n",
    "\n",
    "df[\"ha_text\"] = df[\"ha_text\"].apply(preprocess)\n",
    "df[\"ig_text\"] = df[\"ig_text\"].apply(preprocess)\n",
    "df.head()\n"
   ]
  },
  {
   "cell_type": "code",
   "execution_count": null,
   "metadata": {},
   "outputs": [],
   "source": []
  },
  {
   "cell_type": "markdown",
   "metadata": {},
   "source": []
  },
  {
   "cell_type": "markdown",
   "metadata": {},
   "source": []
  },
  {
   "cell_type": "code",
   "execution_count": 22,
   "metadata": {},
   "outputs": [],
   "source": [
    "# Use the Cohere API to create embeddings for each sentence in the Hausa and Igbo from dataset\n",
    "embeddings = co.embed(df[\"ha_ig_text\"][:100].to_list(), model=\"embed-multilingual-v2.0\")\n",
    "embeddings = np.array(list(embeddings))"
   ]
  },
  {
   "cell_type": "markdown",
   "metadata": {},
   "source": []
  },
  {
   "cell_type": "code",
   "execution_count": 23,
   "metadata": {},
   "outputs": [
    {
     "data": {
      "text/plain": "(100, 768)"
     },
     "execution_count": 23,
     "metadata": {},
     "output_type": "execute_result"
    }
   ],
   "source": [
    "embeddings.shape"
   ]
  },
  {
   "cell_type": "code",
   "execution_count": 24,
   "metadata": {},
   "outputs": [
    {
     "data": {
      "text/plain": "True"
     },
     "execution_count": 24,
     "metadata": {},
     "output_type": "execute_result"
    }
   ],
   "source": [
    "# Use the embeddings to perform semantic search and find the most similar sentences in the  dataset\n",
    "results = []\n",
    "search_results = AnnoyIndex(embeddings.shape[1], 'angular')\n",
    "for i in range(len(embeddings)):\n",
    "    # Save the result as a tuple\n",
    "    search_results.add_item(i, embeddings[i])\n",
    "search_results.build(40)\n",
    "search_results.save('text.ann')"
   ]
  },
  {
   "cell_type": "markdown",
   "metadata": {},
   "source": [
    "### Semantic search in Hausa Language"
   ]
  },
  {
   "cell_type": "code",
   "execution_count": 25,
   "metadata": {},
   "outputs": [
    {
     "name": "stdout",
     "output_type": "stream",
     "text": [
      "Query:'bai hau ba har yanxu tukun amma yananan zuwa insha allah'\n",
      "Nearest neighbors:\n"
     ]
    },
    {
     "data": {
      "text/plain": "                                                texts  distance\n42         koma wanne irin nau i neh allah zai karemu  0.243861\n8   wannan gsky ne wallahi munacikin lahaula allah...  0.263540\n32  kuma dai ya allah mun mika lamuramu zuwa garek...  0.276408\n15  allah yashiryar damu baki dai wlh wasu mutane ...  0.282136\n46  allahu akbar allah ka kawo mana karshen wannan...  0.283701\n17                           allah ya sa mu dace amin  0.287117\n20  gamji mazan kwarai namiji uban yan boko allah ...  0.293154\n7                        toh allah ya sakawa yan gaza  0.309704\n28           allah yasa afara asa a allah yayi jagora  0.309827\n9   ya subhanallahi allah ya jiqansu ya gafarta mu...  0.311894",
      "text/html": "<div>\n<style scoped>\n    .dataframe tbody tr th:only-of-type {\n        vertical-align: middle;\n    }\n\n    .dataframe tbody tr th {\n        vertical-align: top;\n    }\n\n    .dataframe thead th {\n        text-align: right;\n    }\n</style>\n<table border=\"1\" class=\"dataframe\">\n  <thead>\n    <tr style=\"text-align: right;\">\n      <th></th>\n      <th>texts</th>\n      <th>distance</th>\n    </tr>\n  </thead>\n  <tbody>\n    <tr>\n      <th>42</th>\n      <td>koma wanne irin nau i neh allah zai karemu</td>\n      <td>0.243861</td>\n    </tr>\n    <tr>\n      <th>8</th>\n      <td>wannan gsky ne wallahi munacikin lahaula allah...</td>\n      <td>0.263540</td>\n    </tr>\n    <tr>\n      <th>32</th>\n      <td>kuma dai ya allah mun mika lamuramu zuwa garek...</td>\n      <td>0.276408</td>\n    </tr>\n    <tr>\n      <th>15</th>\n      <td>allah yashiryar damu baki dai wlh wasu mutane ...</td>\n      <td>0.282136</td>\n    </tr>\n    <tr>\n      <th>46</th>\n      <td>allahu akbar allah ka kawo mana karshen wannan...</td>\n      <td>0.283701</td>\n    </tr>\n    <tr>\n      <th>17</th>\n      <td>allah ya sa mu dace amin</td>\n      <td>0.287117</td>\n    </tr>\n    <tr>\n      <th>20</th>\n      <td>gamji mazan kwarai namiji uban yan boko allah ...</td>\n      <td>0.293154</td>\n    </tr>\n    <tr>\n      <th>7</th>\n      <td>toh allah ya sakawa yan gaza</td>\n      <td>0.309704</td>\n    </tr>\n    <tr>\n      <th>28</th>\n      <td>allah yasa afara asa a allah yayi jagora</td>\n      <td>0.309827</td>\n    </tr>\n    <tr>\n      <th>9</th>\n      <td>ya subhanallahi allah ya jiqansu ya gafarta mu...</td>\n      <td>0.311894</td>\n    </tr>\n  </tbody>\n</table>\n</div>"
     },
     "execution_count": 25,
     "metadata": {},
     "output_type": "execute_result"
    }
   ],
   "source": [
    "query = \"bai hau ba har yanxu tukun amma yananan zuwa insha allah\"\n",
    "\n",
    "# Get the query's embedding\n",
    "query_embed = co.embed(texts=[query],\n",
    "                  model=\"embed-multilingual-v2.0\").embeddings\n",
    "\n",
    "# Retrieve the nearest neighbors\n",
    "similar_item_ids = search_results.get_nns_by_vector(query_embed[0],10,\n",
    "                                                include_distances=True)\n",
    "# Format the results\n",
    "results = pd.DataFrame(data={'texts': df.iloc[similar_item_ids[0]]['ha_text'],\n",
    "                             'distance': similar_item_ids[1]})\n",
    "\n",
    "\n",
    "print(f\"Query:'{query}'\\nNearest neighbors:\")\n",
    "results"
   ]
  },
  {
   "cell_type": "markdown",
   "metadata": {},
   "source": [
    "### Semantic search in Igbo Language"
   ]
  },
  {
   "cell_type": "code",
   "execution_count": 26,
   "metadata": {},
   "outputs": [
    {
     "name": "stdout",
     "output_type": "stream",
     "text": [
      "Query:'mangala na ato m gwogwo ezigbo azu'\n",
      "Nearest neighbors:\n"
     ]
    },
    {
     "data": {
      "text/plain": "                                                texts  distance\n98  thank you jesus onye nwe anyi imela goodmornin...  0.257605\n92         good morning ndi n anyi bia ka anyi rie cc  0.258559\n74  igbo amaka dimkpa anagh a ka nk n egwu ma a gb...  0.263173\n82                 ezenkwobi ny spare parts na agbani  0.266020\n59                             haew god ezigbo nwanyi  0.267447\n91  odogwu na agha dike na agha nara ekele odogwu ...  0.273286\n87  time for our thanksgiving dance and procession...  0.282777\n73  chukwu oma onyeoma na chukwu oma onyeoma na ch...  0.285421\n54  jehovah idi egwu jehovah idi egwu praise faran...  0.286639\n96                         ogssian nwanne udo diri gi  0.287594",
      "text/html": "<div>\n<style scoped>\n    .dataframe tbody tr th:only-of-type {\n        vertical-align: middle;\n    }\n\n    .dataframe tbody tr th {\n        vertical-align: top;\n    }\n\n    .dataframe thead th {\n        text-align: right;\n    }\n</style>\n<table border=\"1\" class=\"dataframe\">\n  <thead>\n    <tr style=\"text-align: right;\">\n      <th></th>\n      <th>texts</th>\n      <th>distance</th>\n    </tr>\n  </thead>\n  <tbody>\n    <tr>\n      <th>98</th>\n      <td>thank you jesus onye nwe anyi imela goodmornin...</td>\n      <td>0.257605</td>\n    </tr>\n    <tr>\n      <th>92</th>\n      <td>good morning ndi n anyi bia ka anyi rie cc</td>\n      <td>0.258559</td>\n    </tr>\n    <tr>\n      <th>74</th>\n      <td>igbo amaka dimkpa anagh a ka nk n egwu ma a gb...</td>\n      <td>0.263173</td>\n    </tr>\n    <tr>\n      <th>82</th>\n      <td>ezenkwobi ny spare parts na agbani</td>\n      <td>0.266020</td>\n    </tr>\n    <tr>\n      <th>59</th>\n      <td>haew god ezigbo nwanyi</td>\n      <td>0.267447</td>\n    </tr>\n    <tr>\n      <th>91</th>\n      <td>odogwu na agha dike na agha nara ekele odogwu ...</td>\n      <td>0.273286</td>\n    </tr>\n    <tr>\n      <th>87</th>\n      <td>time for our thanksgiving dance and procession...</td>\n      <td>0.282777</td>\n    </tr>\n    <tr>\n      <th>73</th>\n      <td>chukwu oma onyeoma na chukwu oma onyeoma na ch...</td>\n      <td>0.285421</td>\n    </tr>\n    <tr>\n      <th>54</th>\n      <td>jehovah idi egwu jehovah idi egwu praise faran...</td>\n      <td>0.286639</td>\n    </tr>\n    <tr>\n      <th>96</th>\n      <td>ogssian nwanne udo diri gi</td>\n      <td>0.287594</td>\n    </tr>\n  </tbody>\n</table>\n</div>"
     },
     "execution_count": 26,
     "metadata": {},
     "output_type": "execute_result"
    }
   ],
   "source": [
    "query = \"mangala na ato m gwogwo ezigbo azu\"\n",
    "\n",
    "# Get the query's embedding\n",
    "query_embed = co.embed(texts=[query],\n",
    "                  model=\"embed-multilingual-v2.0\").embeddings\n",
    "\n",
    "# Retrieve the nearest neighbors\n",
    "similar_item_ids = search_results.get_nns_by_vector(query_embed[0],10,\n",
    "                                                include_distances=True)\n",
    "# Format the results\n",
    "results = pd.DataFrame(data={'texts': df.iloc[similar_item_ids[0]]['ig_text'],\n",
    "                             'distance': similar_item_ids[1]})\n",
    "\n",
    "\n",
    "print(f\"Query:'{query}'\\nNearest neighbors:\")\n",
    "results"
   ]
  },
  {
   "cell_type": "code",
   "execution_count": 28,
   "metadata": {},
   "outputs": [
    {
     "data": {
      "text/html": "\n<div id=\"altair-viz-4fc2311327ca46fba022cf34e463cd72\"></div>\n<script type=\"text/javascript\">\n  var VEGA_DEBUG = (typeof VEGA_DEBUG == \"undefined\") ? {} : VEGA_DEBUG;\n  (function(spec, embedOpt){\n    let outputDiv = document.currentScript.previousElementSibling;\n    if (outputDiv.id !== \"altair-viz-4fc2311327ca46fba022cf34e463cd72\") {\n      outputDiv = document.getElementById(\"altair-viz-4fc2311327ca46fba022cf34e463cd72\");\n    }\n    const paths = {\n      \"vega\": \"https://cdn.jsdelivr.net/npm//vega@5?noext\",\n      \"vega-lib\": \"https://cdn.jsdelivr.net/npm//vega-lib?noext\",\n      \"vega-lite\": \"https://cdn.jsdelivr.net/npm//vega-lite@4.17.0?noext\",\n      \"vega-embed\": \"https://cdn.jsdelivr.net/npm//vega-embed@6?noext\",\n    };\n\n    function maybeLoadScript(lib, version) {\n      var key = `${lib.replace(\"-\", \"\")}_version`;\n      return (VEGA_DEBUG[key] == version) ?\n        Promise.resolve(paths[lib]) :\n        new Promise(function(resolve, reject) {\n          var s = document.createElement('script');\n          document.getElementsByTagName(\"head\")[0].appendChild(s);\n          s.async = true;\n          s.onload = () => {\n            VEGA_DEBUG[key] = version;\n            return resolve(paths[lib]);\n          };\n          s.onerror = () => reject(`Error loading script: ${paths[lib]}`);\n          s.src = paths[lib];\n        });\n    }\n\n    function showError(err) {\n      outputDiv.innerHTML = `<div class=\"error\" style=\"color:red;\">${err}</div>`;\n      throw err;\n    }\n\n    function displayChart(vegaEmbed) {\n      vegaEmbed(outputDiv, spec, embedOpt)\n        .catch(err => showError(`Javascript Error: ${err.message}<br>This usually means there's a typo in your chart specification. See the javascript console for the full traceback.`));\n    }\n\n    if(typeof define === \"function\" && define.amd) {\n      requirejs.config({paths});\n      require([\"vega-embed\"], displayChart, err => showError(`Error loading script: ${err.message}`));\n    } else {\n      maybeLoadScript(\"vega\", \"5\")\n        .then(() => maybeLoadScript(\"vega-lite\", \"4.17.0\"))\n        .then(() => maybeLoadScript(\"vega-embed\", \"6\"))\n        .catch(showError)\n        .then(() => displayChart(vegaEmbed));\n    }\n  })({\"config\": {\"view\": {\"continuousWidth\": 400, \"continuousHeight\": 300}}, \"data\": {\"name\": \"data-e1ef072ca987539ad4eb863b2254a5a0\"}, \"mark\": {\"type\": \"circle\", \"size\": 60}, \"encoding\": {\"tooltip\": [{\"field\": \"text\", \"type\": \"nominal\"}], \"x\": {\"field\": \"x\", \"scale\": {\"zero\": false}, \"type\": \"quantitative\"}, \"y\": {\"field\": \"y\", \"scale\": {\"zero\": false}, \"type\": \"quantitative\"}}, \"height\": 400, \"selection\": {\"selector002\": {\"type\": \"interval\", \"bind\": \"scales\", \"encodings\": [\"x\", \"y\"]}}, \"width\": 700, \"$schema\": \"https://vega.github.io/schema/vega-lite/v4.17.0.json\", \"datasets\": {\"data-e1ef072ca987539ad4eb863b2254a5a0\": [{\"text\": \"baka film din banza director allah ya dafa ni nasan zai yi daidai da abnd ake bukata\", \"x\": 5.0062642097473145, \"y\": 7.853989124298096}, {\"text\": \"allah ubangiji yaiwa rayuwarsa albarka\", \"x\": 5.981172561645508, \"y\": 6.090407371520996}, {\"text\": \"abu nafarko gamawa da duniya lafiya kuma inason ingama da uwayena lafiya sannan arzikin duniya dana lahira  sannan inason ganin annabi  s a w  koda cikin mafarkinane   gaskiya dai kuma inason aur\", \"x\": 5.149204730987549, \"y\": 7.0218682289123535}, {\"text\": \"allah yasa muyi kyakkyawan qarshe\", \"x\": 6.471683979034424, \"y\": 6.500270366668701}, {\"text\": \"ba wasa a fuskokinsu  may you succeed always guys\", \"x\": 9.521332740783691, \"y\": 6.731947898864746}, {\"text\": \"aslm bbc hausa tambaya ta itace shekara bbc hausa nawa kuma a wace kasa takene nagode   fatan alkairi\", \"x\": 5.689664840698242, \"y\": 7.604619979858398}, {\"text\": \"allah yasa donal trump y kawo w buhari ziyara suyi hanu biyu d shi amin\", \"x\": 4.920658588409424, \"y\": 7.079639434814453}, {\"text\": \"toh allah ya sakawa yan gaza\", \"x\": 5.860036373138428, \"y\": 6.703373432159424}, {\"text\": \"wannan gsky ne wallahi munacikin lahaula allah muke roqo daya kawo mana daukinsa\", \"x\": 6.147341728210449, \"y\": 7.653730392456055}, {\"text\": \"ya subhanallahi   allah ya jiqansu ya gafarta musu ameen\", \"x\": 6.457214832305908, \"y\": 6.826340675354004}, {\"text\": \"ah lallai ka burge\", \"x\": 6.043654918670654, \"y\": 7.502411842346191}, {\"text\": \"a haba dai kano pillars    allah ya bashi team a chan inda take\", \"x\": 5.803943634033203, \"y\": 7.951069355010986}, {\"text\": \"ba a cewa                  ya mutu                  kamarh dabba  sai dey ace                 yarasu                 allah ya mugane amen\", \"x\": 5.792285919189453, \"y\": 6.021166801452637}, {\"text\": \"gsky ne allah ya taimaki\", \"x\": 6.55707311630249, \"y\": 7.355555057525635}, {\"text\": \"sister dinki tayi kyau sosai\", \"x\": 9.033621788024902, \"y\": 6.269715785980225}, {\"text\": \"allah yashiryar damu baki dai wlh wasu mutane akwai sheri garesu\", \"x\": 5.383453845977783, \"y\": 6.798420429229736}, {\"text\": \"allahu akbar allah yaqara nisan kwana mai amfani daga bakin jikan mal  arzika dan nepu sokoto state bodinga l g ketaeren sawaba area\", \"x\": 5.072836399078369, \"y\": 6.529941558837891}, {\"text\": \"allah ya sa mu dace amin\", \"x\": 6.19867467880249, \"y\": 6.902504920959473}, {\"text\": \"gsky hirar nan tae dadi allah ya taemaka\", \"x\": 6.763637542724609, \"y\": 7.160223960876465}, {\"text\": \"idan ansamu iphone 1 in aso\", \"x\": 7.408264636993408, \"y\": 6.499605178833008}, {\"text\": \"gamji mazan kwarai namiji uban yan boko  allah ya qara haskaka makwanci\", \"x\": 5.452261447906494, \"y\": 7.764902114868164}, {\"text\": \"ko babu komai akwai araha\", \"x\": 5.411593914031982, \"y\": 7.233597755432129}, {\"text\": \"allah yakara jagora\", \"x\": 6.378208637237549, \"y\": 6.152089595794678}, {\"text\": \"dan allah a ina xan samu complete shirinku da kukeyi mai suna dan birni i m in love with the movie  thanks   allah ya kara daukaka\", \"x\": 5.1921892166137695, \"y\": 7.753380298614502}, {\"text\": \"allah ya karemana kasarmu tagado nigeria da kare warsa daga sharrin yan siyasa ameeeeeeeeeen\", \"x\": 4.862135887145996, \"y\": 6.7647809982299805}, {\"text\": \"masha allah  muna godiya da aikin megida\", \"x\": 5.864812850952148, \"y\": 7.573014736175537}, {\"text\": \"show love to rahama sadau\", \"x\": 8.214982032775879, \"y\": 6.245720863342285}, {\"text\": \"good haka muke so yan man united ayi hakure sai next level\", \"x\": 5.9939284324646, \"y\": 7.838686943054199}, {\"text\": \"allah yasa afara asa a allah yayi jagora\", \"x\": 5.882180690765381, \"y\": 6.319328784942627}, {\"text\": \"allah ya sauwaqe mata wannan jarrabawar\", \"x\": 5.708710670471191, \"y\": 6.501678466796875}, {\"text\": \"allah ya fiddasu lafiya   alfarmar annabi muhammad s a w\", \"x\": 6.18451452255249, \"y\": 6.619667053222656}, {\"text\": \"allah ya sa ka da alkharin sa\", \"x\": 6.001338481903076, \"y\": 7.043404579162598}, {\"text\": \"kuma dai ya allah mun mika lamuramu zuwa gareka ya allah ka kawo mana mafeta kasa ta nageria ya allah kai ne maji rokon bayinka amin ya hauyu ya kauyumu\", \"x\": 4.723003387451172, \"y\": 7.237825870513916}, {\"text\": \"amin y rabbi dama allah swt y halicche mu sannan y ban ban tamu t bangaren yare   al adu d kuma kabilu ba don komai bah se dan wannan dalilan allah y karo mana lpy d zaman lpy gami d yalwar arzik\", \"x\": 6.167511463165283, \"y\": 7.190677165985107}, {\"text\": \"congratulations zamuzo musha kaman ba gobe\", \"x\": 9.583739280700684, \"y\": 6.777199745178223}, {\"text\": \"congratulations stardom har birnin sin\", \"x\": 6.024128437042236, \"y\": 6.864902496337891}, {\"text\": \"allah yajikansa da rahma yasa albarka ga iyalansa daya bari amen\", \"x\": 5.520820617675781, \"y\": 6.15666389465332}, {\"text\": \"mashaallah allah ya kara daukaka darajar wanan film allah ya nuna mana kizo jahar katsina domin haska mana shi a cinema amin\", \"x\": 5.063541889190674, \"y\": 7.596302509307861}, {\"text\": \"allah ka yaye mana wadannan masifu a nigeria\", \"x\": 5.250349044799805, \"y\": 6.901073455810547}, {\"text\": \"toh mudae wannan cutar allah ya karu mu  kuma mutane sugane cewa idan kaga gemun dan uwanka yakama da wuta toh ka yai yafa ma naka ruwa\", \"x\": 5.373391628265381, \"y\": 6.8835649490356445}, {\"text\": \"yaye kyau    gaskiya mahmud yana playing role mai wuya a wannan shirrin labarin\", \"x\": 5.30410623550415, \"y\": 7.666445732116699}, {\"text\": \"allhmdllh      allah yatona asirinsu\", \"x\": 6.743727684020996, \"y\": 6.655526638031006}, {\"text\": \"koma wanne irin nau i neh allah zai karemu\", \"x\": 5.6305131912231445, \"y\": 7.210531234741211}, {\"text\": \"ameen  may aljanna be their final abode\", \"x\": 6.799515724182129, \"y\": 6.529518127441406}, {\"text\": \"allah ya tsare da gaba\", \"x\": 6.162360191345215, \"y\": 5.965781211853027}, {\"text\": \"mukam muna biyayya ga gwamnati duk abunda tace idan bawai yasaba mawa addinin islama bane muna masu biyayya yauwa\", \"x\": 4.786520957946777, \"y\": 6.9296088218688965}, {\"text\": \"allahu akbar  allah ka kawo mana karshen wannan bala i\", \"x\": 5.727870941162109, \"y\": 6.976176738739014}, {\"text\": \"tsakani da allah in ba a yi hankali ba sai    sudan ta koma    libiya\", \"x\": 5.662117004394531, \"y\": 6.881842136383057}, {\"text\": \"happy birthday ezigbo nne mu ochie ka ife nile bu ife oma  aru isi ike n ogologo ndu buru nke gi  now and forever   amen\", \"x\": 10.646873474121094, \"y\": 6.880015850067139}, {\"text\": \"o biliwo o biliwo jesu apoburu nelu obe onye mmeri\", \"x\": 10.453718185424805, \"y\": 5.949954986572266}, {\"text\": \"nsogbu ad gh   omego n   nwa an  kita  nke ah  agbag   niru niru k any  n eje\", \"x\": 10.576770782470703, \"y\": 5.291378974914551}, {\"text\": \"m  asa  gb  makata    so mma\", \"x\": 10.583402633666992, \"y\": 4.396543025970459}, {\"text\": \"wow        chidozie      ji si ike\", \"x\": 11.349778175354004, \"y\": 6.605234146118164}, {\"text\": \"jehovah idi egwu jehovah idi egwu  praise  farandmode\", \"x\": 10.512845039367676, \"y\": 5.805034637451172}, {\"text\": \"ekele d r  g  chukwuabiama     b ara egbu m  gbuo onwe ya  chineke  m  ntak r  daal  oo\", \"x\": 11.53714656829834, \"y\": 5.968764781951904}, {\"text\": \"nnem chukwu go zie g  na nk  i kw r\", \"x\": 11.499785423278809, \"y\": 4.831122398376465}, {\"text\": \"igbo medley by    inspirationalhour with umu chineke eee\", \"x\": 11.681982040405273, \"y\": 5.595860004425049}, {\"text\": \"nwaeze adighi efu n mba\", \"x\": 10.61290168762207, \"y\": 4.967115879058838}, {\"text\": \"haew god  ezigbo nwanyi\", \"x\": 9.87402057647705, \"y\": 5.226631164550781}, {\"text\": \"ar r    ewo   jee nke  ma  gbu  j\", \"x\": 10.516818046569824, \"y\": 5.279742240905762}, {\"text\": \"hbd onyeoma  chukwu gozie gi   more hits  birikwa blessings lagos state house of\", \"x\": 10.95761489868164, \"y\": 6.559435844421387}, {\"text\": \"singing  onye neme mma lekwe ikperem nala      imela  africanpraise\", \"x\": 11.927847862243652, \"y\": 5.7857561111450195}, {\"text\": \"happy birthday nne   chukwu gozie gi ofuma\", \"x\": 10.909666061401367, \"y\": 7.02274751663208}, {\"text\": \"happy birthday chinecherem  okenwa  chukwu goziwerem gi    aka na emebe akwa umu nwoke na uzo opuruiche  golibe\", \"x\": 10.93988037109375, \"y\": 7.031499862670898}, {\"text\": \"nsogbu adighi  kachifo\", \"x\": 10.255836486816406, \"y\": 5.1164679527282715}, {\"text\": \"ekele na nsopuru diri gi chiokike maka ndu i nyere anyi  ahu ike na amara     riwo otito\", \"x\": 10.713854789733887, \"y\": 6.299015522003174}, {\"text\": \"kedu ka   mere ezigbo eyin m\", \"x\": 9.92212963104248, \"y\": 6.142884254455566}, {\"text\": \"otua ka chineke anyi di eh agidigba eh eh eh   waciservice1  hbdrevgodwinabba\", \"x\": 11.61131763458252, \"y\": 6.368945121765137}, {\"text\": \"t t   ma nwanne\", \"x\": 10.031658172607422, \"y\": 4.435576915740967}, {\"text\": \"jesus igwe ezeoha\", \"x\": 9.8215970993042, \"y\": 5.593745231628418}, {\"text\": \"i b  chukwu   b gh  mmad  you are god you re not man  i b  chukwu   b gh  mmad  i b  chukwu   b gh  mmad  i b  chukwu   b gh  mmad  na you be god almighty god you no be man oh you no be man oh\", \"x\": 11.444522857666016, \"y\": 5.27505350112915}, {\"text\": \"nne i s r  ike o\", \"x\": 10.261275291442871, \"y\": 4.495644569396973}, {\"text\": \"chukwu oma onyeoma na   chukwu oma onyeoma na   chukwu oma chobioma    praising god in a special\", \"x\": 11.12557315826416, \"y\": 5.964658737182617}, {\"text\": \"igbo amaka dimkpa anagh  a ka nk  n egwu   ma a gb   egwu ichaka\", \"x\": 11.2794771194458, \"y\": 5.583847522735596}, {\"text\": \"biri kam biri egbe bere ugo bere  nke si ibeya ebele  nkw  kwa ya\", \"x\": 11.155685424804688, \"y\": 5.602137088775635}, {\"text\": \"oga nd  oga\", \"x\": 10.473161697387695, \"y\": 4.413894176483154}, {\"text\": \"auntie ngo i like ya dress  omara ezigbo mma\", \"x\": 9.992021560668945, \"y\": 6.310240745544434}, {\"text\": \"happy birthday mazi iga adi ka echi makana echi adi agwu agwu  onyenweanyi gozie gi\", \"x\": 10.539046287536621, \"y\": 6.832559585571289}, {\"text\": \"ndewo nwoke  ma\", \"x\": 10.35029125213623, \"y\": 4.639925956726074}, {\"text\": \"nd  nke m\", \"x\": 10.452807426452637, \"y\": 4.410261631011963}, {\"text\": \"okonkwo in things fall apart   ka chukwu okike abiama chekwa gi  nye gi ahu ike n ogologo ndu\", \"x\": 10.293366432189941, \"y\": 5.763734817504883}, {\"text\": \"ezenkwobi  ny  spare parts na agbani\", \"x\": 10.849021911621094, \"y\": 5.680548191070557}, {\"text\": \"ekele dibia gworo akidi  ya agwota ozo\", \"x\": 10.725046157836914, \"y\": 6.129819869995117}, {\"text\": \"onye eze   udo di ri gi onye oma  more grace as you reach out to the masses in imo state  remember me kwanu e don tey na\", \"x\": 10.764763832092285, \"y\": 6.361621856689453}, {\"text\": \"biko ndi obodoukwu nwere umu asa di sharp bonario tell her pls\", \"x\": 11.043635368347168, \"y\": 5.960486888885498}, {\"text\": \"even contact his suppliers in china  chukwu mekwalu nd  ya ebele\", \"x\": 11.40189266204834, \"y\": 4.970411777496338}, {\"text\": \"time for our  thanksgiving dance and procession  nagode jesu ibu chukwu onye dinma oluwa etobi      thanksgivingsunday  talagos\", \"x\": 10.337320327758789, \"y\": 7.020638465881348}, {\"text\": \"lmao  chukwu gba gi ume\", \"x\": 11.209500312805176, \"y\": 5.042265892028809}, {\"text\": \"np chukwu agozi go gi   ft lucy q       dreamlounge with    tgif  turnup\", \"x\": 11.956889152526855, \"y\": 5.080770015716553}, {\"text\": \"it s the  thefirstflight2theweekend w   x  np chukwu agozi di gi ft\", \"x\": 11.847234725952148, \"y\": 5.177249431610107}, {\"text\": \"odogwu na agha dike na agha nara ekele odogwu na agha dike na agha nara ekele olisa kere uwa chukwu na eme nma agam buru hallelujah eburu bu gara jehovah  mercyconference2021\", \"x\": 11.195127487182617, \"y\": 6.1279497146606445}, {\"text\": \"good morning    ndi n anyi    bia ka anyi rie cc\", \"x\": 10.205114364624023, \"y\": 6.246896743774414}, {\"text\": \"jesus  aka m d  elu e jesus  ikpere m di na  l\", \"x\": 10.101073265075684, \"y\": 5.28060245513916}, {\"text\": \"nwa na asu igbo  obi dim uto  ada kedu\", \"x\": 11.036535263061523, \"y\": 5.202528953552246}, {\"text\": \"nna  jide ka iji\", \"x\": 11.085463523864746, \"y\": 4.4697160720825195}, {\"text\": \"ogssian nwanne  udo diri gi\", \"x\": 10.831934928894043, \"y\": 5.108544826507568}, {\"text\": \"ututu oma nna o  kedu\", \"x\": 10.764284133911133, \"y\": 4.557595252990723}, {\"text\": \"thank you jesus  onye nwe anyi imela    goodmorningenugu  goodmorningenugu2018\", \"x\": 10.001321792602539, \"y\": 6.7142791748046875}, {\"text\": \"chai    i na agba mbo ofuma  jisie ike\", \"x\": 10.556386947631836, \"y\": 5.445866584777832}, {\"text\": \"igbo ndi oma  ndewonu  bia soro noria na oge  obinwanne  ubochim cc\", \"x\": 11.224333763122559, \"y\": 5.650793552398682}]}}, {\"mode\": \"vega-lite\"});\n</script>",
      "text/plain": "alt.Chart(...)"
     },
     "execution_count": 27,
     "metadata": {},
     "output_type": "execute_result"
    },
    {
     "data": {
      "text/html": "\n<div id=\"altair-viz-6f998f5d1f6f46e393cfdc61f92f12cc\"></div>\n<script type=\"text/javascript\">\n  var VEGA_DEBUG = (typeof VEGA_DEBUG == \"undefined\") ? {} : VEGA_DEBUG;\n  (function(spec, embedOpt){\n    let outputDiv = document.currentScript.previousElementSibling;\n    if (outputDiv.id !== \"altair-viz-6f998f5d1f6f46e393cfdc61f92f12cc\") {\n      outputDiv = document.getElementById(\"altair-viz-6f998f5d1f6f46e393cfdc61f92f12cc\");\n    }\n    const paths = {\n      \"vega\": \"https://cdn.jsdelivr.net/npm//vega@5?noext\",\n      \"vega-lib\": \"https://cdn.jsdelivr.net/npm//vega-lib?noext\",\n      \"vega-lite\": \"https://cdn.jsdelivr.net/npm//vega-lite@4.17.0?noext\",\n      \"vega-embed\": \"https://cdn.jsdelivr.net/npm//vega-embed@6?noext\",\n    };\n\n    function maybeLoadScript(lib, version) {\n      var key = `${lib.replace(\"-\", \"\")}_version`;\n      return (VEGA_DEBUG[key] == version) ?\n        Promise.resolve(paths[lib]) :\n        new Promise(function(resolve, reject) {\n          var s = document.createElement('script');\n          document.getElementsByTagName(\"head\")[0].appendChild(s);\n          s.async = true;\n          s.onload = () => {\n            VEGA_DEBUG[key] = version;\n            return resolve(paths[lib]);\n          };\n          s.onerror = () => reject(`Error loading script: ${paths[lib]}`);\n          s.src = paths[lib];\n        });\n    }\n\n    function showError(err) {\n      outputDiv.innerHTML = `<div class=\"error\" style=\"color:red;\">${err}</div>`;\n      throw err;\n    }\n\n    function displayChart(vegaEmbed) {\n      vegaEmbed(outputDiv, spec, embedOpt)\n        .catch(err => showError(`Javascript Error: ${err.message}<br>This usually means there's a typo in your chart specification. See the javascript console for the full traceback.`));\n    }\n\n    if(typeof define === \"function\" && define.amd) {\n      requirejs.config({paths});\n      require([\"vega-embed\"], displayChart, err => showError(`Error loading script: ${err.message}`));\n    } else {\n      maybeLoadScript(\"vega\", \"5\")\n        .then(() => maybeLoadScript(\"vega-lite\", \"4.17.0\"))\n        .then(() => maybeLoadScript(\"vega-embed\", \"6\"))\n        .catch(showError)\n        .then(() => displayChart(vegaEmbed));\n    }\n  })({\"config\": {\"view\": {\"continuousWidth\": 400, \"continuousHeight\": 300}}, \"data\": {\"name\": \"data-ccff715ee5dc26c4be8a817db23bcfbd\"}, \"mark\": {\"type\": \"circle\", \"size\": 60}, \"encoding\": {\"tooltip\": [{\"field\": \"text\", \"type\": \"nominal\"}], \"x\": {\"field\": \"x\", \"scale\": {\"zero\": false}, \"type\": \"quantitative\"}, \"y\": {\"field\": \"y\", \"scale\": {\"zero\": false}, \"type\": \"quantitative\"}}, \"height\": 400, \"selection\": {\"selector003\": {\"type\": \"interval\", \"bind\": \"scales\", \"encodings\": [\"x\", \"y\"]}}, \"width\": 700, \"$schema\": \"https://vega.github.io/schema/vega-lite/v4.17.0.json\", \"datasets\": {\"data-ccff715ee5dc26c4be8a817db23bcfbd\": [{\"text\": \"baka film din banza director allah ya dafa ni nasan zai yi daidai da abnd ake bukata\", \"x\": -3.65866756439209, \"y\": 5.827525615692139}, {\"text\": \"allah ubangiji yaiwa rayuwarsa albarka\", \"x\": -1.7291141748428345, \"y\": 7.11196231842041}, {\"text\": \"abu nafarko gamawa da duniya lafiya kuma inason ingama da uwayena lafiya sannan arzikin duniya dana lahira  sannan inason ganin annabi  s a w  koda cikin mafarkinane   gaskiya dai kuma inason aur\", \"x\": -3.514648675918579, \"y\": 6.413743495941162}, {\"text\": \"allah yasa muyi kyakkyawan qarshe\", \"x\": -1.7075085639953613, \"y\": 6.132361888885498}, {\"text\": \"ba wasa a fuskokinsu  may you succeed always guys\", \"x\": 1.467414140701294, \"y\": 6.606542110443115}, {\"text\": \"aslm bbc hausa tambaya ta itace shekara bbc hausa nawa kuma a wace kasa takene nagode   fatan alkairi\", \"x\": -3.417334794998169, \"y\": 6.7608489990234375}, {\"text\": \"allah yasa donal trump y kawo w buhari ziyara suyi hanu biyu d shi amin\", \"x\": -2.699512243270874, \"y\": 7.253874778747559}, {\"text\": \"toh allah ya sakawa yan gaza\", \"x\": -2.415088176727295, \"y\": 6.857758522033691}, {\"text\": \"wannan gsky ne wallahi munacikin lahaula allah muke roqo daya kawo mana daukinsa\", \"x\": -3.281033754348755, \"y\": 6.40072774887085}, {\"text\": \"ya subhanallahi   allah ya jiqansu ya gafarta musu ameen\", \"x\": -1.5615507364273071, \"y\": 6.704918384552002}, {\"text\": \"ah lallai ka burge\", \"x\": -2.7447409629821777, \"y\": 5.9064621925354}, {\"text\": \"a haba dai kano pillars    allah ya bashi team a chan inda take\", \"x\": -3.6936120986938477, \"y\": 6.4611101150512695}, {\"text\": \"ba a cewa                  ya mutu                  kamarh dabba  sai dey ace                 yarasu                 allah ya mugane amen\", \"x\": -2.1641898155212402, \"y\": 6.484544277191162}, {\"text\": \"gsky ne allah ya taimaki\", \"x\": -2.4712131023406982, \"y\": 6.464388847351074}, {\"text\": \"sister dinki tayi kyau sosai\", \"x\": 0.6889511346817017, \"y\": 6.899405479431152}, {\"text\": \"allah yashiryar damu baki dai wlh wasu mutane akwai sheri garesu\", \"x\": -2.840813398361206, \"y\": 6.230906009674072}, {\"text\": \"allahu akbar allah yaqara nisan kwana mai amfani daga bakin jikan mal  arzika dan nepu sokoto state bodinga l g ketaeren sawaba area\", \"x\": -2.617368221282959, \"y\": 6.76587438583374}, {\"text\": \"allah ya sa mu dace amin\", \"x\": -2.1273045539855957, \"y\": 6.983356475830078}, {\"text\": \"gsky hirar nan tae dadi allah ya taemaka\", \"x\": -1.6286840438842773, \"y\": 6.457112789154053}, {\"text\": \"idan ansamu iphone 1 in aso\", \"x\": -0.7434425354003906, \"y\": 6.831268310546875}, {\"text\": \"gamji mazan kwarai namiji uban yan boko  allah ya qara haskaka makwanci\", \"x\": -2.6644437313079834, \"y\": 6.040765285491943}, {\"text\": \"ko babu komai akwai araha\", \"x\": -2.9729344844818115, \"y\": 6.691088676452637}, {\"text\": \"allah yakara jagora\", \"x\": -1.8833248615264893, \"y\": 6.00736665725708}, {\"text\": \"dan allah a ina xan samu complete shirinku da kukeyi mai suna dan birni i m in love with the movie  thanks   allah ya kara daukaka\", \"x\": -3.7035703659057617, \"y\": 5.760461807250977}, {\"text\": \"allah ya karemana kasarmu tagado nigeria da kare warsa daga sharrin yan siyasa ameeeeeeeeeen\", \"x\": -2.4644346237182617, \"y\": 5.982041835784912}, {\"text\": \"masha allah  muna godiya da aikin megida\", \"x\": -3.2907941341400146, \"y\": 6.22713041305542}, {\"text\": \"show love to rahama sadau\", \"x\": -0.1251019388437271, \"y\": 6.934095859527588}, {\"text\": \"good haka muke so yan man united ayi hakure sai next level\", \"x\": -3.8644542694091797, \"y\": 6.568772315979004}, {\"text\": \"allah yasa afara asa a allah yayi jagora\", \"x\": -2.173909902572632, \"y\": 5.937617778778076}, {\"text\": \"allah ya sauwaqe mata wannan jarrabawar\", \"x\": -2.723034143447876, \"y\": 7.272826194763184}, {\"text\": \"allah ya fiddasu lafiya   alfarmar annabi muhammad s a w\", \"x\": -1.7654813528060913, \"y\": 6.958671569824219}, {\"text\": \"allah ya sa ka da alkharin sa\", \"x\": -1.9937365055084229, \"y\": 7.260190486907959}, {\"text\": \"kuma dai ya allah mun mika lamuramu zuwa gareka ya allah ka kawo mana mafeta kasa ta nageria ya allah kai ne maji rokon bayinka amin ya hauyu ya kauyumu\", \"x\": -2.982621431350708, \"y\": 5.797135829925537}, {\"text\": \"amin y rabbi dama allah swt y halicche mu sannan y ban ban tamu t bangaren yare   al adu d kuma kabilu ba don komai bah se dan wannan dalilan allah y karo mana lpy d zaman lpy gami d yalwar arzik\", \"x\": -3.0001280307769775, \"y\": 6.978623867034912}, {\"text\": \"congratulations zamuzo musha kaman ba gobe\", \"x\": 1.6023375988006592, \"y\": 6.732519626617432}, {\"text\": \"congratulations stardom har birnin sin\", \"x\": -2.331016778945923, \"y\": 7.349184036254883}, {\"text\": \"allah yajikansa da rahma yasa albarka ga iyalansa daya bari amen\", \"x\": -1.9587757587432861, \"y\": 6.673827171325684}, {\"text\": \"mashaallah allah ya kara daukaka darajar wanan film allah ya nuna mana kizo jahar katsina domin haska mana shi a cinema amin\", \"x\": -3.573786973953247, \"y\": 5.680059909820557}, {\"text\": \"allah ka yaye mana wadannan masifu a nigeria\", \"x\": -2.3215932846069336, \"y\": 6.190983772277832}, {\"text\": \"toh mudae wannan cutar allah ya karu mu  kuma mutane sugane cewa idan kaga gemun dan uwanka yakama da wuta toh ka yai yafa ma naka ruwa\", \"x\": -2.7848446369171143, \"y\": 6.309315204620361}, {\"text\": \"yaye kyau    gaskiya mahmud yana playing role mai wuya a wannan shirrin labarin\", \"x\": -3.287477493286133, \"y\": 5.953753471374512}, {\"text\": \"allhmdllh      allah yatona asirinsu\", \"x\": -1.178110122680664, \"y\": 6.82158088684082}, {\"text\": \"koma wanne irin nau i neh allah zai karemu\", \"x\": -3.006174325942993, \"y\": 6.194026947021484}, {\"text\": \"ameen  may aljanna be their final abode\", \"x\": -1.251613736152649, \"y\": 6.9811811447143555}, {\"text\": \"allah ya tsare da gaba\", \"x\": -1.9625684022903442, \"y\": 6.631781578063965}, {\"text\": \"mukam muna biyayya ga gwamnati duk abunda tace idan bawai yasaba mawa addinin islama bane muna masu biyayya yauwa\", \"x\": -3.047844171524048, \"y\": 6.536402225494385}, {\"text\": \"allahu akbar  allah ka kawo mana karshen wannan bala i\", \"x\": -2.567466974258423, \"y\": 6.65478515625}, {\"text\": \"tsakani da allah in ba a yi hankali ba sai    sudan ta koma    libiya\", \"x\": -2.545058250427246, \"y\": 6.51675271987915}, {\"text\": \"happy birthday ezigbo nne mu ochie ka ife nile bu ife oma  aru isi ike n ogologo ndu buru nke gi  now and forever   amen\", \"x\": 1.9401036500930786, \"y\": 7.519783973693848}, {\"text\": \"o biliwo o biliwo jesu apoburu nelu obe onye mmeri\", \"x\": 2.4093470573425293, \"y\": 5.882562637329102}, {\"text\": \"nsogbu ad gh   omego n   nwa an  kita  nke ah  agbag   niru niru k any  n eje\", \"x\": 3.8580384254455566, \"y\": 6.566699504852295}, {\"text\": \"m  asa  gb  makata    so mma\", \"x\": 4.376672744750977, \"y\": 6.4889817237854}, {\"text\": \"wow        chidozie      ji si ike\", \"x\": 2.585409164428711, \"y\": 7.4467034339904785}, {\"text\": \"jehovah idi egwu jehovah idi egwu  praise  farandmode\", \"x\": 2.5878026485443115, \"y\": 5.692206859588623}, {\"text\": \"ekele d r  g  chukwuabiama     b ara egbu m  gbuo onwe ya  chineke  m  ntak r  daal  oo\", \"x\": 2.9801900386810303, \"y\": 6.330907821655273}, {\"text\": \"nnem chukwu go zie g  na nk  i kw r\", \"x\": 3.185558557510376, \"y\": 7.549006462097168}, {\"text\": \"igbo medley by    inspirationalhour with umu chineke eee\", \"x\": 3.414665699005127, \"y\": 5.612980842590332}, {\"text\": \"nwaeze adighi efu n mba\", \"x\": 3.91702938079834, \"y\": 6.171563625335693}, {\"text\": \"haew god  ezigbo nwanyi\", \"x\": 3.482274055480957, \"y\": 7.015244007110596}, {\"text\": \"ar r    ewo   jee nke  ma  gbu  j\", \"x\": 3.589249849319458, \"y\": 6.550194263458252}, {\"text\": \"hbd onyeoma  chukwu gozie gi   more hits  birikwa blessings lagos state house of\", \"x\": 2.355848789215088, \"y\": 7.064645767211914}, {\"text\": \"singing  onye neme mma lekwe ikperem nala      imela  africanpraise\", \"x\": 3.3280303478240967, \"y\": 5.694725036621094}, {\"text\": \"happy birthday nne   chukwu gozie gi ofuma\", \"x\": 2.1909475326538086, \"y\": 7.86744499206543}, {\"text\": \"happy birthday chinecherem  okenwa  chukwu goziwerem gi    aka na emebe akwa umu nwoke na uzo opuruiche  golibe\", \"x\": 2.2250781059265137, \"y\": 7.680427074432373}, {\"text\": \"nsogbu adighi  kachifo\", \"x\": 4.088986396789551, \"y\": 6.542566776275635}, {\"text\": \"ekele na nsopuru diri gi chiokike maka ndu i nyere anyi  ahu ike na amara     riwo otito\", \"x\": 2.5711100101470947, \"y\": 6.446013450622559}, {\"text\": \"kedu ka   mere ezigbo eyin m\", \"x\": 2.482296943664551, \"y\": 6.574311256408691}, {\"text\": \"otua ka chineke anyi di eh agidigba eh eh eh   waciservice1  hbdrevgodwinabba\", \"x\": 2.5585670471191406, \"y\": 7.010672092437744}, {\"text\": \"t t   ma nwanne\", \"x\": 4.095323085784912, \"y\": 6.8520660400390625}, {\"text\": \"jesus igwe ezeoha\", \"x\": 2.805248498916626, \"y\": 5.989287853240967}, {\"text\": \"i b  chukwu   b gh  mmad  you are god you re not man  i b  chukwu   b gh  mmad  i b  chukwu   b gh  mmad  i b  chukwu   b gh  mmad  na you be god almighty god you no be man oh you no be man oh\", \"x\": 3.1493048667907715, \"y\": 7.231438636779785}, {\"text\": \"nne i s r  ike o\", \"x\": 4.202154159545898, \"y\": 7.108744144439697}, {\"text\": \"chukwu oma onyeoma na   chukwu oma onyeoma na   chukwu oma chobioma    praising god in a special\", \"x\": 2.759524345397949, \"y\": 7.1453375816345215}, {\"text\": \"igbo amaka dimkpa anagh  a ka nk  n egwu   ma a gb   egwu ichaka\", \"x\": 3.721499443054199, \"y\": 5.873318195343018}, {\"text\": \"biri kam biri egbe bere ugo bere  nke si ibeya ebele  nkw  kwa ya\", \"x\": 3.415070056915283, \"y\": 6.150424480438232}, {\"text\": \"oga nd  oga\", \"x\": 4.3392014503479, \"y\": 7.103463172912598}, {\"text\": \"auntie ngo i like ya dress  omara ezigbo mma\", \"x\": 2.212672710418701, \"y\": 6.7340898513793945}, {\"text\": \"happy birthday mazi iga adi ka echi makana echi adi agwu agwu  onyenweanyi gozie gi\", \"x\": 2.081810474395752, \"y\": 7.698305606842041}, {\"text\": \"ndewo nwoke  ma\", \"x\": 3.8620426654815674, \"y\": 7.238236427307129}, {\"text\": \"nd  nke m\", \"x\": 4.2926411628723145, \"y\": 7.200191974639893}, {\"text\": \"okonkwo in things fall apart   ka chukwu okike abiama chekwa gi  nye gi ahu ike n ogologo ndu\", \"x\": 2.981149435043335, \"y\": 6.366130828857422}, {\"text\": \"ezenkwobi  ny  spare parts na agbani\", \"x\": 3.2558674812316895, \"y\": 6.668898582458496}, {\"text\": \"ekele dibia gworo akidi  ya agwota ozo\", \"x\": 2.2234487533569336, \"y\": 6.197790145874023}, {\"text\": \"onye eze   udo di ri gi onye oma  more grace as you reach out to the masses in imo state  remember me kwanu e don tey na\", \"x\": 2.215559482574463, \"y\": 6.332165718078613}, {\"text\": \"biko ndi obodoukwu nwere umu asa di sharp bonario tell her pls\", \"x\": 2.7251389026641846, \"y\": 6.293464660644531}, {\"text\": \"even contact his suppliers in china  chukwu mekwalu nd  ya ebele\", \"x\": 3.1134374141693115, \"y\": 7.584030628204346}, {\"text\": \"time for our  thanksgiving dance and procession  nagode jesu ibu chukwu onye dinma oluwa etobi      thanksgivingsunday  talagos\", \"x\": 1.894051194190979, \"y\": 7.41526460647583}, {\"text\": \"lmao  chukwu gba gi ume\", \"x\": 3.4808132648468018, \"y\": 7.4986467361450195}, {\"text\": \"np chukwu agozi go gi   ft lucy q       dreamlounge with    tgif  turnup\", \"x\": 3.3864970207214355, \"y\": 7.869524002075195}, {\"text\": \"it s the  thefirstflight2theweekend w   x  np chukwu agozi di gi ft\", \"x\": 3.4764938354492188, \"y\": 7.926671981811523}, {\"text\": \"odogwu na agha dike na agha nara ekele odogwu na agha dike na agha nara ekele olisa kere uwa chukwu na eme nma agam buru hallelujah eburu bu gara jehovah  mercyconference2021\", \"x\": 2.2598745822906494, \"y\": 6.008754253387451}, {\"text\": \"good morning    ndi n anyi    bia ka anyi rie cc\", \"x\": 2.882990598678589, \"y\": 6.905091285705566}, {\"text\": \"jesus  aka m d  elu e jesus  ikpere m di na  l\", \"x\": 3.023944854736328, \"y\": 5.995624542236328}, {\"text\": \"nwa na asu igbo  obi dim uto  ada kedu\", \"x\": 3.6654717922210693, \"y\": 6.217387676239014}, {\"text\": \"nna  jide ka iji\", \"x\": 3.6922080516815186, \"y\": 6.88853120803833}, {\"text\": \"ogssian nwanne  udo diri gi\", \"x\": 3.2608141899108887, \"y\": 6.255006313323975}, {\"text\": \"ututu oma nna o  kedu\", \"x\": 3.9408841133117676, \"y\": 7.343095302581787}, {\"text\": \"thank you jesus  onye nwe anyi imela    goodmorningenugu  goodmorningenugu2018\", \"x\": 1.840342402458191, \"y\": 6.839431285858154}, {\"text\": \"chai    i na agba mbo ofuma  jisie ike\", \"x\": 3.395658016204834, \"y\": 6.531037330627441}, {\"text\": \"igbo ndi oma  ndewonu  bia soro noria na oge  obinwanne  ubochim cc\", \"x\": 3.589456081390381, \"y\": 6.0474019050598145}]}}, {\"mode\": \"vega-lite\"});\n</script>",
      "text/plain": "alt.Chart(...)"
     },
     "execution_count": 28,
     "metadata": {},
     "output_type": "execute_result"
    }
   ],
   "source": [
    "# UMAP reduces the dimensions from 1024 to 2 dimensions that we can plot\n",
    "reducer = umap.UMAP(n_neighbors=20)\n",
    "umap_embeds = reducer.fit_transform(embeddings)\n",
    "# Prepare the data to plot and interactive visualization\n",
    "# using Altair\n",
    "df_explore = pd.DataFrame(data={'text': df['ha_ig_text'][:100]})\n",
    "df_explore['x'] = umap_embeds[:,0]\n",
    "df_explore['y'] = umap_embeds[:,1]\n",
    "# Plot\n",
    "chart = alt.Chart(df_explore).mark_circle(size=60).encode(\n",
    "    x=#'x',\n",
    "    alt.X('x',\n",
    "        scale=alt.Scale(zero=False)\n",
    "    ),\n",
    "    y=\n",
    "    alt.Y('y',\n",
    "        scale=alt.Scale(zero=False)\n",
    "    ),\n",
    "    tooltip=['text']\n",
    ").properties(\n",
    "    width=700,\n",
    "    height=400\n",
    ")\n",
    "chart.interactive()"
   ]
  },
  {
   "cell_type": "markdown",
   "metadata": {},
   "source": [
    "!['visualizstion](data/visualization.png)"
   ]
  },
  {
   "cell_type": "markdown",
   "metadata": {},
   "source": [
    "## Cross-Lingual Similarity"
   ]
  },
  {
   "cell_type": "markdown",
   "metadata": {},
   "source": []
  },
  {
   "cell_type": "code",
   "execution_count": 29,
   "metadata": {},
   "outputs": [],
   "source": [
    "def visualize_similarity(embeddings_1, embeddings_2, labels_1, labels_2,\n",
    "                         plot_title,\n",
    "                         plot_width=1200, plot_height=600,\n",
    "                         xaxis_font_size='12pt', yaxis_font_size='12pt'):\n",
    "\n",
    "  assert len(embeddings_1) == len(labels_1)\n",
    "  assert len(embeddings_2) == len(labels_2)\n",
    "\n",
    "  # arccos based text similarity (Yang et al. 2019; Cer et al. 2019)\n",
    "  sim = 1 - np.arccos(\n",
    "      sklearn.metrics.pairwise.cosine_similarity(embeddings_1,\n",
    "                                                 embeddings_2))/np.pi\n",
    "\n",
    "  embeddings_1_col, embeddings_2_col, sim_col = [], [], []\n",
    "  for i in range(len(embeddings_1)):\n",
    "    for j in range(len(embeddings_2)):\n",
    "      embeddings_1_col.append(labels_1[i])\n",
    "      embeddings_2_col.append(labels_2[j])\n",
    "      sim_col.append(sim[i][j])\n",
    "  df = pd.DataFrame(zip(embeddings_1_col, embeddings_2_col, sim_col),\n",
    "                    columns=['embeddings_1', 'embeddings_2', 'sim'])\n",
    "\n",
    "  mapper = bokeh.models.LinearColorMapper(\n",
    "      palette=[*reversed(bokeh.palettes.YlOrRd[9])], low=df.sim.min(),\n",
    "      high=df.sim.max())\n",
    "\n",
    "  p = bokeh.plotting.figure(title=plot_title, x_range=labels_1,\n",
    "                            x_axis_location=\"above\",\n",
    "                            y_range=[*reversed(labels_2)],\n",
    "                            plot_width=plot_width, plot_height=plot_height,\n",
    "                            tools=\"save\",toolbar_location='below', tooltips=[\n",
    "                                ('pair', '@embeddings_1 ||| @embeddings_2'),\n",
    "                                ('sim', '@sim')])\n",
    "  p.rect(x=\"embeddings_1\", y=\"embeddings_2\", width=1, height=1, source=df,\n",
    "         fill_color={'field': 'sim', 'transform': mapper}, line_color=None)\n",
    "\n",
    "  p.title.text_font_size = '12pt'\n",
    "  p.axis.axis_line_color = None\n",
    "  p.axis.major_tick_line_color = None\n",
    "  p.axis.major_label_standoff = 16\n",
    "  p.xaxis.major_label_text_font_size = xaxis_font_size\n",
    "  p.xaxis.major_label_orientation = 0.25 * np.pi\n",
    "  p.yaxis.major_label_text_font_size = yaxis_font_size\n",
    "  p.min_border_right = 300\n",
    "\n",
    "  bokeh.io.output_notebook()\n",
    "  bokeh.io.show(p)"
   ]
  },
  {
   "cell_type": "code",
   "execution_count": 30,
   "metadata": {},
   "outputs": [],
   "source": [
    "def embed_text(input):\n",
    "  return embeddings(input)"
   ]
  },
  {
   "cell_type": "code",
   "execution_count": 31,
   "metadata": {},
   "outputs": [],
   "source": [
    "hausa_sentences = ['ina farin cikin da wannan hadin', 'farin ciki', 'tambaya','nasara','lafiya']\n",
    "igbo_sentences = ['Enwere m obi ụtọ na nchikota a','obi ụtọ', 'juo','mmeri','ahụike']"
   ]
  },
  {
   "cell_type": "code",
   "execution_count": null,
   "outputs": [],
   "source": [],
   "metadata": {
    "collapsed": false
   }
  },
  {
   "cell_type": "code",
   "execution_count": 32,
   "metadata": {},
   "outputs": [
    {
     "data": {
      "text/plain": "4687"
     },
     "execution_count": 32,
     "metadata": {},
     "output_type": "execute_result"
    }
   ],
   "source": [
    "hausa_lst = df[\"ha_text\"].to_list()\n",
    "igbo_lst = df[\"ig_text\"].to_list()\n",
    "len(hausa_lst)"
   ]
  },
  {
   "cell_type": "code",
   "execution_count": 33,
   "metadata": {},
   "outputs": [],
   "source": [
    "# Compute embeddings.\n",
    "ha_result = co.embed(hausa_lst[:5], model=\"embed-multilingual-v2.0\")\n",
    "ha_result = np.array(list(ha_result))\n",
    "\n",
    "ig_result = co.embed(igbo_lst[:5], model=\"embed-multilingual-v2.0\")\n",
    "ig_result = np.array(list(ig_result))\n"
   ]
  },
  {
   "cell_type": "markdown",
   "metadata": {},
   "source": [
    "## Visualizing Similarity\n",
    "\n",
    "With text embeddings in hand, we can take their dot-product to visualize how similar sentences are between languages. A darker color indicates the embeddings are semantically similar."
   ]
  },
  {
   "cell_type": "code",
   "execution_count": 34,
   "metadata": {},
   "outputs": [
    {
     "data": {
      "text/html": "<div class=\"bk-root\">\n        <a href=\"https://bokeh.org\" target=\"_blank\" class=\"bk-logo bk-logo-small bk-logo-notebook\"></a>\n        <span id=\"1117\">Loading BokehJS ...</span>\n    </div>\n"
     },
     "metadata": {},
     "output_type": "display_data"
    },
    {
     "data": {
      "application/javascript": "(function(root) {\n  function now() {\n    return new Date();\n  }\n\n  const force = true;\n\n  if (typeof root._bokeh_onload_callbacks === \"undefined\" || force === true) {\n    root._bokeh_onload_callbacks = [];\n    root._bokeh_is_loading = undefined;\n  }\n\nconst JS_MIME_TYPE = 'application/javascript';\n  const HTML_MIME_TYPE = 'text/html';\n  const EXEC_MIME_TYPE = 'application/vnd.bokehjs_exec.v0+json';\n  const CLASS_NAME = 'output_bokeh rendered_html';\n\n  /**\n   * Render data to the DOM node\n   */\n  function render(props, node) {\n    const script = document.createElement(\"script\");\n    node.appendChild(script);\n  }\n\n  /**\n   * Handle when an output is cleared or removed\n   */\n  function handleClearOutput(event, handle) {\n    const cell = handle.cell;\n\n    const id = cell.output_area._bokeh_element_id;\n    const server_id = cell.output_area._bokeh_server_id;\n    // Clean up Bokeh references\n    if (id != null && id in Bokeh.index) {\n      Bokeh.index[id].model.document.clear();\n      delete Bokeh.index[id];\n    }\n\n    if (server_id !== undefined) {\n      // Clean up Bokeh references\n      const cmd_clean = \"from bokeh.io.state import curstate; print(curstate().uuid_to_server['\" + server_id + \"'].get_sessions()[0].document.roots[0]._id)\";\n      cell.notebook.kernel.execute(cmd_clean, {\n        iopub: {\n          output: function(msg) {\n            const id = msg.content.text.trim();\n            if (id in Bokeh.index) {\n              Bokeh.index[id].model.document.clear();\n              delete Bokeh.index[id];\n            }\n          }\n        }\n      });\n      // Destroy server and session\n      const cmd_destroy = \"import bokeh.io.notebook as ion; ion.destroy_server('\" + server_id + \"')\";\n      cell.notebook.kernel.execute(cmd_destroy);\n    }\n  }\n\n  /**\n   * Handle when a new output is added\n   */\n  function handleAddOutput(event, handle) {\n    const output_area = handle.output_area;\n    const output = handle.output;\n\n    // limit handleAddOutput to display_data with EXEC_MIME_TYPE content only\n    if ((output.output_type != \"display_data\") || (!Object.prototype.hasOwnProperty.call(output.data, EXEC_MIME_TYPE))) {\n      return\n    }\n\n    const toinsert = output_area.element.find(\".\" + CLASS_NAME.split(' ')[0]);\n\n    if (output.metadata[EXEC_MIME_TYPE][\"id\"] !== undefined) {\n      toinsert[toinsert.length - 1].firstChild.textContent = output.data[JS_MIME_TYPE];\n      // store reference to embed id on output_area\n      output_area._bokeh_element_id = output.metadata[EXEC_MIME_TYPE][\"id\"];\n    }\n    if (output.metadata[EXEC_MIME_TYPE][\"server_id\"] !== undefined) {\n      const bk_div = document.createElement(\"div\");\n      bk_div.innerHTML = output.data[HTML_MIME_TYPE];\n      const script_attrs = bk_div.children[0].attributes;\n      for (let i = 0; i < script_attrs.length; i++) {\n        toinsert[toinsert.length - 1].firstChild.setAttribute(script_attrs[i].name, script_attrs[i].value);\n        toinsert[toinsert.length - 1].firstChild.textContent = bk_div.children[0].textContent\n      }\n      // store reference to server id on output_area\n      output_area._bokeh_server_id = output.metadata[EXEC_MIME_TYPE][\"server_id\"];\n    }\n  }\n\n  function register_renderer(events, OutputArea) {\n\n    function append_mime(data, metadata, element) {\n      // create a DOM node to render to\n      const toinsert = this.create_output_subarea(\n        metadata,\n        CLASS_NAME,\n        EXEC_MIME_TYPE\n      );\n      this.keyboard_manager.register_events(toinsert);\n      // Render to node\n      const props = {data: data, metadata: metadata[EXEC_MIME_TYPE]};\n      render(props, toinsert[toinsert.length - 1]);\n      element.append(toinsert);\n      return toinsert\n    }\n\n    /* Handle when an output is cleared or removed */\n    events.on('clear_output.CodeCell', handleClearOutput);\n    events.on('delete.Cell', handleClearOutput);\n\n    /* Handle when a new output is added */\n    events.on('output_added.OutputArea', handleAddOutput);\n\n    /**\n     * Register the mime type and append_mime function with output_area\n     */\n    OutputArea.prototype.register_mime_type(EXEC_MIME_TYPE, append_mime, {\n      /* Is output safe? */\n      safe: true,\n      /* Index of renderer in `output_area.display_order` */\n      index: 0\n    });\n  }\n\n  // register the mime type if in Jupyter Notebook environment and previously unregistered\n  if (root.Jupyter !== undefined) {\n    const events = require('base/js/events');\n    const OutputArea = require('notebook/js/outputarea').OutputArea;\n\n    if (OutputArea.prototype.mime_types().indexOf(EXEC_MIME_TYPE) == -1) {\n      register_renderer(events, OutputArea);\n    }\n  }\n  if (typeof (root._bokeh_timeout) === \"undefined\" || force === true) {\n    root._bokeh_timeout = Date.now() + 5000;\n    root._bokeh_failed_load = false;\n  }\n\n  const NB_LOAD_WARNING = {'data': {'text/html':\n     \"<div style='background-color: #fdd'>\\n\"+\n     \"<p>\\n\"+\n     \"BokehJS does not appear to have successfully loaded. If loading BokehJS from CDN, this \\n\"+\n     \"may be due to a slow or bad network connection. Possible fixes:\\n\"+\n     \"</p>\\n\"+\n     \"<ul>\\n\"+\n     \"<li>re-rerun `output_notebook()` to attempt to load from CDN again, or</li>\\n\"+\n     \"<li>use INLINE resources instead, as so:</li>\\n\"+\n     \"</ul>\\n\"+\n     \"<code>\\n\"+\n     \"from bokeh.resources import INLINE\\n\"+\n     \"output_notebook(resources=INLINE)\\n\"+\n     \"</code>\\n\"+\n     \"</div>\"}};\n\n  function display_loaded() {\n    const el = document.getElementById(\"1117\");\n    if (el != null) {\n      el.textContent = \"BokehJS is loading...\";\n    }\n    if (root.Bokeh !== undefined) {\n      if (el != null) {\n        el.textContent = \"BokehJS \" + root.Bokeh.version + \" successfully loaded.\";\n      }\n    } else if (Date.now() < root._bokeh_timeout) {\n      setTimeout(display_loaded, 100)\n    }\n  }\n\n  function run_callbacks() {\n    try {\n      root._bokeh_onload_callbacks.forEach(function(callback) {\n        if (callback != null)\n          callback();\n      });\n    } finally {\n      delete root._bokeh_onload_callbacks\n    }\n    console.debug(\"Bokeh: all callbacks have finished\");\n  }\n\n  function load_libs(css_urls, js_urls, callback) {\n    if (css_urls == null) css_urls = [];\n    if (js_urls == null) js_urls = [];\n\n    root._bokeh_onload_callbacks.push(callback);\n    if (root._bokeh_is_loading > 0) {\n      console.debug(\"Bokeh: BokehJS is being loaded, scheduling callback at\", now());\n      return null;\n    }\n    if (js_urls == null || js_urls.length === 0) {\n      run_callbacks();\n      return null;\n    }\n    console.debug(\"Bokeh: BokehJS not loaded, scheduling load and callback at\", now());\n    root._bokeh_is_loading = css_urls.length + js_urls.length;\n\n    function on_load() {\n      root._bokeh_is_loading--;\n      if (root._bokeh_is_loading === 0) {\n        console.debug(\"Bokeh: all BokehJS libraries/stylesheets loaded\");\n        run_callbacks()\n      }\n    }\n\n    function on_error(url) {\n      console.error(\"failed to load \" + url);\n    }\n\n    for (let i = 0; i < css_urls.length; i++) {\n      const url = css_urls[i];\n      const element = document.createElement(\"link\");\n      element.onload = on_load;\n      element.onerror = on_error.bind(null, url);\n      element.rel = \"stylesheet\";\n      element.type = \"text/css\";\n      element.href = url;\n      console.debug(\"Bokeh: injecting link tag for BokehJS stylesheet: \", url);\n      document.body.appendChild(element);\n    }\n\n    for (let i = 0; i < js_urls.length; i++) {\n      const url = js_urls[i];\n      const element = document.createElement('script');\n      element.onload = on_load;\n      element.onerror = on_error.bind(null, url);\n      element.async = false;\n      element.src = url;\n      console.debug(\"Bokeh: injecting script tag for BokehJS library: \", url);\n      document.head.appendChild(element);\n    }\n  };\n\n  function inject_raw_css(css) {\n    const element = document.createElement(\"style\");\n    element.appendChild(document.createTextNode(css));\n    document.body.appendChild(element);\n  }\n\n  const js_urls = [\"https://cdn.bokeh.org/bokeh/release/bokeh-2.4.3.min.js\", \"https://cdn.bokeh.org/bokeh/release/bokeh-gl-2.4.3.min.js\", \"https://cdn.bokeh.org/bokeh/release/bokeh-widgets-2.4.3.min.js\", \"https://cdn.bokeh.org/bokeh/release/bokeh-tables-2.4.3.min.js\", \"https://cdn.bokeh.org/bokeh/release/bokeh-mathjax-2.4.3.min.js\"];\n  const css_urls = [];\n\n  const inline_js = [    function(Bokeh) {\n      Bokeh.set_log_level(\"info\");\n    },\nfunction(Bokeh) {\n    }\n  ];\n\n  function run_inline_js() {\n    if (root.Bokeh !== undefined || force === true) {\n          for (let i = 0; i < inline_js.length; i++) {\n      inline_js[i].call(root, root.Bokeh);\n    }\nif (force === true) {\n        display_loaded();\n      }} else if (Date.now() < root._bokeh_timeout) {\n      setTimeout(run_inline_js, 100);\n    } else if (!root._bokeh_failed_load) {\n      console.log(\"Bokeh: BokehJS failed to load within specified timeout.\");\n      root._bokeh_failed_load = true;\n    } else if (force !== true) {\n      const cell = $(document.getElementById(\"1117\")).parents('.cell').data().cell;\n      cell.output_area.append_execute_result(NB_LOAD_WARNING)\n    }\n  }\n\n  if (root._bokeh_is_loading === 0) {\n    console.debug(\"Bokeh: BokehJS loaded, going straight to plotting\");\n    run_inline_js();\n  } else {\n    load_libs(css_urls, js_urls, function() {\n      console.debug(\"Bokeh: BokehJS plotting callback run at\", now());\n      run_inline_js();\n    });\n  }\n}(window));",
      "application/vnd.bokehjs_load.v0+json": "(function(root) {\n  function now() {\n    return new Date();\n  }\n\n  const force = true;\n\n  if (typeof root._bokeh_onload_callbacks === \"undefined\" || force === true) {\n    root._bokeh_onload_callbacks = [];\n    root._bokeh_is_loading = undefined;\n  }\n\n\n  if (typeof (root._bokeh_timeout) === \"undefined\" || force === true) {\n    root._bokeh_timeout = Date.now() + 5000;\n    root._bokeh_failed_load = false;\n  }\n\n  const NB_LOAD_WARNING = {'data': {'text/html':\n     \"<div style='background-color: #fdd'>\\n\"+\n     \"<p>\\n\"+\n     \"BokehJS does not appear to have successfully loaded. If loading BokehJS from CDN, this \\n\"+\n     \"may be due to a slow or bad network connection. Possible fixes:\\n\"+\n     \"</p>\\n\"+\n     \"<ul>\\n\"+\n     \"<li>re-rerun `output_notebook()` to attempt to load from CDN again, or</li>\\n\"+\n     \"<li>use INLINE resources instead, as so:</li>\\n\"+\n     \"</ul>\\n\"+\n     \"<code>\\n\"+\n     \"from bokeh.resources import INLINE\\n\"+\n     \"output_notebook(resources=INLINE)\\n\"+\n     \"</code>\\n\"+\n     \"</div>\"}};\n\n  function display_loaded() {\n    const el = document.getElementById(\"1117\");\n    if (el != null) {\n      el.textContent = \"BokehJS is loading...\";\n    }\n    if (root.Bokeh !== undefined) {\n      if (el != null) {\n        el.textContent = \"BokehJS \" + root.Bokeh.version + \" successfully loaded.\";\n      }\n    } else if (Date.now() < root._bokeh_timeout) {\n      setTimeout(display_loaded, 100)\n    }\n  }\n\n  function run_callbacks() {\n    try {\n      root._bokeh_onload_callbacks.forEach(function(callback) {\n        if (callback != null)\n          callback();\n      });\n    } finally {\n      delete root._bokeh_onload_callbacks\n    }\n    console.debug(\"Bokeh: all callbacks have finished\");\n  }\n\n  function load_libs(css_urls, js_urls, callback) {\n    if (css_urls == null) css_urls = [];\n    if (js_urls == null) js_urls = [];\n\n    root._bokeh_onload_callbacks.push(callback);\n    if (root._bokeh_is_loading > 0) {\n      console.debug(\"Bokeh: BokehJS is being loaded, scheduling callback at\", now());\n      return null;\n    }\n    if (js_urls == null || js_urls.length === 0) {\n      run_callbacks();\n      return null;\n    }\n    console.debug(\"Bokeh: BokehJS not loaded, scheduling load and callback at\", now());\n    root._bokeh_is_loading = css_urls.length + js_urls.length;\n\n    function on_load() {\n      root._bokeh_is_loading--;\n      if (root._bokeh_is_loading === 0) {\n        console.debug(\"Bokeh: all BokehJS libraries/stylesheets loaded\");\n        run_callbacks()\n      }\n    }\n\n    function on_error(url) {\n      console.error(\"failed to load \" + url);\n    }\n\n    for (let i = 0; i < css_urls.length; i++) {\n      const url = css_urls[i];\n      const element = document.createElement(\"link\");\n      element.onload = on_load;\n      element.onerror = on_error.bind(null, url);\n      element.rel = \"stylesheet\";\n      element.type = \"text/css\";\n      element.href = url;\n      console.debug(\"Bokeh: injecting link tag for BokehJS stylesheet: \", url);\n      document.body.appendChild(element);\n    }\n\n    for (let i = 0; i < js_urls.length; i++) {\n      const url = js_urls[i];\n      const element = document.createElement('script');\n      element.onload = on_load;\n      element.onerror = on_error.bind(null, url);\n      element.async = false;\n      element.src = url;\n      console.debug(\"Bokeh: injecting script tag for BokehJS library: \", url);\n      document.head.appendChild(element);\n    }\n  };\n\n  function inject_raw_css(css) {\n    const element = document.createElement(\"style\");\n    element.appendChild(document.createTextNode(css));\n    document.body.appendChild(element);\n  }\n\n  const js_urls = [\"https://cdn.bokeh.org/bokeh/release/bokeh-2.4.3.min.js\", \"https://cdn.bokeh.org/bokeh/release/bokeh-gl-2.4.3.min.js\", \"https://cdn.bokeh.org/bokeh/release/bokeh-widgets-2.4.3.min.js\", \"https://cdn.bokeh.org/bokeh/release/bokeh-tables-2.4.3.min.js\", \"https://cdn.bokeh.org/bokeh/release/bokeh-mathjax-2.4.3.min.js\"];\n  const css_urls = [];\n\n  const inline_js = [    function(Bokeh) {\n      Bokeh.set_log_level(\"info\");\n    },\nfunction(Bokeh) {\n    }\n  ];\n\n  function run_inline_js() {\n    if (root.Bokeh !== undefined || force === true) {\n          for (let i = 0; i < inline_js.length; i++) {\n      inline_js[i].call(root, root.Bokeh);\n    }\nif (force === true) {\n        display_loaded();\n      }} else if (Date.now() < root._bokeh_timeout) {\n      setTimeout(run_inline_js, 100);\n    } else if (!root._bokeh_failed_load) {\n      console.log(\"Bokeh: BokehJS failed to load within specified timeout.\");\n      root._bokeh_failed_load = true;\n    } else if (force !== true) {\n      const cell = $(document.getElementById(\"1117\")).parents('.cell').data().cell;\n      cell.output_area.append_execute_result(NB_LOAD_WARNING)\n    }\n  }\n\n  if (root._bokeh_is_loading === 0) {\n    console.debug(\"Bokeh: BokehJS loaded, going straight to plotting\");\n    run_inline_js();\n  } else {\n    load_libs(css_urls, js_urls, function() {\n      console.debug(\"Bokeh: BokehJS plotting callback run at\", now());\n      run_inline_js();\n    });\n  }\n}(window));"
     },
     "metadata": {},
     "output_type": "display_data"
    },
    {
     "data": {
      "text/html": "\n  <div class=\"bk-root\" id=\"fc365ca9-61a6-4b3d-917a-25b465eacf0a\" data-root-id=\"1088\"></div>\n"
     },
     "metadata": {},
     "output_type": "display_data"
    },
    {
     "data": {
      "application/javascript": "(function(root) {\n  function embed_document(root) {\n  const docs_json = {\"a2ddd6be-0982-4226-88b8-804e4eb333d3\":{\"defs\":[],\"roots\":{\"references\":[{\"attributes\":{\"above\":[{\"id\":\"1099\"}],\"background_fill_color\":\"#20262B\",\"border_fill_color\":\"#15191C\",\"center\":[{\"id\":\"1101\"},{\"id\":\"1104\"}],\"left\":[{\"id\":\"1102\"}],\"min_border_right\":300,\"outline_line_alpha\":0.25,\"outline_line_color\":\"#E0E0E0\",\"renderers\":[{\"id\":\"1115\"}],\"title\":{\"id\":\"1089\"},\"toolbar\":{\"id\":\"1107\"},\"toolbar_location\":\"below\",\"width\":1200,\"x_range\":{\"id\":\"1091\"},\"x_scale\":{\"id\":\"1095\"},\"y_range\":{\"id\":\"1093\"},\"y_scale\":{\"id\":\"1097\"}},\"id\":\"1088\",\"subtype\":\"Figure\",\"type\":\"Plot\"},{\"attributes\":{},\"id\":\"1095\",\"type\":\"CategoricalScale\"},{\"attributes\":{\"tools\":[{\"id\":\"1105\"},{\"id\":\"1106\"}]},\"id\":\"1107\",\"type\":\"Toolbar\"},{\"attributes\":{\"axis_label_standoff\":10,\"axis_label_text_color\":\"#E0E0E0\",\"axis_label_text_font\":\"Helvetica\",\"axis_label_text_font_size\":\"1.25em\",\"axis_label_text_font_style\":\"normal\",\"axis_line_alpha\":0,\"axis_line_color\":null,\"coordinates\":null,\"formatter\":{\"id\":\"1132\"},\"group\":null,\"major_label_orientation\":0.7853981633974483,\"major_label_policy\":{\"id\":\"1133\"},\"major_label_standoff\":16,\"major_label_text_color\":\"#E0E0E0\",\"major_label_text_font\":\"Helvetica\",\"major_label_text_font_size\":\"12pt\",\"major_tick_line_alpha\":0,\"major_tick_line_color\":null,\"minor_tick_line_alpha\":0,\"minor_tick_line_color\":\"#E0E0E0\",\"ticker\":{\"id\":\"1100\"}},\"id\":\"1099\",\"type\":\"CategoricalAxis\"},{\"attributes\":{\"coordinates\":null,\"data_source\":{\"id\":\"1110\"},\"glyph\":{\"id\":\"1112\"},\"group\":null,\"hover_glyph\":null,\"muted_glyph\":{\"id\":\"1114\"},\"nonselection_glyph\":{\"id\":\"1113\"},\"view\":{\"id\":\"1116\"}},\"id\":\"1115\",\"type\":\"GlyphRenderer\"},{\"attributes\":{},\"id\":\"1100\",\"type\":\"CategoricalTicker\"},{\"attributes\":{},\"id\":\"1132\",\"type\":\"CategoricalTickFormatter\"},{\"attributes\":{},\"id\":\"1097\",\"type\":\"CategoricalScale\"},{\"attributes\":{\"source\":{\"id\":\"1110\"}},\"id\":\"1116\",\"type\":\"CDSView\"},{\"attributes\":{\"high\":0.8673247796618359,\"low\":0.8178384784015282,\"palette\":[\"#ffffcc\",\"#ffeda0\",\"#fed976\",\"#feb24c\",\"#fd8d3c\",\"#fc4e2a\",\"#e31a1c\",\"#bd0026\",\"#800026\"]},\"id\":\"1087\",\"type\":\"LinearColorMapper\"},{\"attributes\":{\"fill_color\":{\"field\":\"sim\",\"transform\":{\"id\":\"1087\"}},\"height\":{\"value\":1},\"line_color\":{\"value\":null},\"width\":{\"value\":1},\"x\":{\"field\":\"embeddings_1\"},\"y\":{\"field\":\"embeddings_2\"}},\"id\":\"1112\",\"type\":\"Rect\"},{\"attributes\":{},\"id\":\"1135\",\"type\":\"Selection\"},{\"attributes\":{\"axis\":{\"id\":\"1099\"},\"coordinates\":null,\"grid_line_alpha\":0.25,\"grid_line_color\":\"#E0E0E0\",\"group\":null,\"ticker\":null},\"id\":\"1101\",\"type\":\"Grid\"},{\"attributes\":{\"data\":{\"embeddings_1\":[\"ina farin cikin da wannan hadin\",\"ina farin cikin da wannan hadin\",\"ina farin cikin da wannan hadin\",\"ina farin cikin da wannan hadin\",\"ina farin cikin da wannan hadin\",\"farin ciki\",\"farin ciki\",\"farin ciki\",\"farin ciki\",\"farin ciki\",\"tambaya\",\"tambaya\",\"tambaya\",\"tambaya\",\"tambaya\",\"nasara\",\"nasara\",\"nasara\",\"nasara\",\"nasara\",\"lafiya\",\"lafiya\",\"lafiya\",\"lafiya\",\"lafiya\"],\"embeddings_2\":[\"Enwere m obi \\u1ee5t\\u1ecd na nchikota a\",\"obi \\u1ee5t\\u1ecd\",\"juo\",\"mmeri\",\"ah\\u1ee5ike\",\"Enwere m obi \\u1ee5t\\u1ecd na nchikota a\",\"obi \\u1ee5t\\u1ecd\",\"juo\",\"mmeri\",\"ah\\u1ee5ike\",\"Enwere m obi \\u1ee5t\\u1ecd na nchikota a\",\"obi \\u1ee5t\\u1ecd\",\"juo\",\"mmeri\",\"ah\\u1ee5ike\",\"Enwere m obi \\u1ee5t\\u1ecd na nchikota a\",\"obi \\u1ee5t\\u1ecd\",\"juo\",\"mmeri\",\"ah\\u1ee5ike\",\"Enwere m obi \\u1ee5t\\u1ecd na nchikota a\",\"obi \\u1ee5t\\u1ecd\",\"juo\",\"mmeri\",\"ah\\u1ee5ike\"],\"index\":[0,1,2,3,4,5,6,7,8,9,10,11,12,13,14,15,16,17,18,19,20,21,22,23,24],\"sim\":{\"__ndarray__\":\"yCymcoFQ6j9rqjbxrgfrP78RrkNjf+o/WOkcFCqs6j+2IrVMdlnrP1+gU4AZ9+o/IMjFA86I6z/tX8hdKcfqP67UVdrvPus/Qw515R/B6z9RbxI2lXLqP0qDVzPQ6+o/kKPEmbsr6j8oGOb8ZsDqP+IQaPC4F+s/XpoIyb7K6j/QnenXdLPrP+2tiRYnP+s/6Pe25tLo6j9i2h+T+5jrPwqo8/D8huo/jLDiPhNH6z9HYAjljFXqPz4sWULbvOo/dygaYudl6z8=\",\"dtype\":\"float64\",\"order\":\"little\",\"shape\":[25]}},\"selected\":{\"id\":\"1135\"},\"selection_policy\":{\"id\":\"1134\"}},\"id\":\"1110\",\"type\":\"ColumnDataSource\"},{\"attributes\":{},\"id\":\"1133\",\"type\":\"AllLabels\"},{\"attributes\":{\"coordinates\":null,\"group\":null,\"text\":\"Hausa-Igbo Similarity\",\"text_color\":\"#E0E0E0\",\"text_font\":\"Helvetica\",\"text_font_size\":\"12pt\"},\"id\":\"1089\",\"type\":\"Title\"},{\"attributes\":{\"factors\":[\"ina farin cikin da wannan hadin\",\"farin ciki\",\"tambaya\",\"nasara\",\"lafiya\"]},\"id\":\"1091\",\"type\":\"FactorRange\"},{\"attributes\":{},\"id\":\"1134\",\"type\":\"UnionRenderers\"},{\"attributes\":{\"factors\":[\"ah\\u1ee5ike\",\"mmeri\",\"juo\",\"obi \\u1ee5t\\u1ecd\",\"Enwere m obi \\u1ee5t\\u1ecd na nchikota a\"]},\"id\":\"1093\",\"type\":\"FactorRange\"},{\"attributes\":{},\"id\":\"1103\",\"type\":\"CategoricalTicker\"},{\"attributes\":{\"fill_alpha\":{\"value\":0.1},\"fill_color\":{\"field\":\"sim\",\"transform\":{\"id\":\"1087\"}},\"hatch_alpha\":{\"value\":0.1},\"height\":{\"value\":1},\"line_alpha\":{\"value\":0.1},\"line_color\":{\"value\":null},\"width\":{\"value\":1},\"x\":{\"field\":\"embeddings_1\"},\"y\":{\"field\":\"embeddings_2\"}},\"id\":\"1113\",\"type\":\"Rect\"},{\"attributes\":{},\"id\":\"1130\",\"type\":\"AllLabels\"},{\"attributes\":{\"axis_label_standoff\":10,\"axis_label_text_color\":\"#E0E0E0\",\"axis_label_text_font\":\"Helvetica\",\"axis_label_text_font_size\":\"1.25em\",\"axis_label_text_font_style\":\"normal\",\"axis_line_alpha\":0,\"axis_line_color\":null,\"coordinates\":null,\"formatter\":{\"id\":\"1129\"},\"group\":null,\"major_label_policy\":{\"id\":\"1130\"},\"major_label_standoff\":16,\"major_label_text_color\":\"#E0E0E0\",\"major_label_text_font\":\"Helvetica\",\"major_label_text_font_size\":\"12pt\",\"major_tick_line_alpha\":0,\"major_tick_line_color\":null,\"minor_tick_line_alpha\":0,\"minor_tick_line_color\":\"#E0E0E0\",\"ticker\":{\"id\":\"1103\"}},\"id\":\"1102\",\"type\":\"CategoricalAxis\"},{\"attributes\":{\"fill_alpha\":{\"value\":0.2},\"fill_color\":{\"field\":\"sim\",\"transform\":{\"id\":\"1087\"}},\"hatch_alpha\":{\"value\":0.2},\"height\":{\"value\":1},\"line_alpha\":{\"value\":0.2},\"line_color\":{\"value\":null},\"width\":{\"value\":1},\"x\":{\"field\":\"embeddings_1\"},\"y\":{\"field\":\"embeddings_2\"}},\"id\":\"1114\",\"type\":\"Rect\"},{\"attributes\":{\"callback\":null,\"tooltips\":[[\"pair\",\"@embeddings_1 ||| @embeddings_2\"],[\"sim\",\"@sim\"]]},\"id\":\"1106\",\"type\":\"HoverTool\"},{\"attributes\":{},\"id\":\"1105\",\"type\":\"SaveTool\"},{\"attributes\":{},\"id\":\"1129\",\"type\":\"CategoricalTickFormatter\"},{\"attributes\":{\"axis\":{\"id\":\"1102\"},\"coordinates\":null,\"dimension\":1,\"grid_line_alpha\":0.25,\"grid_line_color\":\"#E0E0E0\",\"group\":null,\"ticker\":null},\"id\":\"1104\",\"type\":\"Grid\"}],\"root_ids\":[\"1088\"]},\"title\":\"Bokeh Application\",\"version\":\"2.4.3\"}};\n  const render_items = [{\"docid\":\"a2ddd6be-0982-4226-88b8-804e4eb333d3\",\"root_ids\":[\"1088\"],\"roots\":{\"1088\":\"fc365ca9-61a6-4b3d-917a-25b465eacf0a\"}}];\n  root.Bokeh.embed.embed_items_notebook(docs_json, render_items);\n  }\n  if (root.Bokeh !== undefined) {\n    embed_document(root);\n  } else {\n    let attempts = 0;\n    const timer = setInterval(function(root) {\n      if (root.Bokeh !== undefined) {\n        clearInterval(timer);\n        embed_document(root);\n      } else {\n        attempts++;\n        if (attempts > 100) {\n          clearInterval(timer);\n          console.log(\"Bokeh: ERROR: Unable to run BokehJS code because BokehJS library is missing\");\n        }\n      }\n    }, 10, root)\n  }\n})(window);",
      "application/vnd.bokehjs_exec.v0+json": ""
     },
     "metadata": {
      "application/vnd.bokehjs_exec.v0+json": {
       "id": "1088"
      }
     },
     "output_type": "display_data"
    }
   ],
   "source": [
    "visualize_similarity(ha_result, ig_result, hausa_sentences, igbo_sentences, 'Hausa-Igbo Similarity')"
   ]
  },
  {
   "cell_type": "markdown",
   "metadata": {},
   "source": [
    "!['similarity'](data/bokeh_plot.png)"
   ]
  }
 ],
 "metadata": {
  "kernelspec": {
   "display_name": "Python 3 (ipykernel)",
   "language": "python",
   "name": "python3"
  },
  "language_info": {
   "codemirror_mode": {
    "name": "ipython",
    "version": 3
   },
   "file_extension": ".py",
   "mimetype": "text/x-python",
   "name": "python",
   "nbconvert_exporter": "python",
   "pygments_lexer": "ipython3",
   "version": "3.8.16"
  }
 },
 "nbformat": 4,
 "nbformat_minor": 1
}
