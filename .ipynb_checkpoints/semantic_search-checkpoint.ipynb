{
 "cells": [
  {
   "cell_type": "markdown",
   "metadata": {},
   "source": [
    "# Cross-Lingual Similarity and Semantic Search Engine with Cohere Multilingual API\n"
   ]
  },
  {
   "cell_type": "code",
   "execution_count": 1,
   "metadata": {
    "pycharm": {
     "is_executing": true
    }
   },
   "outputs": [
    {
     "name": "stderr",
     "output_type": "stream",
     "text": [
      "C:\\Users\\Muhammad\\anaconda3\\envs\\mtech\\lib\\site-packages\\umap\\distances.py:1063: NumbaDeprecationWarning: \u001b[1mThe 'nopython' keyword argument was not supplied to the 'numba.jit' decorator. The implicit default value for this argument is currently False, but it will be changed to True in Numba 0.59.0. See https://numba.readthedocs.io/en/stable/reference/deprecation.html#deprecation-of-object-mode-fall-back-behaviour-when-using-jit for details.\u001b[0m\n",
      "  @numba.jit()\n",
      "C:\\Users\\Muhammad\\anaconda3\\envs\\mtech\\lib\\site-packages\\umap\\distances.py:1071: NumbaDeprecationWarning: \u001b[1mThe 'nopython' keyword argument was not supplied to the 'numba.jit' decorator. The implicit default value for this argument is currently False, but it will be changed to True in Numba 0.59.0. See https://numba.readthedocs.io/en/stable/reference/deprecation.html#deprecation-of-object-mode-fall-back-behaviour-when-using-jit for details.\u001b[0m\n",
      "  @numba.jit()\n",
      "C:\\Users\\Muhammad\\anaconda3\\envs\\mtech\\lib\\site-packages\\umap\\distances.py:1086: NumbaDeprecationWarning: \u001b[1mThe 'nopython' keyword argument was not supplied to the 'numba.jit' decorator. The implicit default value for this argument is currently False, but it will be changed to True in Numba 0.59.0. See https://numba.readthedocs.io/en/stable/reference/deprecation.html#deprecation-of-object-mode-fall-back-behaviour-when-using-jit for details.\u001b[0m\n",
      "  @numba.jit()\n",
      "C:\\Users\\Muhammad\\anaconda3\\envs\\mtech\\lib\\site-packages\\umap\\umap_.py:660: NumbaDeprecationWarning: \u001b[1mThe 'nopython' keyword argument was not supplied to the 'numba.jit' decorator. The implicit default value for this argument is currently False, but it will be changed to True in Numba 0.59.0. See https://numba.readthedocs.io/en/stable/reference/deprecation.html#deprecation-of-object-mode-fall-back-behaviour-when-using-jit for details.\u001b[0m\n",
      "  @numba.jit()\n"
     ]
    }
   ],
   "source": [
    "import cohere\n",
    "import numpy as np\n",
    "import altair as alt\n",
    "from annoy import AnnoyIndex\n",
    "import pandas as pd\n",
    "import umap.umap_ as umap\n",
    "import re\n",
    "\n",
    "API_KEY = \"J0okVO9eZywR0IJc95qT5bpYTyV3ZPHgtbxXhxKR\"\n",
    "co = cohere.Client(API_KEY)\n"
   ]
  },
  {
   "cell_type": "markdown",
   "metadata": {},
   "source": [
    "### Load the datasets\n"
   ]
  },
  {
   "cell_type": "code",
   "execution_count": 2,
   "metadata": {},
   "outputs": [
    {
     "data": {
      "text/html": [
       "<div>\n",
       "<style scoped>\n",
       "    .dataframe tbody tr th:only-of-type {\n",
       "        vertical-align: middle;\n",
       "    }\n",
       "\n",
       "    .dataframe tbody tr th {\n",
       "        vertical-align: top;\n",
       "    }\n",
       "\n",
       "    .dataframe thead th {\n",
       "        text-align: right;\n",
       "    }\n",
       "</style>\n",
       "<table border=\"1\" class=\"dataframe\">\n",
       "  <thead>\n",
       "    <tr style=\"text-align: right;\">\n",
       "      <th></th>\n",
       "      <th>id</th>\n",
       "      <th>ha_text</th>\n",
       "      <th>ig_text</th>\n",
       "      <th>ha_ig_text</th>\n",
       "    </tr>\n",
       "  </thead>\n",
       "  <tbody>\n",
       "    <tr>\n",
       "      <th>0</th>\n",
       "      <td>1</td>\n",
       "      <td>baka film din banza director allah ya dafa ni ...</td>\n",
       "      <td>ndu chineke nyerem</td>\n",
       "      <td>baka film din banza director allah ya dafa ni ...</td>\n",
       "    </tr>\n",
       "    <tr>\n",
       "      <th>1</th>\n",
       "      <td>2</td>\n",
       "      <td>allah ubangiji yaiwa rayuwarsa albarka</td>\n",
       "      <td>np    onye eze      morningdrivelagos  moremus...</td>\n",
       "      <td>allah ubangiji yaiwa rayuwarsa albarka</td>\n",
       "    </tr>\n",
       "    <tr>\n",
       "      <th>2</th>\n",
       "      <td>3</td>\n",
       "      <td>abu nafarko gamawa da duniya lafiya kuma inaso...</td>\n",
       "      <td>dal  ezigbo mmad</td>\n",
       "      <td>abu nafarko gamawa da duniya lafiya kuma inaso...</td>\n",
       "    </tr>\n",
       "    <tr>\n",
       "      <th>3</th>\n",
       "      <td>4</td>\n",
       "      <td>allah yasa muyi kyakkyawan qarshe</td>\n",
       "      <td>good afternoon hugeman   jj juventus gave napo...</td>\n",
       "      <td>allah yasa muyi kyakkyawan qarshe</td>\n",
       "    </tr>\n",
       "    <tr>\n",
       "      <th>4</th>\n",
       "      <td>5</td>\n",
       "      <td>ba wasa a fuskokinsu  may you succeed always guys</td>\n",
       "      <td>my manchi like forever daal          b ch   nyem</td>\n",
       "      <td>ba wasa a fuskokinsu  may you succeed always guys</td>\n",
       "    </tr>\n",
       "  </tbody>\n",
       "</table>\n",
       "</div>"
      ],
      "text/plain": [
       "  id                                            ha_text  \\\n",
       "0  1  baka film din banza director allah ya dafa ni ...   \n",
       "1  2             allah ubangiji yaiwa rayuwarsa albarka   \n",
       "2  3  abu nafarko gamawa da duniya lafiya kuma inaso...   \n",
       "3  4                  allah yasa muyi kyakkyawan qarshe   \n",
       "4  5  ba wasa a fuskokinsu  may you succeed always guys   \n",
       "\n",
       "                                             ig_text  \\\n",
       "0                                 ndu chineke nyerem   \n",
       "1  np    onye eze      morningdrivelagos  moremus...   \n",
       "2                                   dal  ezigbo mmad   \n",
       "3  good afternoon hugeman   jj juventus gave napo...   \n",
       "4   my manchi like forever daal          b ch   nyem   \n",
       "\n",
       "                                          ha_ig_text  \n",
       "0  baka film din banza director allah ya dafa ni ...  \n",
       "1             allah ubangiji yaiwa rayuwarsa albarka  \n",
       "2  abu nafarko gamawa da duniya lafiya kuma inaso...  \n",
       "3                  allah yasa muyi kyakkyawan qarshe  \n",
       "4  ba wasa a fuskokinsu  may you succeed always guys  "
      ]
     },
     "execution_count": 2,
     "metadata": {},
     "output_type": "execute_result"
    }
   ],
   "source": [
    "df = pd.read_csv(\"data/hau_ibo.csv\")\n",
    "df.head()"
   ]
  },
  {
   "cell_type": "markdown",
   "metadata": {},
   "source": [
    "### Preprocess the datasets\n"
   ]
  },
  {
   "cell_type": "code",
   "execution_count": 3,
   "metadata": {},
   "outputs": [
    {
     "data": {
      "text/html": [
       "<div>\n",
       "<style scoped>\n",
       "    .dataframe tbody tr th:only-of-type {\n",
       "        vertical-align: middle;\n",
       "    }\n",
       "\n",
       "    .dataframe tbody tr th {\n",
       "        vertical-align: top;\n",
       "    }\n",
       "\n",
       "    .dataframe thead th {\n",
       "        text-align: right;\n",
       "    }\n",
       "</style>\n",
       "<table border=\"1\" class=\"dataframe\">\n",
       "  <thead>\n",
       "    <tr style=\"text-align: right;\">\n",
       "      <th></th>\n",
       "      <th>id</th>\n",
       "      <th>ha_text</th>\n",
       "      <th>ig_text</th>\n",
       "      <th>ha_ig_text</th>\n",
       "    </tr>\n",
       "  </thead>\n",
       "  <tbody>\n",
       "    <tr>\n",
       "      <th>0</th>\n",
       "      <td>1</td>\n",
       "      <td>baka film din banza director allah ya dafa ni ...</td>\n",
       "      <td>ndu chineke nyerem</td>\n",
       "      <td>baka film din banza director allah ya dafa ni ...</td>\n",
       "    </tr>\n",
       "    <tr>\n",
       "      <th>1</th>\n",
       "      <td>2</td>\n",
       "      <td>allah ubangiji yaiwa rayuwarsa albarka</td>\n",
       "      <td>np onye eze morningdrivelagos moremusicradio w...</td>\n",
       "      <td>allah ubangiji yaiwa rayuwarsa albarka</td>\n",
       "    </tr>\n",
       "    <tr>\n",
       "      <th>2</th>\n",
       "      <td>3</td>\n",
       "      <td>abu nafarko gamawa da duniya lafiya kuma inaso...</td>\n",
       "      <td>dal ezigbo mmad</td>\n",
       "      <td>abu nafarko gamawa da duniya lafiya kuma inaso...</td>\n",
       "    </tr>\n",
       "    <tr>\n",
       "      <th>3</th>\n",
       "      <td>4</td>\n",
       "      <td>allah yasa muyi kyakkyawan qarshe</td>\n",
       "      <td>good afternoon hugeman jj juventus gave napoli...</td>\n",
       "      <td>allah yasa muyi kyakkyawan qarshe</td>\n",
       "    </tr>\n",
       "    <tr>\n",
       "      <th>4</th>\n",
       "      <td>5</td>\n",
       "      <td>ba wasa a fuskokinsu may you succeed always guys</td>\n",
       "      <td>my manchi like forever daal b ch nyem</td>\n",
       "      <td>ba wasa a fuskokinsu  may you succeed always guys</td>\n",
       "    </tr>\n",
       "  </tbody>\n",
       "</table>\n",
       "</div>"
      ],
      "text/plain": [
       "  id                                            ha_text  \\\n",
       "0  1  baka film din banza director allah ya dafa ni ...   \n",
       "1  2             allah ubangiji yaiwa rayuwarsa albarka   \n",
       "2  3  abu nafarko gamawa da duniya lafiya kuma inaso...   \n",
       "3  4                  allah yasa muyi kyakkyawan qarshe   \n",
       "4  5   ba wasa a fuskokinsu may you succeed always guys   \n",
       "\n",
       "                                             ig_text  \\\n",
       "0                                 ndu chineke nyerem   \n",
       "1  np onye eze morningdrivelagos moremusicradio w...   \n",
       "2                                    dal ezigbo mmad   \n",
       "3  good afternoon hugeman jj juventus gave napoli...   \n",
       "4              my manchi like forever daal b ch nyem   \n",
       "\n",
       "                                          ha_ig_text  \n",
       "0  baka film din banza director allah ya dafa ni ...  \n",
       "1             allah ubangiji yaiwa rayuwarsa albarka  \n",
       "2  abu nafarko gamawa da duniya lafiya kuma inaso...  \n",
       "3                  allah yasa muyi kyakkyawan qarshe  \n",
       "4  ba wasa a fuskokinsu  may you succeed always guys  "
      ]
     },
     "execution_count": 3,
     "metadata": {},
     "output_type": "execute_result"
    }
   ],
   "source": [
    "def preprocess(text):\n",
    "    # Remove any non-alphanumeric characters\n",
    "    text = re.sub(r\"@[^\\s]+\", \"\", str(text))\n",
    "    text = re.sub(r\"http[^\\s]+\", \"\", str(text))\n",
    "    # Remove any extra whitespace\n",
    "    text = re.sub(r\"\\s+\", \" \", str(text))\n",
    "    # Convert to lowercase\n",
    "    text = text.lower()\n",
    "    return text\n",
    "\n",
    "df[\"ha_text\"] = df[\"ha_text\"].apply(preprocess)\n",
    "df[\"ig_text\"] = df[\"ig_text\"].apply(preprocess)\n",
    "df.head()\n"
   ]
  },
  {
   "cell_type": "code",
   "execution_count": null,
   "metadata": {},
   "outputs": [],
   "source": []
  },
  {
   "cell_type": "markdown",
   "metadata": {},
   "source": []
  },
  {
   "cell_type": "markdown",
   "metadata": {},
   "source": []
  },
  {
   "cell_type": "code",
   "execution_count": 4,
   "metadata": {},
   "outputs": [],
   "source": [
    "# Use the Cohere API to create embeddings for each sentence in the Hausa and Igbo from dataset\n",
    "embeddings = co.embed(df[\"ha_ig_text\"][:100].to_list(), model=\"embed-multilingual-v2.0\")\n",
    "embeddings = np.array(list(embeddings))"
   ]
  },
  {
   "cell_type": "markdown",
   "metadata": {},
   "source": []
  },
  {
   "cell_type": "code",
   "execution_count": 5,
   "metadata": {},
   "outputs": [
    {
     "data": {
      "text/plain": [
       "array([[ 0.41731507,  0.04754352,  0.31342632, ..., -0.02138824,\n",
       "         0.12995528, -0.10288824],\n",
       "       [ 0.44219264,  0.02415373,  0.23588851, ..., -0.10922535,\n",
       "         0.16411138,  0.27423725],\n",
       "       [ 0.35250703,  0.06677664,  0.331565  , ..., -0.33712032,\n",
       "         0.0125113 , -0.01478072],\n",
       "       ...,\n",
       "       [ 0.22549625,  0.08665128,  0.17888549, ..., -0.19686654,\n",
       "         0.12488741,  0.04754797],\n",
       "       [ 0.15011856,  0.04350951, -0.13691679, ..., -0.21984527,\n",
       "         0.01208592, -0.09014519],\n",
       "       [ 0.09198445, -0.11861288, -0.04043893, ..., -0.01114722,\n",
       "         0.00923344, -0.02196117]])"
      ]
     },
     "execution_count": 5,
     "metadata": {},
     "output_type": "execute_result"
    }
   ],
   "source": [
    "embeddings"
   ]
  },
  {
   "cell_type": "code",
   "execution_count": 6,
   "metadata": {},
   "outputs": [
    {
     "data": {
      "text/plain": [
       "True"
      ]
     },
     "execution_count": 6,
     "metadata": {},
     "output_type": "execute_result"
    }
   ],
   "source": [
    "# Use the embeddings to perform semantic search and find the most similar sentences in the  dataset\n",
    "results = []\n",
    "search_results = AnnoyIndex(embeddings.shape[1], 'angular')\n",
    "for i in range(len(embeddings)):\n",
    "    # Save the result as a tuple\n",
    "    search_results.add_item(i, embeddings[i])\n",
    "search_results.build(40)\n",
    "search_results.save('text.ann')"
   ]
  },
  {
   "cell_type": "markdown",
   "metadata": {},
   "source": [
    "### Semantic search in Hausa Language"
   ]
  },
  {
   "cell_type": "code",
   "execution_count": 7,
   "metadata": {
    "pycharm": {
     "is_executing": true
    }
   },
   "outputs": [
    {
     "name": "stdout",
     "output_type": "stream",
     "text": [
      "Query:'bai hau ba har yanxu tukun amma yananan zuwa insha allah'\n",
      "Nearest neighbors:\n"
     ]
    },
    {
     "data": {
      "text/html": [
       "<div>\n",
       "<style scoped>\n",
       "    .dataframe tbody tr th:only-of-type {\n",
       "        vertical-align: middle;\n",
       "    }\n",
       "\n",
       "    .dataframe tbody tr th {\n",
       "        vertical-align: top;\n",
       "    }\n",
       "\n",
       "    .dataframe thead th {\n",
       "        text-align: right;\n",
       "    }\n",
       "</style>\n",
       "<table border=\"1\" class=\"dataframe\">\n",
       "  <thead>\n",
       "    <tr style=\"text-align: right;\">\n",
       "      <th></th>\n",
       "      <th>texts</th>\n",
       "      <th>distance</th>\n",
       "    </tr>\n",
       "  </thead>\n",
       "  <tbody>\n",
       "    <tr>\n",
       "      <th>42</th>\n",
       "      <td>koma wanne irin nau i neh allah zai karemu</td>\n",
       "      <td>0.243861</td>\n",
       "    </tr>\n",
       "    <tr>\n",
       "      <th>8</th>\n",
       "      <td>wannan gsky ne wallahi munacikin lahaula allah...</td>\n",
       "      <td>0.263540</td>\n",
       "    </tr>\n",
       "    <tr>\n",
       "      <th>32</th>\n",
       "      <td>kuma dai ya allah mun mika lamuramu zuwa garek...</td>\n",
       "      <td>0.276408</td>\n",
       "    </tr>\n",
       "    <tr>\n",
       "      <th>15</th>\n",
       "      <td>allah yashiryar damu baki dai wlh wasu mutane ...</td>\n",
       "      <td>0.282136</td>\n",
       "    </tr>\n",
       "    <tr>\n",
       "      <th>46</th>\n",
       "      <td>allahu akbar allah ka kawo mana karshen wannan...</td>\n",
       "      <td>0.283701</td>\n",
       "    </tr>\n",
       "    <tr>\n",
       "      <th>17</th>\n",
       "      <td>allah ya sa mu dace amin</td>\n",
       "      <td>0.287117</td>\n",
       "    </tr>\n",
       "    <tr>\n",
       "      <th>20</th>\n",
       "      <td>gamji mazan kwarai namiji uban yan boko allah ...</td>\n",
       "      <td>0.293154</td>\n",
       "    </tr>\n",
       "    <tr>\n",
       "      <th>7</th>\n",
       "      <td>toh allah ya sakawa yan gaza</td>\n",
       "      <td>0.309704</td>\n",
       "    </tr>\n",
       "    <tr>\n",
       "      <th>28</th>\n",
       "      <td>allah yasa afara asa a allah yayi jagora</td>\n",
       "      <td>0.309827</td>\n",
       "    </tr>\n",
       "    <tr>\n",
       "      <th>9</th>\n",
       "      <td>ya subhanallahi allah ya jiqansu ya gafarta mu...</td>\n",
       "      <td>0.311894</td>\n",
       "    </tr>\n",
       "  </tbody>\n",
       "</table>\n",
       "</div>"
      ],
      "text/plain": [
       "                                                texts  distance\n",
       "42         koma wanne irin nau i neh allah zai karemu  0.243861\n",
       "8   wannan gsky ne wallahi munacikin lahaula allah...  0.263540\n",
       "32  kuma dai ya allah mun mika lamuramu zuwa garek...  0.276408\n",
       "15  allah yashiryar damu baki dai wlh wasu mutane ...  0.282136\n",
       "46  allahu akbar allah ka kawo mana karshen wannan...  0.283701\n",
       "17                           allah ya sa mu dace amin  0.287117\n",
       "20  gamji mazan kwarai namiji uban yan boko allah ...  0.293154\n",
       "7                        toh allah ya sakawa yan gaza  0.309704\n",
       "28           allah yasa afara asa a allah yayi jagora  0.309827\n",
       "9   ya subhanallahi allah ya jiqansu ya gafarta mu...  0.311894"
      ]
     },
     "execution_count": 7,
     "metadata": {},
     "output_type": "execute_result"
    }
   ],
   "source": [
    "query = \"bai hau ba har yanxu tukun amma yananan zuwa insha allah\"\n",
    "\n",
    "# Get the query's embedding\n",
    "query_embed = co.embed(texts=[query],\n",
    "                  model=\"embed-multilingual-v2.0\").embeddings\n",
    "\n",
    "# Retrieve the nearest neighbors\n",
    "similar_item_ids = search_results.get_nns_by_vector(query_embed[0],10,\n",
    "                                                include_distances=True)\n",
    "# Format the results\n",
    "results = pd.DataFrame(data={'texts': df.iloc[similar_item_ids[0]]['ha_text'],\n",
    "                             'distance': similar_item_ids[1]})\n",
    "\n",
    "\n",
    "print(f\"Query:'{query}'\\nNearest neighbors:\")\n",
    "results"
   ]
  },
  {
   "cell_type": "markdown",
   "metadata": {},
   "source": [
    "### Semantic search in Igbo Language"
   ]
  },
  {
   "cell_type": "code",
   "execution_count": 8,
   "metadata": {
    "pycharm": {
     "is_executing": true
    }
   },
   "outputs": [
    {
     "name": "stdout",
     "output_type": "stream",
     "text": [
      "Query:'mangala na ato m gwogwo ezigbo azu'\n",
      "Nearest neighbors:\n"
     ]
    },
    {
     "data": {
      "text/html": [
       "<div>\n",
       "<style scoped>\n",
       "    .dataframe tbody tr th:only-of-type {\n",
       "        vertical-align: middle;\n",
       "    }\n",
       "\n",
       "    .dataframe tbody tr th {\n",
       "        vertical-align: top;\n",
       "    }\n",
       "\n",
       "    .dataframe thead th {\n",
       "        text-align: right;\n",
       "    }\n",
       "</style>\n",
       "<table border=\"1\" class=\"dataframe\">\n",
       "  <thead>\n",
       "    <tr style=\"text-align: right;\">\n",
       "      <th></th>\n",
       "      <th>texts</th>\n",
       "      <th>distance</th>\n",
       "    </tr>\n",
       "  </thead>\n",
       "  <tbody>\n",
       "    <tr>\n",
       "      <th>98</th>\n",
       "      <td>thank you jesus onye nwe anyi imela goodmornin...</td>\n",
       "      <td>0.257605</td>\n",
       "    </tr>\n",
       "    <tr>\n",
       "      <th>92</th>\n",
       "      <td>good morning ndi n anyi bia ka anyi rie cc</td>\n",
       "      <td>0.258559</td>\n",
       "    </tr>\n",
       "    <tr>\n",
       "      <th>74</th>\n",
       "      <td>igbo amaka dimkpa anagh a ka nk n egwu ma a gb...</td>\n",
       "      <td>0.263173</td>\n",
       "    </tr>\n",
       "    <tr>\n",
       "      <th>82</th>\n",
       "      <td>ezenkwobi ny spare parts na agbani</td>\n",
       "      <td>0.266020</td>\n",
       "    </tr>\n",
       "    <tr>\n",
       "      <th>59</th>\n",
       "      <td>haew god ezigbo nwanyi</td>\n",
       "      <td>0.267447</td>\n",
       "    </tr>\n",
       "    <tr>\n",
       "      <th>91</th>\n",
       "      <td>odogwu na agha dike na agha nara ekele odogwu ...</td>\n",
       "      <td>0.273286</td>\n",
       "    </tr>\n",
       "    <tr>\n",
       "      <th>87</th>\n",
       "      <td>time for our thanksgiving dance and procession...</td>\n",
       "      <td>0.282777</td>\n",
       "    </tr>\n",
       "    <tr>\n",
       "      <th>73</th>\n",
       "      <td>chukwu oma onyeoma na chukwu oma onyeoma na ch...</td>\n",
       "      <td>0.285421</td>\n",
       "    </tr>\n",
       "    <tr>\n",
       "      <th>54</th>\n",
       "      <td>jehovah idi egwu jehovah idi egwu praise faran...</td>\n",
       "      <td>0.286639</td>\n",
       "    </tr>\n",
       "    <tr>\n",
       "      <th>96</th>\n",
       "      <td>ogssian nwanne udo diri gi</td>\n",
       "      <td>0.287594</td>\n",
       "    </tr>\n",
       "  </tbody>\n",
       "</table>\n",
       "</div>"
      ],
      "text/plain": [
       "                                                texts  distance\n",
       "98  thank you jesus onye nwe anyi imela goodmornin...  0.257605\n",
       "92         good morning ndi n anyi bia ka anyi rie cc  0.258559\n",
       "74  igbo amaka dimkpa anagh a ka nk n egwu ma a gb...  0.263173\n",
       "82                 ezenkwobi ny spare parts na agbani  0.266020\n",
       "59                             haew god ezigbo nwanyi  0.267447\n",
       "91  odogwu na agha dike na agha nara ekele odogwu ...  0.273286\n",
       "87  time for our thanksgiving dance and procession...  0.282777\n",
       "73  chukwu oma onyeoma na chukwu oma onyeoma na ch...  0.285421\n",
       "54  jehovah idi egwu jehovah idi egwu praise faran...  0.286639\n",
       "96                         ogssian nwanne udo diri gi  0.287594"
      ]
     },
     "execution_count": 8,
     "metadata": {},
     "output_type": "execute_result"
    }
   ],
   "source": [
    "query = \"mangala na ato m gwogwo ezigbo azu\"\n",
    "\n",
    "# Get the query's embedding\n",
    "query_embed = co.embed(texts=[query],\n",
    "                  model=\"embed-multilingual-v2.0\").embeddings\n",
    "\n",
    "# Retrieve the nearest neighbors\n",
    "similar_item_ids = search_results.get_nns_by_vector(query_embed[0],10,\n",
    "                                                include_distances=True)\n",
    "# Format the results\n",
    "results = pd.DataFrame(data={'texts': df.iloc[similar_item_ids[0]]['ig_text'],\n",
    "                             'distance': similar_item_ids[1]})\n",
    "\n",
    "\n",
    "print(f\"Query:'{query}'\\nNearest neighbors:\")\n",
    "results"
   ]
  },
  {
   "cell_type": "code",
   "execution_count": 9,
   "metadata": {},
   "outputs": [
    {
     "data": {
      "text/html": [
       "\n",
       "<div id=\"altair-viz-a66ae1bed83f43c18ad22790377c8c09\"></div>\n",
       "<script type=\"text/javascript\">\n",
       "  var VEGA_DEBUG = (typeof VEGA_DEBUG == \"undefined\") ? {} : VEGA_DEBUG;\n",
       "  (function(spec, embedOpt){\n",
       "    let outputDiv = document.currentScript.previousElementSibling;\n",
       "    if (outputDiv.id !== \"altair-viz-a66ae1bed83f43c18ad22790377c8c09\") {\n",
       "      outputDiv = document.getElementById(\"altair-viz-a66ae1bed83f43c18ad22790377c8c09\");\n",
       "    }\n",
       "    const paths = {\n",
       "      \"vega\": \"https://cdn.jsdelivr.net/npm//vega@5?noext\",\n",
       "      \"vega-lib\": \"https://cdn.jsdelivr.net/npm//vega-lib?noext\",\n",
       "      \"vega-lite\": \"https://cdn.jsdelivr.net/npm//vega-lite@4.17.0?noext\",\n",
       "      \"vega-embed\": \"https://cdn.jsdelivr.net/npm//vega-embed@6?noext\",\n",
       "    };\n",
       "\n",
       "    function maybeLoadScript(lib, version) {\n",
       "      var key = `${lib.replace(\"-\", \"\")}_version`;\n",
       "      return (VEGA_DEBUG[key] == version) ?\n",
       "        Promise.resolve(paths[lib]) :\n",
       "        new Promise(function(resolve, reject) {\n",
       "          var s = document.createElement('script');\n",
       "          document.getElementsByTagName(\"head\")[0].appendChild(s);\n",
       "          s.async = true;\n",
       "          s.onload = () => {\n",
       "            VEGA_DEBUG[key] = version;\n",
       "            return resolve(paths[lib]);\n",
       "          };\n",
       "          s.onerror = () => reject(`Error loading script: ${paths[lib]}`);\n",
       "          s.src = paths[lib];\n",
       "        });\n",
       "    }\n",
       "\n",
       "    function showError(err) {\n",
       "      outputDiv.innerHTML = `<div class=\"error\" style=\"color:red;\">${err}</div>`;\n",
       "      throw err;\n",
       "    }\n",
       "\n",
       "    function displayChart(vegaEmbed) {\n",
       "      vegaEmbed(outputDiv, spec, embedOpt)\n",
       "        .catch(err => showError(`Javascript Error: ${err.message}<br>This usually means there's a typo in your chart specification. See the javascript console for the full traceback.`));\n",
       "    }\n",
       "\n",
       "    if(typeof define === \"function\" && define.amd) {\n",
       "      requirejs.config({paths});\n",
       "      require([\"vega-embed\"], displayChart, err => showError(`Error loading script: ${err.message}`));\n",
       "    } else {\n",
       "      maybeLoadScript(\"vega\", \"5\")\n",
       "        .then(() => maybeLoadScript(\"vega-lite\", \"4.17.0\"))\n",
       "        .then(() => maybeLoadScript(\"vega-embed\", \"6\"))\n",
       "        .catch(showError)\n",
       "        .then(() => displayChart(vegaEmbed));\n",
       "    }\n",
       "  })({\"config\": {\"view\": {\"continuousWidth\": 400, \"continuousHeight\": 300}}, \"data\": {\"name\": \"data-7bf59fd6720b79b4c8975551c742d12b\"}, \"mark\": {\"type\": \"circle\", \"size\": 60}, \"encoding\": {\"tooltip\": [{\"field\": \"text\", \"type\": \"nominal\"}], \"x\": {\"field\": \"x\", \"scale\": {\"zero\": false}, \"type\": \"quantitative\"}, \"y\": {\"field\": \"y\", \"scale\": {\"zero\": false}, \"type\": \"quantitative\"}}, \"height\": 400, \"selection\": {\"selector001\": {\"type\": \"interval\", \"bind\": \"scales\", \"encodings\": [\"x\", \"y\"]}}, \"width\": 700, \"$schema\": \"https://vega.github.io/schema/vega-lite/v4.17.0.json\", \"datasets\": {\"data-7bf59fd6720b79b4c8975551c742d12b\": [{\"text\": \"baka film din banza director allah ya dafa ni nasan zai yi daidai da abnd ake bukata\", \"x\": 5.845277786254883, \"y\": 4.297043800354004}, {\"text\": \"allah ubangiji yaiwa rayuwarsa albarka\", \"x\": 7.258901596069336, \"y\": 3.39383864402771}, {\"text\": \"abu nafarko gamawa da duniya lafiya kuma inason ingama da uwayena lafiya sannan arzikin duniya dana lahira  sannan inason ganin annabi  s a w  koda cikin mafarkinane   gaskiya dai kuma inason aur\", \"x\": 6.093851089477539, \"y\": 3.257408618927002}, {\"text\": \"allah yasa muyi kyakkyawan qarshe\", \"x\": 6.293333053588867, \"y\": 2.5798215866088867}, {\"text\": \"ba wasa a fuskokinsu  may you succeed always guys\", \"x\": 8.64184284210205, \"y\": -0.5882776975631714}, {\"text\": \"aslm bbc hausa tambaya ta itace shekara bbc hausa nawa kuma a wace kasa takene nagode   fatan alkairi\", \"x\": 5.433306694030762, \"y\": 3.443513870239258}, {\"text\": \"allah yasa donal trump y kawo w buhari ziyara suyi hanu biyu d shi amin\", \"x\": 6.8076558113098145, \"y\": 4.236874103546143}, {\"text\": \"toh allah ya sakawa yan gaza\", \"x\": 6.34655237197876, \"y\": 3.8306069374084473}, {\"text\": \"wannan gsky ne wallahi munacikin lahaula allah muke roqo daya kawo mana daukinsa\", \"x\": 5.308683395385742, \"y\": 3.085723638534546}, {\"text\": \"ya subhanallahi   allah ya jiqansu ya gafarta musu ameen\", \"x\": 7.106626987457275, \"y\": 2.915541172027588}, {\"text\": \"ah lallai ka burge\", \"x\": 5.5414886474609375, \"y\": 2.9004037380218506}, {\"text\": \"a haba dai kano pillars    allah ya bashi team a chan inda take\", \"x\": 5.357306480407715, \"y\": 3.82977557182312}, {\"text\": \"ba a cewa                  ya mutu                  kamarh dabba  sai dey ace                 yarasu                 allah ya mugane amen\", \"x\": 7.247644901275635, \"y\": 3.6705925464630127}, {\"text\": \"gsky ne allah ya taimaki\", \"x\": 5.990089416503906, \"y\": 2.631312608718872}, {\"text\": \"sister dinki tayi kyau sosai\", \"x\": 7.772951602935791, \"y\": -0.6459839940071106}, {\"text\": \"allah yashiryar damu baki dai wlh wasu mutane akwai sheri garesu\", \"x\": 5.872551918029785, \"y\": 2.9856114387512207}, {\"text\": \"allahu akbar allah yaqara nisan kwana mai amfani daga bakin jikan mal  arzika dan nepu sokoto state bodinga l g ketaeren sawaba area\", \"x\": 6.415757179260254, \"y\": 4.319360256195068}, {\"text\": \"allah ya sa mu dace amin\", \"x\": 6.622325897216797, \"y\": 2.807102680206299}, {\"text\": \"gsky hirar nan tae dadi allah ya taemaka\", \"x\": 6.432043075561523, \"y\": 2.3718976974487305}, {\"text\": \"idan ansamu iphone 1 in aso\", \"x\": 7.277695655822754, \"y\": 1.9901158809661865}, {\"text\": \"gamji mazan kwarai namiji uban yan boko  allah ya qara haskaka makwanci\", \"x\": 5.6399312019348145, \"y\": 3.427845001220703}, {\"text\": \"ko babu komai akwai araha\", \"x\": 5.937386512756348, \"y\": 3.361050605773926}, {\"text\": \"allah yakara jagora\", \"x\": 6.79188871383667, \"y\": 2.960814952850342}, {\"text\": \"dan allah a ina xan samu complete shirinku da kukeyi mai suna dan birni i m in love with the movie  thanks   allah ya kara daukaka\", \"x\": 5.770870208740234, \"y\": 4.474682331085205}, {\"text\": \"allah ya karemana kasarmu tagado nigeria da kare warsa daga sharrin yan siyasa ameeeeeeeeeen\", \"x\": 6.622931003570557, \"y\": 4.33915901184082}, {\"text\": \"masha allah  muna godiya da aikin megida\", \"x\": 5.35731840133667, \"y\": 3.303825855255127}, {\"text\": \"show love to rahama sadau\", \"x\": 7.361417770385742, \"y\": 1.3387234210968018}, {\"text\": \"good haka muke so yan man united ayi hakure sai next level\", \"x\": 5.192784786224365, \"y\": 3.724198341369629}, {\"text\": \"allah yasa afara asa a allah yayi jagora\", \"x\": 6.667352676391602, \"y\": 3.7194712162017822}, {\"text\": \"allah ya sauwaqe mata wannan jarrabawar\", \"x\": 6.593852996826172, \"y\": 3.3083250522613525}, {\"text\": \"allah ya fiddasu lafiya   alfarmar annabi muhammad s a w\", \"x\": 7.265463829040527, \"y\": 3.1817638874053955}, {\"text\": \"allah ya sa ka da alkharin sa\", \"x\": 6.391934871673584, \"y\": 3.017374038696289}, {\"text\": \"kuma dai ya allah mun mika lamuramu zuwa gareka ya allah ka kawo mana mafeta kasa ta nageria ya allah kai ne maji rokon bayinka amin ya hauyu ya kauyumu\", \"x\": 5.874973773956299, \"y\": 3.8678576946258545}, {\"text\": \"amin y rabbi dama allah swt y halicche mu sannan y ban ban tamu t bangaren yare   al adu d kuma kabilu ba don komai bah se dan wannan dalilan allah y karo mana lpy d zaman lpy gami d yalwar arzik\", \"x\": 5.991451263427734, \"y\": 3.241663932800293}, {\"text\": \"congratulations zamuzo musha kaman ba gobe\", \"x\": 8.756232261657715, \"y\": -0.539914071559906}, {\"text\": \"congratulations stardom har birnin sin\", \"x\": 6.415972709655762, \"y\": 3.3520290851593018}, {\"text\": \"allah yajikansa da rahma yasa albarka ga iyalansa daya bari amen\", \"x\": 7.173999309539795, \"y\": 3.5313773155212402}, {\"text\": \"mashaallah allah ya kara daukaka darajar wanan film allah ya nuna mana kizo jahar katsina domin haska mana shi a cinema amin\", \"x\": 5.972553253173828, \"y\": 4.491245746612549}, {\"text\": \"allah ka yaye mana wadannan masifu a nigeria\", \"x\": 6.66476583480835, \"y\": 3.8932530879974365}, {\"text\": \"toh mudae wannan cutar allah ya karu mu  kuma mutane sugane cewa idan kaga gemun dan uwanka yakama da wuta toh ka yai yafa ma naka ruwa\", \"x\": 6.741266250610352, \"y\": 3.9187941551208496}, {\"text\": \"yaye kyau    gaskiya mahmud yana playing role mai wuya a wannan shirrin labarin\", \"x\": 5.573147773742676, \"y\": 3.6618239879608154}, {\"text\": \"allhmdllh      allah yatona asirinsu\", \"x\": 7.0400261878967285, \"y\": 2.3185696601867676}, {\"text\": \"koma wanne irin nau i neh allah zai karemu\", \"x\": 5.923962593078613, \"y\": 3.5654118061065674}, {\"text\": \"ameen  may aljanna be their final abode\", \"x\": 7.198113441467285, \"y\": 2.4587576389312744}, {\"text\": \"allah ya tsare da gaba\", \"x\": 6.892882347106934, \"y\": 3.011474609375}, {\"text\": \"mukam muna biyayya ga gwamnati duk abunda tace idan bawai yasaba mawa addinin islama bane muna masu biyayya yauwa\", \"x\": 6.112943649291992, \"y\": 3.866088628768921}, {\"text\": \"allahu akbar  allah ka kawo mana karshen wannan bala i\", \"x\": 6.871728897094727, \"y\": 3.878122091293335}, {\"text\": \"tsakani da allah in ba a yi hankali ba sai    sudan ta koma    libiya\", \"x\": 6.359124660491943, \"y\": 3.5791990756988525}, {\"text\": \"happy birthday ezigbo nne mu ochie ka ife nile bu ife oma  aru isi ike n ogologo ndu buru nke gi  now and forever   amen\", \"x\": 9.58505916595459, \"y\": -1.0284630060195923}, {\"text\": \"o biliwo o biliwo jesu apoburu nelu obe onye mmeri\", \"x\": 9.448756217956543, \"y\": -2.4234960079193115}, {\"text\": \"nsogbu ad gh   omego n   nwa an  kita  nke ah  agbag   niru niru k any  n eje\", \"x\": 8.724315643310547, \"y\": -3.088564872741699}, {\"text\": \"m  asa  gb  makata    so mma\", \"x\": 8.006723403930664, \"y\": -2.5344226360321045}, {\"text\": \"wow        chidozie      ji si ike\", \"x\": 8.617941856384277, \"y\": -1.8806049823760986}, {\"text\": \"jehovah idi egwu jehovah idi egwu  praise  farandmode\", \"x\": 8.993566513061523, \"y\": -1.9398128986358643}, {\"text\": \"ekele d r  g  chukwuabiama     b ara egbu m  gbuo onwe ya  chineke  m  ntak r  daal  oo\", \"x\": 8.99958610534668, \"y\": -2.294930934906006}, {\"text\": \"nnem chukwu go zie g  na nk  i kw r\", \"x\": 8.107908248901367, \"y\": -2.176051616668701}, {\"text\": \"igbo medley by    inspirationalhour with umu chineke eee\", \"x\": 9.862433433532715, \"y\": -2.7331297397613525}, {\"text\": \"nwaeze adighi efu n mba\", \"x\": 8.7443208694458, \"y\": -3.382418632507324}, {\"text\": \"haew god  ezigbo nwanyi\", \"x\": 7.806595802307129, \"y\": -1.9962009191513062}, {\"text\": \"ar r    ewo   jee nke  ma  gbu  j\", \"x\": 8.277332305908203, \"y\": -2.476895332336426}, {\"text\": \"hbd onyeoma  chukwu gozie gi   more hits  birikwa blessings lagos state house of\", \"x\": 9.879993438720703, \"y\": -1.6558550596237183}, {\"text\": \"singing  onye neme mma lekwe ikperem nala      imela  africanpraise\", \"x\": 9.765697479248047, \"y\": -2.8790111541748047}, {\"text\": \"happy birthday nne   chukwu gozie gi ofuma\", \"x\": 10.022204399108887, \"y\": -1.3582994937896729}, {\"text\": \"happy birthday chinecherem  okenwa  chukwu goziwerem gi    aka na emebe akwa umu nwoke na uzo opuruiche  golibe\", \"x\": 9.695116996765137, \"y\": -1.0457918643951416}, {\"text\": \"nsogbu adighi  kachifo\", \"x\": 8.449431419372559, \"y\": -3.3252673149108887}, {\"text\": \"ekele na nsopuru diri gi chiokike maka ndu i nyere anyi  ahu ike na amara     riwo otito\", \"x\": 9.658564567565918, \"y\": -2.1084091663360596}, {\"text\": \"kedu ka   mere ezigbo eyin m\", \"x\": 8.798454284667969, \"y\": -1.2912216186523438}, {\"text\": \"otua ka chineke anyi di eh agidigba eh eh eh   waciservice1  hbdrevgodwinabba\", \"x\": 8.513423919677734, \"y\": -1.2509629726409912}, {\"text\": \"t t   ma nwanne\", \"x\": 8.16879653930664, \"y\": -2.9799506664276123}, {\"text\": \"jesus igwe ezeoha\", \"x\": 8.690186500549316, \"y\": -2.4133307933807373}, {\"text\": \"i b  chukwu   b gh  mmad  you are god you re not man  i b  chukwu   b gh  mmad  i b  chukwu   b gh  mmad  i b  chukwu   b gh  mmad  na you be god almighty god you no be man oh you no be man oh\", \"x\": 9.24046516418457, \"y\": -1.6994174718856812}, {\"text\": \"nne i s r  ike o\", \"x\": 8.166871070861816, \"y\": -3.0635218620300293}, {\"text\": \"chukwu oma onyeoma na   chukwu oma onyeoma na   chukwu oma chobioma    praising god in a special\", \"x\": 9.612142562866211, \"y\": -1.7545779943466187}, {\"text\": \"igbo amaka dimkpa anagh  a ka nk  n egwu   ma a gb   egwu ichaka\", \"x\": 9.548995971679688, \"y\": -2.8703246116638184}, {\"text\": \"biri kam biri egbe bere ugo bere  nke si ibeya ebele  nkw  kwa ya\", \"x\": 9.106429100036621, \"y\": -3.1254665851593018}, {\"text\": \"oga nd  oga\", \"x\": 7.966848373413086, \"y\": -2.8958258628845215}, {\"text\": \"auntie ngo i like ya dress  omara ezigbo mma\", \"x\": 7.895358562469482, \"y\": -1.350711703300476}, {\"text\": \"happy birthday mazi iga adi ka echi makana echi adi agwu agwu  onyenweanyi gozie gi\", \"x\": 9.886940002441406, \"y\": -1.177306056022644}, {\"text\": \"ndewo nwoke  ma\", \"x\": 7.674618721008301, \"y\": -2.3467319011688232}, {\"text\": \"nd  nke m\", \"x\": 8.073623657226562, \"y\": -2.7417473793029785}, {\"text\": \"okonkwo in things fall apart   ka chukwu okike abiama chekwa gi  nye gi ahu ike n ogologo ndu\", \"x\": 9.256861686706543, \"y\": -2.512890100479126}, {\"text\": \"ezenkwobi  ny  spare parts na agbani\", \"x\": 8.884753227233887, \"y\": -2.7385964393615723}, {\"text\": \"ekele dibia gworo akidi  ya agwota ozo\", \"x\": 9.092785835266113, \"y\": -1.7319741249084473}, {\"text\": \"onye eze   udo di ri gi onye oma  more grace as you reach out to the masses in imo state  remember me kwanu e don tey na\", \"x\": 9.735589981079102, \"y\": -2.077134132385254}, {\"text\": \"biko ndi obodoukwu nwere umu asa di sharp bonario tell her pls\", \"x\": 9.249153137207031, \"y\": -3.236283779144287}, {\"text\": \"even contact his suppliers in china  chukwu mekwalu nd  ya ebele\", \"x\": 8.458008766174316, \"y\": -1.9478027820587158}, {\"text\": \"time for our  thanksgiving dance and procession  nagode jesu ibu chukwu onye dinma oluwa etobi      thanksgivingsunday  talagos\", \"x\": 9.545427322387695, \"y\": -1.0710492134094238}, {\"text\": \"lmao  chukwu gba gi ume\", \"x\": 8.8214111328125, \"y\": -1.973243236541748}, {\"text\": \"np chukwu agozi go gi   ft lucy q       dreamlounge with    tgif  turnup\", \"x\": 8.290853500366211, \"y\": -1.6083983182907104}, {\"text\": \"it s the  thefirstflight2theweekend w   x  np chukwu agozi di gi ft\", \"x\": 8.361918449401855, \"y\": -1.4802310466766357}, {\"text\": \"odogwu na agha dike na agha nara ekele odogwu na agha dike na agha nara ekele olisa kere uwa chukwu na eme nma agam buru hallelujah eburu bu gara jehovah  mercyconference2021\", \"x\": 9.344615936279297, \"y\": -1.8707613945007324}, {\"text\": \"good morning    ndi n anyi    bia ka anyi rie cc\", \"x\": 7.96691370010376, \"y\": -1.8170924186706543}, {\"text\": \"jesus  aka m d  elu e jesus  ikpere m di na  l\", \"x\": 9.220294952392578, \"y\": -2.265460252761841}, {\"text\": \"nwa na asu igbo  obi dim uto  ada kedu\", \"x\": 9.051657676696777, \"y\": -2.7491540908813477}, {\"text\": \"nna  jide ka iji\", \"x\": 8.46717357635498, \"y\": -2.5667176246643066}, {\"text\": \"ogssian nwanne  udo diri gi\", \"x\": 9.157026290893555, \"y\": -2.484273910522461}, {\"text\": \"ututu oma nna o  kedu\", \"x\": 8.147648811340332, \"y\": -2.5082383155822754}, {\"text\": \"thank you jesus  onye nwe anyi imela    goodmorningenugu  goodmorningenugu2018\", \"x\": 9.045609474182129, \"y\": -0.9522709846496582}, {\"text\": \"chai    i na agba mbo ofuma  jisie ike\", \"x\": 8.622539520263672, \"y\": -2.914754629135132}, {\"text\": \"igbo ndi oma  ndewonu  bia soro noria na oge  obinwanne  ubochim cc\", \"x\": 9.466182708740234, \"y\": -2.9737186431884766}]}}, {\"mode\": \"vega-lite\"});\n",
       "</script>"
      ],
      "text/plain": [
       "alt.Chart(...)"
      ]
     },
     "execution_count": 9,
     "metadata": {},
     "output_type": "execute_result"
    }
   ],
   "source": [
    "\n",
    "# UMAP reduces the dimensions from 1024 to 2 dimensions that we can plot\n",
    "reducer = umap.UMAP(n_neighbors=20)\n",
    "umap_embeds = reducer.fit_transform(embeddings)\n",
    "# Prepare the data to plot and interactive visualization\n",
    "# using Altair\n",
    "df_explore = pd.DataFrame(data={'text': df['ha_ig_text'][:100]})\n",
    "df_explore['x'] = umap_embeds[:,0]\n",
    "df_explore['y'] = umap_embeds[:,1]\n",
    "# Plot\n",
    "chart = alt.Chart(df_explore).mark_circle(size=60).encode(\n",
    "    x=#'x',\n",
    "    alt.X('x',\n",
    "        scale=alt.Scale(zero=False)\n",
    "    ),\n",
    "    y=\n",
    "    alt.Y('y',\n",
    "        scale=alt.Scale(zero=False)\n",
    "    ),\n",
    "    tooltip=['text']\n",
    ").properties(\n",
    "    width=700,\n",
    "    height=400\n",
    ")\n",
    "chart.interactive()"
   ]
  }
 ],
 "metadata": {
  "kernelspec": {
   "display_name": "Python 3 (ipykernel)",
   "language": "python",
   "name": "python3"
  },
  "language_info": {
   "codemirror_mode": {
    "name": "ipython",
    "version": 3
   },
   "file_extension": ".py",
   "mimetype": "text/x-python",
   "name": "python",
   "nbconvert_exporter": "python",
   "pygments_lexer": "ipython3",
   "version": "3.8.16"
  }
 },
 "nbformat": 4,
 "nbformat_minor": 1
}
